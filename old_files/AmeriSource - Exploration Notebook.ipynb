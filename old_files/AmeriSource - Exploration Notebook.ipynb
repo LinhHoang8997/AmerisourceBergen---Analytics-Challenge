{
 "cells": [
  {
   "cell_type": "markdown",
   "metadata": {},
   "source": [
    "<img src=\"http://www.integraconference.info/wp-content/uploads/2017/08/Vendor-Logo-AmerisourceBergen.png\" width=60%>"
   ]
  },
  {
   "cell_type": "code",
   "execution_count": 3,
   "metadata": {
    "ExecuteTime": {
     "end_time": "2019-05-23T02:17:35.556704Z",
     "start_time": "2019-05-23T02:17:35.541085Z"
    }
   },
   "outputs": [],
   "source": [
    "import numpy as np\n",
    "import pandas as pd\n",
    "import matplotlib.pyplot as plt\n",
    "import seaborn as sb\n",
    "from pylab import rcParams\n",
    "from pandas.api.types import is_numeric_dtype\n",
    "from scipy.stats import ttest_ind\n",
    "from sklearn.feature_selection import RFE\n",
    "# from sklearn.linear_model import LogisticRegression\n",
    "# import statsmodels.formula.api as sm\n",
    "\n",
    "import warnings\n",
    "warnings.filterwarnings('once')"
   ]
  },
  {
   "cell_type": "code",
   "execution_count": 4,
   "metadata": {
    "ExecuteTime": {
     "end_time": "2019-05-23T02:17:35.587949Z",
     "start_time": "2019-05-23T02:17:35.556704Z"
    }
   },
   "outputs": [],
   "source": [
    "%matplotlib inline\n",
    "# rcParams['figure.figsize'] = 6, 5\n",
    "# sb.set_('whitegrid')\n",
    "sb.set(font='Roboto', style='whitegrid')"
   ]
  },
  {
   "cell_type": "code",
   "execution_count": 5,
   "metadata": {
    "ExecuteTime": {
     "end_time": "2019-05-23T02:17:35.681677Z",
     "start_time": "2019-05-23T02:17:35.587949Z"
    }
   },
   "outputs": [
    {
     "ename": "FileNotFoundError",
     "evalue": "[Errno 2] File b'dataset_big.csv' does not exist: b'dataset_big.csv'",
     "output_type": "error",
     "traceback": [
      "\u001b[1;31m---------------------------------------------------------------------------\u001b[0m",
      "\u001b[1;31mFileNotFoundError\u001b[0m                         Traceback (most recent call last)",
      "\u001b[1;32m<ipython-input-5-80b7640640fc>\u001b[0m in \u001b[0;36m<module>\u001b[1;34m\u001b[0m\n\u001b[0;32m      1\u001b[0m \u001b[0mdtype_dic\u001b[0m\u001b[1;33m=\u001b[0m \u001b[1;33m{\u001b[0m\u001b[1;34m'GCNSEQ_NBR'\u001b[0m\u001b[1;33m:\u001b[0m\u001b[0mstr\u001b[0m\u001b[1;33m,\u001b[0m\u001b[1;34m'NDC'\u001b[0m\u001b[1;33m:\u001b[0m\u001b[0mstr\u001b[0m\u001b[1;33m}\u001b[0m\u001b[1;33m\u001b[0m\u001b[1;33m\u001b[0m\u001b[0m\n\u001b[1;32m----> 2\u001b[1;33m \u001b[0mdata\u001b[0m \u001b[1;33m=\u001b[0m \u001b[0mpd\u001b[0m\u001b[1;33m.\u001b[0m\u001b[0mread_csv\u001b[0m\u001b[1;33m(\u001b[0m\u001b[1;34m'dataset_big.csv'\u001b[0m\u001b[1;33m,\u001b[0m \u001b[0mheader\u001b[0m\u001b[1;33m=\u001b[0m\u001b[1;36m0\u001b[0m\u001b[1;33m,\u001b[0m \u001b[0mdtype\u001b[0m\u001b[1;33m=\u001b[0m\u001b[0mdtype_dic\u001b[0m\u001b[1;33m)\u001b[0m\u001b[1;33m\u001b[0m\u001b[1;33m\u001b[0m\u001b[0m\n\u001b[0m",
      "\u001b[1;32mc:\\users\\linhd\\appdata\\local\\programs\\python\\python37-32\\lib\\site-packages\\pandas\\io\\parsers.py\u001b[0m in \u001b[0;36mparser_f\u001b[1;34m(filepath_or_buffer, sep, delimiter, header, names, index_col, usecols, squeeze, prefix, mangle_dupe_cols, dtype, engine, converters, true_values, false_values, skipinitialspace, skiprows, skipfooter, nrows, na_values, keep_default_na, na_filter, verbose, skip_blank_lines, parse_dates, infer_datetime_format, keep_date_col, date_parser, dayfirst, iterator, chunksize, compression, thousands, decimal, lineterminator, quotechar, quoting, doublequote, escapechar, comment, encoding, dialect, tupleize_cols, error_bad_lines, warn_bad_lines, delim_whitespace, low_memory, memory_map, float_precision)\u001b[0m\n\u001b[0;32m    700\u001b[0m                     skip_blank_lines=skip_blank_lines)\n\u001b[0;32m    701\u001b[0m \u001b[1;33m\u001b[0m\u001b[0m\n\u001b[1;32m--> 702\u001b[1;33m         \u001b[1;32mreturn\u001b[0m \u001b[0m_read\u001b[0m\u001b[1;33m(\u001b[0m\u001b[0mfilepath_or_buffer\u001b[0m\u001b[1;33m,\u001b[0m \u001b[0mkwds\u001b[0m\u001b[1;33m)\u001b[0m\u001b[1;33m\u001b[0m\u001b[1;33m\u001b[0m\u001b[0m\n\u001b[0m\u001b[0;32m    703\u001b[0m \u001b[1;33m\u001b[0m\u001b[0m\n\u001b[0;32m    704\u001b[0m     \u001b[0mparser_f\u001b[0m\u001b[1;33m.\u001b[0m\u001b[0m__name__\u001b[0m \u001b[1;33m=\u001b[0m \u001b[0mname\u001b[0m\u001b[1;33m\u001b[0m\u001b[1;33m\u001b[0m\u001b[0m\n",
      "\u001b[1;32mc:\\users\\linhd\\appdata\\local\\programs\\python\\python37-32\\lib\\site-packages\\pandas\\io\\parsers.py\u001b[0m in \u001b[0;36m_read\u001b[1;34m(filepath_or_buffer, kwds)\u001b[0m\n\u001b[0;32m    427\u001b[0m \u001b[1;33m\u001b[0m\u001b[0m\n\u001b[0;32m    428\u001b[0m     \u001b[1;31m# Create the parser.\u001b[0m\u001b[1;33m\u001b[0m\u001b[1;33m\u001b[0m\u001b[1;33m\u001b[0m\u001b[0m\n\u001b[1;32m--> 429\u001b[1;33m     \u001b[0mparser\u001b[0m \u001b[1;33m=\u001b[0m \u001b[0mTextFileReader\u001b[0m\u001b[1;33m(\u001b[0m\u001b[0mfilepath_or_buffer\u001b[0m\u001b[1;33m,\u001b[0m \u001b[1;33m**\u001b[0m\u001b[0mkwds\u001b[0m\u001b[1;33m)\u001b[0m\u001b[1;33m\u001b[0m\u001b[1;33m\u001b[0m\u001b[0m\n\u001b[0m\u001b[0;32m    430\u001b[0m \u001b[1;33m\u001b[0m\u001b[0m\n\u001b[0;32m    431\u001b[0m     \u001b[1;32mif\u001b[0m \u001b[0mchunksize\u001b[0m \u001b[1;32mor\u001b[0m \u001b[0miterator\u001b[0m\u001b[1;33m:\u001b[0m\u001b[1;33m\u001b[0m\u001b[1;33m\u001b[0m\u001b[0m\n",
      "\u001b[1;32mc:\\users\\linhd\\appdata\\local\\programs\\python\\python37-32\\lib\\site-packages\\pandas\\io\\parsers.py\u001b[0m in \u001b[0;36m__init__\u001b[1;34m(self, f, engine, **kwds)\u001b[0m\n\u001b[0;32m    893\u001b[0m             \u001b[0mself\u001b[0m\u001b[1;33m.\u001b[0m\u001b[0moptions\u001b[0m\u001b[1;33m[\u001b[0m\u001b[1;34m'has_index_names'\u001b[0m\u001b[1;33m]\u001b[0m \u001b[1;33m=\u001b[0m \u001b[0mkwds\u001b[0m\u001b[1;33m[\u001b[0m\u001b[1;34m'has_index_names'\u001b[0m\u001b[1;33m]\u001b[0m\u001b[1;33m\u001b[0m\u001b[1;33m\u001b[0m\u001b[0m\n\u001b[0;32m    894\u001b[0m \u001b[1;33m\u001b[0m\u001b[0m\n\u001b[1;32m--> 895\u001b[1;33m         \u001b[0mself\u001b[0m\u001b[1;33m.\u001b[0m\u001b[0m_make_engine\u001b[0m\u001b[1;33m(\u001b[0m\u001b[0mself\u001b[0m\u001b[1;33m.\u001b[0m\u001b[0mengine\u001b[0m\u001b[1;33m)\u001b[0m\u001b[1;33m\u001b[0m\u001b[1;33m\u001b[0m\u001b[0m\n\u001b[0m\u001b[0;32m    896\u001b[0m \u001b[1;33m\u001b[0m\u001b[0m\n\u001b[0;32m    897\u001b[0m     \u001b[1;32mdef\u001b[0m \u001b[0mclose\u001b[0m\u001b[1;33m(\u001b[0m\u001b[0mself\u001b[0m\u001b[1;33m)\u001b[0m\u001b[1;33m:\u001b[0m\u001b[1;33m\u001b[0m\u001b[1;33m\u001b[0m\u001b[0m\n",
      "\u001b[1;32mc:\\users\\linhd\\appdata\\local\\programs\\python\\python37-32\\lib\\site-packages\\pandas\\io\\parsers.py\u001b[0m in \u001b[0;36m_make_engine\u001b[1;34m(self, engine)\u001b[0m\n\u001b[0;32m   1120\u001b[0m     \u001b[1;32mdef\u001b[0m \u001b[0m_make_engine\u001b[0m\u001b[1;33m(\u001b[0m\u001b[0mself\u001b[0m\u001b[1;33m,\u001b[0m \u001b[0mengine\u001b[0m\u001b[1;33m=\u001b[0m\u001b[1;34m'c'\u001b[0m\u001b[1;33m)\u001b[0m\u001b[1;33m:\u001b[0m\u001b[1;33m\u001b[0m\u001b[1;33m\u001b[0m\u001b[0m\n\u001b[0;32m   1121\u001b[0m         \u001b[1;32mif\u001b[0m \u001b[0mengine\u001b[0m \u001b[1;33m==\u001b[0m \u001b[1;34m'c'\u001b[0m\u001b[1;33m:\u001b[0m\u001b[1;33m\u001b[0m\u001b[1;33m\u001b[0m\u001b[0m\n\u001b[1;32m-> 1122\u001b[1;33m             \u001b[0mself\u001b[0m\u001b[1;33m.\u001b[0m\u001b[0m_engine\u001b[0m \u001b[1;33m=\u001b[0m \u001b[0mCParserWrapper\u001b[0m\u001b[1;33m(\u001b[0m\u001b[0mself\u001b[0m\u001b[1;33m.\u001b[0m\u001b[0mf\u001b[0m\u001b[1;33m,\u001b[0m \u001b[1;33m**\u001b[0m\u001b[0mself\u001b[0m\u001b[1;33m.\u001b[0m\u001b[0moptions\u001b[0m\u001b[1;33m)\u001b[0m\u001b[1;33m\u001b[0m\u001b[1;33m\u001b[0m\u001b[0m\n\u001b[0m\u001b[0;32m   1123\u001b[0m         \u001b[1;32melse\u001b[0m\u001b[1;33m:\u001b[0m\u001b[1;33m\u001b[0m\u001b[1;33m\u001b[0m\u001b[0m\n\u001b[0;32m   1124\u001b[0m             \u001b[1;32mif\u001b[0m \u001b[0mengine\u001b[0m \u001b[1;33m==\u001b[0m \u001b[1;34m'python'\u001b[0m\u001b[1;33m:\u001b[0m\u001b[1;33m\u001b[0m\u001b[1;33m\u001b[0m\u001b[0m\n",
      "\u001b[1;32mc:\\users\\linhd\\appdata\\local\\programs\\python\\python37-32\\lib\\site-packages\\pandas\\io\\parsers.py\u001b[0m in \u001b[0;36m__init__\u001b[1;34m(self, src, **kwds)\u001b[0m\n\u001b[0;32m   1851\u001b[0m         \u001b[0mkwds\u001b[0m\u001b[1;33m[\u001b[0m\u001b[1;34m'usecols'\u001b[0m\u001b[1;33m]\u001b[0m \u001b[1;33m=\u001b[0m \u001b[0mself\u001b[0m\u001b[1;33m.\u001b[0m\u001b[0musecols\u001b[0m\u001b[1;33m\u001b[0m\u001b[1;33m\u001b[0m\u001b[0m\n\u001b[0;32m   1852\u001b[0m \u001b[1;33m\u001b[0m\u001b[0m\n\u001b[1;32m-> 1853\u001b[1;33m         \u001b[0mself\u001b[0m\u001b[1;33m.\u001b[0m\u001b[0m_reader\u001b[0m \u001b[1;33m=\u001b[0m \u001b[0mparsers\u001b[0m\u001b[1;33m.\u001b[0m\u001b[0mTextReader\u001b[0m\u001b[1;33m(\u001b[0m\u001b[0msrc\u001b[0m\u001b[1;33m,\u001b[0m \u001b[1;33m**\u001b[0m\u001b[0mkwds\u001b[0m\u001b[1;33m)\u001b[0m\u001b[1;33m\u001b[0m\u001b[1;33m\u001b[0m\u001b[0m\n\u001b[0m\u001b[0;32m   1854\u001b[0m         \u001b[0mself\u001b[0m\u001b[1;33m.\u001b[0m\u001b[0munnamed_cols\u001b[0m \u001b[1;33m=\u001b[0m \u001b[0mself\u001b[0m\u001b[1;33m.\u001b[0m\u001b[0m_reader\u001b[0m\u001b[1;33m.\u001b[0m\u001b[0munnamed_cols\u001b[0m\u001b[1;33m\u001b[0m\u001b[1;33m\u001b[0m\u001b[0m\n\u001b[0;32m   1855\u001b[0m \u001b[1;33m\u001b[0m\u001b[0m\n",
      "\u001b[1;32mpandas\\_libs\\parsers.pyx\u001b[0m in \u001b[0;36mpandas._libs.parsers.TextReader.__cinit__\u001b[1;34m()\u001b[0m\n",
      "\u001b[1;32mpandas\\_libs\\parsers.pyx\u001b[0m in \u001b[0;36mpandas._libs.parsers.TextReader._setup_parser_source\u001b[1;34m()\u001b[0m\n",
      "\u001b[1;31mFileNotFoundError\u001b[0m: [Errno 2] File b'dataset_big.csv' does not exist: b'dataset_big.csv'"
     ]
    }
   ],
   "source": [
    "dtype_dic= {'GCNSEQ_NBR':str,'NDC':str}\n",
    "data = pd.read_csv('dataset_big.csv', header=0, dtype=dtype_dic)"
   ]
  },
  {
   "cell_type": "code",
   "execution_count": null,
   "metadata": {
    "ExecuteTime": {
     "end_time": "2019-05-23T02:17:35.681677Z",
     "start_time": "2019-05-23T02:17:35.575Z"
    },
    "scrolled": true
   },
   "outputs": [],
   "source": [
    "data.info()"
   ]
  },
  {
   "cell_type": "code",
   "execution_count": null,
   "metadata": {
    "ExecuteTime": {
     "end_time": "2019-05-23T02:17:35.681677Z",
     "start_time": "2019-05-23T02:17:35.579Z"
    }
   },
   "outputs": [],
   "source": [
    "# Set up basic functions\n",
    "# Excluding outliers: +- 3 SDEV\n",
    "# def removeOutliers(data,field):\n",
    "#     result = data[np.abs(data[field]-data[field].mean()) <= (3*data[field].std())]\n",
    "#     return result"
   ]
  },
  {
   "cell_type": "code",
   "execution_count": null,
   "metadata": {
    "ExecuteTime": {
     "end_time": "2019-05-23T02:17:35.681677Z",
     "start_time": "2019-05-23T02:17:35.583Z"
    }
   },
   "outputs": [],
   "source": [
    "data1 = data[data['PURCH_QTY_NDC_26WKS_MTRC']>0].reset_index().reset_index()\n",
    "data1 = data1.drop(columns=['index', 'ID'])\n",
    "data1.rename(columns={'level_0': 'ID'}, inplace=True)\n",
    "data = data1"
   ]
  },
  {
   "cell_type": "markdown",
   "metadata": {},
   "source": [
    "# Create measures for leakage"
   ]
  },
  {
   "cell_type": "markdown",
   "metadata": {},
   "source": [
    "### Clarifying fields/variables\n",
    "Even with the help of the accompanying dictionary, it is good to clarify, with reasonable assumptions, what certain fields and columns mean in the context of this dataset.  \n",
    "\n",
    "* MTRC is the unit of measure for each unique NDC. \n",
    "* As one can see that  DSPN units can be a real number with decimal points, this is reasonable.\n",
    "* DSPN and PURCH are in the same unit.\n",
    "* COGS_PRC_MTRC is cost **the pharmacy pays** per unit, so there is no need for conversion.\n",
    "* GCN and NDC are seemingly equivalent, but data is grouped by GCN number **for each pharmacy**. Extra caution should be used when handling these fields.\n",
    "\n",
    "### Leakage is represented by share of purchase for a type of drug\n",
    "* Percentage: \n",
    "    - Percentage of (COGS of an NDC bought from AmerisourceBergen) to (COGS of dispensing units)\n",
    "* If grouped by any variable, COGS needs to be aggregated before doing an average (avoiding average of averages)\n",
    "* Formula: PURCH SALES / DSPN COGS ? **[Percentage will be a ratio for dollars, not quantities]**\n",
    "* Columns are named \"perc_?\"\n",
    "* (Tentative) Leakage can be represented as: 1 - Perc"
   ]
  },
  {
   "cell_type": "code",
   "execution_count": null,
   "metadata": {
    "ExecuteTime": {
     "end_time": "2019-05-23T02:17:35.681677Z",
     "start_time": "2019-05-23T02:17:35.588Z"
    }
   },
   "outputs": [],
   "source": [
    "#Calculate and insert sales for purch\n",
    "unit_cost = data['COGS_PRC_MTRC']\n",
    "data.loc[:,'sales_1w'] = Series(data['PURCH_QTY_NDC_1WK_MTRC']*unit_cost, dtype='float32')\n",
    "data.loc[:,'sales_4w'] = Series(data['PURCH_QTY_NDC_4WKS_MTRC']*unit_cost, dtype='float32')\n",
    "data.loc[:,'sales_13w'] = Series(data['PURCH_QTY_NDC_13WKS_MTRC']*unit_cost, dtype='float32')\n",
    "data.loc[:,'sales_26w'] = Series(data['PURCH_QTY_NDC_26WKS_MTRC']*unit_cost, dtype='float32')\n",
    "data.loc[:,'sales_gcn_1w'] = Series(data['PURCH_QTY_GCN_1WK_MTRC']*unit_cost, dtype='float32')\n",
    "data.loc[:,'sales_gcn_4w'] = Series(data['PURCH_QTY_GCN_4WKS_MTRC']*unit_cost, dtype='float32')\n",
    "data.loc[:,'sales_gcn_13w'] = Series(data['PURCH_QTY_GCN_13WKS_MTRC']*unit_cost, dtype='float32')\n",
    "data.loc[:,'sales_gcn_26w'] = Series(data['PURCH_QTY_GCN_26WKS_MTRC']*unit_cost, dtype='float32')\n",
    "data.loc[:,'leak_dol_26w'] = Series(data['DSPN_COGS_NDC_26WKS']-data['sales_26w'])"
   ]
  },
  {
   "cell_type": "code",
   "execution_count": null,
   "metadata": {
    "ExecuteTime": {
     "end_time": "2019-05-23T02:17:35.681677Z",
     "start_time": "2019-05-23T02:17:35.594Z"
    }
   },
   "outputs": [],
   "source": [
    "def getPerc(data):    \n",
    "    data.loc[:,'perc_1w'] = Series(np.where(data['DSPN_QTY_NDC_1WK'] != 0,data['sales_1w']/data['DSPN_COGS_NDC_1WK'],0), dtype='float32')\n",
    "    data.loc[:,'perc_4w'] = Series(np.where(data['DSPN_QTY_NDC_4WKS'] != 0,data['sales_4w']/data['DSPN_COGS_NDC_4WKS'],0), dtype='float32')\n",
    "    data.loc[:,'perc_13w'] = Series(np.where(data['DSPN_QTY_NDC_13WKS'] != 0,data['sales_13w']/data['DSPN_COGS_NDC_13WKS'],0), dtype='float32')\n",
    "    data.loc[:,'perc_26w'] = Series(np.where(data['DSPN_QTY_NDC_26WKS'] != 0,data['sales_26w']/data['DSPN_COGS_NDC_26WKS'],0), dtype='float32')\n",
    "    data.loc[:,'leak_26w'] = Series(1 - data['perc_26w'])\n",
    "def getPercGCN(data):\n",
    "    data.loc[:,'perc_gcn_1w'] = Series(np.where(data['DSPN_QTY_GCN_1WK'] != 0,data['sales_gcn_1w']/data['DSPN_COGS_GCN_1WK'],0), dtype='float32')\n",
    "    data.loc[:,'perc_gcn_4w'] = Series(np.where(data['DSPN_QTY_GCN_4WKS'] != 0,data['sales_gcn_4w']/data['DSPN_COGS_GCN_4WKS'],0), dtype='float32')\n",
    "    data.loc[:,'perc_gcn_13w'] = Series(np.where(data['DSPN_QTY_GCN_13WKS'] != 0,data['sales_gcn_13w']/data['DSPN_COGS_GCN_13WKS'],0), dtype='float32')\n",
    "    data.loc[:,'perc_gcn_26w'] = Series(np.where(data['DSPN_QTY_GCN_26WKS'] != 0,data['sales_gcn_26w']/data['DSPN_COGS_GCN_26WKS'],0), dtype='float32')"
   ]
  },
  {
   "cell_type": "markdown",
   "metadata": {},
   "source": [
    "### Total Sales Leak"
   ]
  },
  {
   "cell_type": "code",
   "execution_count": null,
   "metadata": {
    "ExecuteTime": {
     "end_time": "2019-05-23T02:17:35.697297Z",
     "start_time": "2019-05-23T02:17:35.602Z"
    }
   },
   "outputs": [],
   "source": [
    "data.leak_dol_26w.sum()"
   ]
  },
  {
   "cell_type": "markdown",
   "metadata": {},
   "source": [
    "# Examine Pharmacies first"
   ]
  },
  {
   "cell_type": "code",
   "execution_count": null,
   "metadata": {
    "ExecuteTime": {
     "end_time": "2019-05-23T02:17:35.697297Z",
     "start_time": "2019-05-23T02:17:35.612Z"
    }
   },
   "outputs": [],
   "source": [
    "data_bypharm = data.groupby('PHRMCY_NAME').sum().reset_index()"
   ]
  },
  {
   "cell_type": "code",
   "execution_count": null,
   "metadata": {
    "ExecuteTime": {
     "end_time": "2019-05-23T02:17:35.697297Z",
     "start_time": "2019-05-23T02:17:35.618Z"
    }
   },
   "outputs": [],
   "source": [
    "#now you do the percentages on the dollar amount\n",
    "getPerc(data_bypharm)"
   ]
  },
  {
   "cell_type": "code",
   "execution_count": null,
   "metadata": {
    "ExecuteTime": {
     "end_time": "2019-05-23T02:17:35.697297Z",
     "start_time": "2019-05-23T02:17:35.624Z"
    }
   },
   "outputs": [],
   "source": [
    "#remove outliers\n",
    "data_bypharm_excl = removeOutliers(data_bypharm,'perc_26w')"
   ]
  },
  {
   "cell_type": "code",
   "execution_count": null,
   "metadata": {
    "ExecuteTime": {
     "end_time": "2019-05-23T02:17:35.697297Z",
     "start_time": "2019-05-23T02:17:35.629Z"
    }
   },
   "outputs": [],
   "source": [
    "#Number of unique pharmacies?\n",
    "print(\"Number of unique pharmacies (exl. outliers) is: \" + str(len(data_bypharm_excl)))\n",
    "\n",
    "print(\"{:.4}% of values remain.\".format(len(data_bypharm_excl)/len(data_bypharm)*100))"
   ]
  },
  {
   "cell_type": "markdown",
   "metadata": {},
   "source": [
    "# Pharmacies"
   ]
  },
  {
   "cell_type": "code",
   "execution_count": null,
   "metadata": {
    "ExecuteTime": {
     "end_time": "2019-05-23T02:17:35.697297Z",
     "start_time": "2019-05-23T02:17:35.637Z"
    }
   },
   "outputs": [],
   "source": [
    "data_bypharm.sort_values(by='leak_dol_26w', ascending=False).head(5)"
   ]
  },
  {
   "cell_type": "markdown",
   "metadata": {},
   "source": [
    "* Dispensing means \"sold to patients\". As you can see in the table, due to existing stock, pharmacies naturally buy fewer new drugs in the short term. \n",
    "<br> _However, this means that it is difficult to use changes in purchase percentages to evaluate leakage._\n",
    "* Some pharmacies bought more than they actually dispensed, but these are in the minority."
   ]
  },
  {
   "cell_type": "code",
   "execution_count": null,
   "metadata": {
    "ExecuteTime": {
     "end_time": "2019-05-23T02:17:35.697297Z",
     "start_time": "2019-05-23T02:17:35.644Z"
    },
    "scrolled": true
   },
   "outputs": [],
   "source": [
    "leak_bypharm = data_bypharm[data_bypharm.perc_26w < 0.9]\n",
    "print(\"{:.4}% of pharmacies dispensed more than they have bought from AB.\".format(len(leak_bypharm)/len(data_bypharm)*100))\n",
    "print(\"This means almost all pharmacies leak in some capacity\")"
   ]
  },
  {
   "cell_type": "markdown",
   "metadata": {},
   "source": [
    "*Consider only those less than or smaller than 1 and larger than 0 (0 suggests no relationship), as pharmacies that overbought should not be a concern*"
   ]
  },
  {
   "cell_type": "code",
   "execution_count": null,
   "metadata": {
    "ExecuteTime": {
     "end_time": "2019-05-23T02:17:35.712919Z",
     "start_time": "2019-05-23T02:17:35.651Z"
    }
   },
   "outputs": [],
   "source": [
    "#distribution of 26-week percentage of pharmacies that leak\n",
    "leak_bypharm = data_bypharm_excl[data_bypharm_excl.perc_26w <= 1]\n",
    "leak_bypharm = leak_bypharm[leak_bypharm.perc_26w >= 0] \n",
    "\n",
    "# sb.distplot(leak_bypharm['perc_26w'], kde=True, \n",
    "#              bins=20, color = 'green',)\n",
    "plt.hist(leak_bypharm['perc_26w'], bins = 20)\n",
    "plt.xlabel(\"26-week Perc\")\n",
    "plt.ylabel(\"Number of pharmacies\")\n",
    "leak_bypharm['perc_26w'].describe()"
   ]
  },
  {
   "cell_type": "markdown",
   "metadata": {},
   "source": [
    "## Group data by NDCs and NDC Descriptions"
   ]
  },
  {
   "cell_type": "code",
   "execution_count": null,
   "metadata": {
    "ExecuteTime": {
     "end_time": "2019-05-23T02:17:35.712919Z",
     "start_time": "2019-05-23T02:17:35.659Z"
    }
   },
   "outputs": [],
   "source": [
    "data_byNDCdesc = data.groupby('NDC_DESC').sum().reset_index()\n",
    "getPerc(data_byNDCdesc)\n",
    "\n",
    "data_byNDC = data.groupby('NDC').sum().reset_index()\n",
    "getPerc(data_byNDC)\n",
    "\n",
    "print(data_byNDCdesc.leak_26w.describe())\n",
    "print('')\n",
    "print(data_byNDC.leak_26w.describe())"
   ]
  },
  {
   "cell_type": "markdown",
   "metadata": {},
   "source": [
    "INSIGHT?: Percs per NDC are smaller -> There are \"leaky\" NDCs that are not bought even though the whole category is well-bought"
   ]
  },
  {
   "cell_type": "code",
   "execution_count": null,
   "metadata": {
    "ExecuteTime": {
     "end_time": "2019-05-23T02:17:35.712919Z",
     "start_time": "2019-05-23T02:17:35.664Z"
    },
    "scrolled": false
   },
   "outputs": [],
   "source": [
    "toplot = data_byNDCdesc[(data_byNDCdesc.perc_26w > 0) & (data_byNDCdesc.perc_26w <= 1)]\n",
    "# toplot2 = data_byNDC[data_byNDC.perc_26w > 0]\n",
    "# sb.distplot(toplot['perc_26w'], bins=20)\n",
    "x = pd.Series(toplot['leak_26w'])\n",
    "plt.figure(figsize=(7.5,2.5))\n",
    "plt.hist(x, bins=np.linspace(0, 1, 21), histtype='barstacked')\n",
    "plt.xticks(np.linspace(0, 1, 21), rotation=90)\n",
    "plt.xlabel(\"26-week Leak\")\n",
    "plt.ylabel(\"Frequency of GCNs\");\n"
   ]
  },
  {
   "cell_type": "code",
   "execution_count": null,
   "metadata": {
    "ExecuteTime": {
     "end_time": "2019-05-23T02:17:35.712919Z",
     "start_time": "2019-05-23T02:17:35.670Z"
    }
   },
   "outputs": [],
   "source": [
    "toplot2 = data_byNDC\n",
    "# sb.distplot(toplot['perc_26w'], bins=20)\n",
    "y = toplot2['leak_26w']\n",
    "plt.figure(figsize=(7.5,2.5))\n",
    "plt.hist(y, bins=np.linspace(0, 1, 21), histtype='barstacked', color='green')\n",
    "plt.xticks(np.linspace(0, 1, 21), rotation=90)\n",
    "plt.xlabel(\"26-week Leak\")\n",
    "plt.ylabel(\"Frequency of NDCs\");"
   ]
  },
  {
   "cell_type": "code",
   "execution_count": null,
   "metadata": {
    "ExecuteTime": {
     "end_time": "2019-05-23T02:17:35.712919Z",
     "start_time": "2019-05-23T02:17:35.675Z"
    }
   },
   "outputs": [],
   "source": [
    "data_byNDCdesc.head(3)"
   ]
  },
  {
   "cell_type": "code",
   "execution_count": null,
   "metadata": {
    "ExecuteTime": {
     "end_time": "2019-05-23T02:17:35.712919Z",
     "start_time": "2019-05-23T02:17:35.679Z"
    }
   },
   "outputs": [],
   "source": [
    "toplot = toplot.sort_values(by='leak_26w',ascending=False).reset_index()\n",
    "\n",
    "plt.figure(figsize=(10,20))\n",
    "toplot['leak_26w'].plot(kind='barh')\n",
    "plt.yticks(toplot.index, toplot['NDC_DESC']);\n",
    "# toplot['NDC_DESC']\n",
    "# https://stackoverflow.com/questions/20548727/how-to-determine-the-order-of-bars-in-a-matplotlib-bar-chart"
   ]
  },
  {
   "cell_type": "markdown",
   "metadata": {},
   "source": [
    "**Chọn mốc cắt theo ý mình**\n",
    "\n",
    "Sau khi xóa tất cả các PURCH quantity nào mà bằng 0 -> Leak từ 0 -> 40% (Purc percentage khoàng 60-70% chỉ còn có 2 NDC)\n"
   ]
  },
  {
   "cell_type": "code",
   "execution_count": 6,
   "metadata": {
    "ExecuteTime": {
     "end_time": "2019-05-23T02:17:35.837889Z",
     "start_time": "2019-05-23T02:17:35.806647Z"
    },
    "scrolled": true
   },
   "outputs": [
    {
     "ename": "NameError",
     "evalue": "name 'data' is not defined",
     "output_type": "error",
     "traceback": [
      "\u001b[1;31m---------------------------------------------------------------------------\u001b[0m",
      "\u001b[1;31mNameError\u001b[0m                                 Traceback (most recent call last)",
      "\u001b[1;32m<ipython-input-6-e666f7c861fd>\u001b[0m in \u001b[0;36m<module>\u001b[1;34m\u001b[0m\n\u001b[1;32m----> 1\u001b[1;33m \u001b[0mgcnseq_desc\u001b[0m \u001b[1;33m=\u001b[0m \u001b[0mdata\u001b[0m\u001b[1;33m[\u001b[0m\u001b[1;33m[\u001b[0m\u001b[1;34m'GCNSEQ_DESC'\u001b[0m\u001b[1;33m,\u001b[0m\u001b[1;34m'NDC_DESC'\u001b[0m\u001b[1;33m]\u001b[0m\u001b[1;33m]\u001b[0m\u001b[1;33m.\u001b[0m\u001b[0mdrop_duplicates\u001b[0m\u001b[1;33m(\u001b[0m\u001b[1;34m'NDC_DESC'\u001b[0m\u001b[1;33m)\u001b[0m\u001b[1;33m\u001b[0m\u001b[1;33m\u001b[0m\u001b[0m\n\u001b[0m\u001b[0;32m      2\u001b[0m \u001b[0mnew\u001b[0m \u001b[1;33m=\u001b[0m \u001b[0mdata_byNDCdesc\u001b[0m\u001b[1;33m.\u001b[0m\u001b[0mmerge\u001b[0m\u001b[1;33m(\u001b[0m\u001b[0mgcnseq_desc\u001b[0m\u001b[1;33m,\u001b[0m \u001b[0mon\u001b[0m\u001b[1;33m=\u001b[0m\u001b[1;34m'NDC_DESC'\u001b[0m\u001b[1;33m,\u001b[0m\u001b[0mhow\u001b[0m\u001b[1;33m=\u001b[0m\u001b[1;34m'left'\u001b[0m\u001b[1;33m)\u001b[0m\u001b[1;33m\u001b[0m\u001b[1;33m\u001b[0m\u001b[0m\n\u001b[0;32m      3\u001b[0m \u001b[0mnew\u001b[0m\u001b[1;33m[\u001b[0m\u001b[1;33m[\u001b[0m\u001b[1;34m'NDC_DESC'\u001b[0m\u001b[1;33m,\u001b[0m\u001b[1;34m'leak_dol_26w'\u001b[0m\u001b[1;33m,\u001b[0m\u001b[1;34m'GCNSEQ_DESC'\u001b[0m\u001b[1;33m]\u001b[0m\u001b[1;33m]\u001b[0m\u001b[1;33m.\u001b[0m\u001b[0mto_csv\u001b[0m\u001b[1;33m(\u001b[0m\u001b[1;34m'NDCdesc_byleakdol.csv'\u001b[0m\u001b[1;33m)\u001b[0m\u001b[1;33m\u001b[0m\u001b[1;33m\u001b[0m\u001b[0m\n",
      "\u001b[1;31mNameError\u001b[0m: name 'data' is not defined"
     ]
    }
   ],
   "source": [
    "gcnseq_desc = data[['GCNSEQ_DESC','NDC_DESC']].drop_duplicates('NDC_DESC')\n",
    "new = data_byNDCdesc.merge(gcnseq_desc, on='NDC_DESC',how='left')\n",
    "new[['NDC_DESC','leak_dol_26w','GCNSEQ_DESC']].to_csv('NDCdesc_byleakdol.csv')"
   ]
  },
  {
   "cell_type": "markdown",
   "metadata": {},
   "source": [
    "## Examining Drug Make-up"
   ]
  },
  {
   "cell_type": "code",
   "execution_count": null,
   "metadata": {
    "ExecuteTime": {
     "end_time": "2019-05-23T02:17:35.837889Z",
     "start_time": "2019-05-23T02:17:35.693Z"
    }
   },
   "outputs": [],
   "source": [
    "data.loc[:,'GCNSEQ_DESC'] = data['GCNSEQ_DESC'].str.replace('\"','')\n",
    "data.loc[:,'GCNSEQ_DESC'] = data['GCNSEQ_DESC'].str.replace('(3)','')\n",
    "data.loc[:,'GCNSEQ_DESC'] = data['GCNSEQ_DESC'].str.replace('()','')"
   ]
  },
  {
   "cell_type": "code",
   "execution_count": null,
   "metadata": {
    "ExecuteTime": {
     "end_time": "2019-05-23T02:17:35.837889Z",
     "start_time": "2019-05-23T02:17:35.700Z"
    }
   },
   "outputs": [],
   "source": [
    "dummies_desc = data['GCNSEQ_DESC'].str.get_dummies(sep=' ')"
   ]
  },
  {
   "cell_type": "code",
   "execution_count": null,
   "metadata": {
    "ExecuteTime": {
     "end_time": "2019-05-23T02:17:35.837889Z",
     "start_time": "2019-05-23T02:17:35.707Z"
    }
   },
   "outputs": [],
   "source": [
    "dummies_desc = dummies_desc.reset_index()\n",
    "dummies_desc.rename(columns={'index': 'ID'}, inplace=True);"
   ]
  },
  {
   "cell_type": "code",
   "execution_count": null,
   "metadata": {
    "ExecuteTime": {
     "end_time": "2019-05-23T02:17:35.837889Z",
     "start_time": "2019-05-23T02:17:35.714Z"
    }
   },
   "outputs": [],
   "source": [
    "dummies_brand = data['GCNSEQ_DESC'].str.get_dummies(sep=' ')"
   ]
  },
  {
   "cell_type": "code",
   "execution_count": null,
   "metadata": {
    "ExecuteTime": {
     "end_time": "2019-05-23T02:17:35.837889Z",
     "start_time": "2019-05-23T02:17:35.725Z"
    }
   },
   "outputs": [],
   "source": [
    "data_merged = data.merge(dummies_desc,on='ID', how='left');"
   ]
  },
  {
   "cell_type": "markdown",
   "metadata": {},
   "source": [
    "### Leakage with dummy variables "
   ]
  },
  {
   "cell_type": "code",
   "execution_count": null,
   "metadata": {
    "ExecuteTime": {
     "end_time": "2019-05-23T02:17:35.837889Z",
     "start_time": "2019-05-23T02:17:35.740Z"
    }
   },
   "outputs": [],
   "source": [
    "data_count = data_merged.iloc[:,5:193]\n",
    "data_count['cogs_26w'] = data_merged['DSPN_COGS_NDC_26WKS']\n",
    "data_count['sales_26w'] = data_merged['sales_26w']\n",
    "data_count['price'] = data_merged['COGS_PRC_MTRC']"
   ]
  },
  {
   "cell_type": "code",
   "execution_count": null,
   "metadata": {
    "ExecuteTime": {
     "end_time": "2019-05-23T02:17:35.853511Z",
     "start_time": "2019-05-23T02:17:35.748Z"
    }
   },
   "outputs": [],
   "source": [
    "data_count.to_csv('data_spss.csv')"
   ]
  },
  {
   "cell_type": "code",
   "execution_count": null,
   "metadata": {
    "ExecuteTime": {
     "end_time": "2019-05-23T02:17:35.853511Z",
     "start_time": "2019-05-23T02:17:35.754Z"
    }
   },
   "outputs": [],
   "source": [
    "getPerc(data_count)"
   ]
  },
  {
   "cell_type": "code",
   "execution_count": null,
   "metadata": {
    "ExecuteTime": {
     "end_time": "2019-05-23T02:17:35.853511Z",
     "start_time": "2019-05-23T02:17:35.759Z"
    }
   },
   "outputs": [],
   "source": [
    "data_count"
   ]
  },
  {
   "cell_type": "code",
   "execution_count": null,
   "metadata": {
    "ExecuteTime": {
     "end_time": "2019-05-23T02:17:35.853511Z",
     "start_time": "2019-05-23T02:17:35.765Z"
    }
   },
   "outputs": [],
   "source": [
    "data_count['cogs_26w'];"
   ]
  },
  {
   "cell_type": "code",
   "execution_count": null,
   "metadata": {
    "ExecuteTime": {
     "end_time": "2019-05-23T02:17:35.853511Z",
     "start_time": "2019-05-23T02:17:35.770Z"
    }
   },
   "outputs": [],
   "source": [
    "d = {}\n",
    "for i in data_count:\n",
    "    if i not in ['cogs_26w','sales_26w','price']:\n",
    "        cogs = data_count[data_count[i] == 1]['cogs_26w'].sum()\n",
    "        sales = data_count[data_count[i] == 1]['sales_26w'].sum()\n",
    "        d[i] = 1 - sales/cogs"
   ]
  },
  {
   "cell_type": "code",
   "execution_count": null,
   "metadata": {
    "ExecuteTime": {
     "end_time": "2019-05-23T02:17:35.853511Z",
     "start_time": "2019-05-23T02:17:35.774Z"
    }
   },
   "outputs": [],
   "source": [
    "leak_by_ingr = pd.DataFrame.from_dict(d, orient='index',columns=['leak_26w']).reset_index()"
   ]
  },
  {
   "cell_type": "code",
   "execution_count": null,
   "metadata": {
    "ExecuteTime": {
     "end_time": "2019-05-23T02:17:35.853511Z",
     "start_time": "2019-05-23T02:17:35.782Z"
    }
   },
   "outputs": [],
   "source": [
    "leak_by_ingr.sort_values(by='index', ascending=False).to_csv('leak_by_ingr.csv')"
   ]
  },
  {
   "cell_type": "code",
   "execution_count": null,
   "metadata": {
    "ExecuteTime": {
     "end_time": "2019-05-23T02:17:35.869131Z",
     "start_time": "2019-05-23T02:17:35.788Z"
    }
   },
   "outputs": [],
   "source": [
    "# leak_by_ingr.head(10)"
   ]
  },
  {
   "cell_type": "code",
   "execution_count": null,
   "metadata": {
    "ExecuteTime": {
     "end_time": "2019-05-23T02:17:35.869131Z",
     "start_time": "2019-05-23T02:17:35.795Z"
    }
   },
   "outputs": [],
   "source": [
    "k = {}\n",
    "for i in data_count:\n",
    "    if i not in ['cogs_26w','sales_26w','price']:\n",
    "        k[i] = data_count[data_count[i] == 1]['price'].mean()"
   ]
  },
  {
   "cell_type": "code",
   "execution_count": null,
   "metadata": {
    "ExecuteTime": {
     "end_time": "2019-05-23T02:17:35.869131Z",
     "start_time": "2019-05-23T02:17:35.801Z"
    }
   },
   "outputs": [],
   "source": [
    "price_by_ingr = pd.DataFrame.from_dict(k, orient='index',columns=['av_price']).reset_index()"
   ]
  },
  {
   "cell_type": "code",
   "execution_count": null,
   "metadata": {
    "ExecuteTime": {
     "end_time": "2019-05-23T02:17:35.869131Z",
     "start_time": "2019-05-23T02:17:35.806Z"
    }
   },
   "outputs": [],
   "source": [
    "price_by_ingr.sort_values(by='index', ascending=False).to_csv('leak_by_price.csv')"
   ]
  },
  {
   "cell_type": "code",
   "execution_count": null,
   "metadata": {
    "ExecuteTime": {
     "end_time": "2019-05-23T02:17:35.869131Z",
     "start_time": "2019-05-23T02:17:35.811Z"
    }
   },
   "outputs": [],
   "source": [
    "h = {}\n",
    "for i in data_count:\n",
    "    if i not in ['cogs_26w','sales_26w','price']:\n",
    "        h[i] = data_count[data_count[i] == 1]['cogs_26w'].sum()"
   ]
  },
  {
   "cell_type": "code",
   "execution_count": null,
   "metadata": {
    "ExecuteTime": {
     "end_time": "2019-05-23T02:17:35.869131Z",
     "start_time": "2019-05-23T02:17:35.817Z"
    }
   },
   "outputs": [],
   "source": [
    "cogs_by_ingr = pd.DataFrame.from_dict(h, orient='index',columns=['cogs_26w']).reset_index()"
   ]
  },
  {
   "cell_type": "code",
   "execution_count": null,
   "metadata": {
    "ExecuteTime": {
     "end_time": "2019-05-23T02:17:35.869131Z",
     "start_time": "2019-05-23T02:17:35.822Z"
    }
   },
   "outputs": [],
   "source": [
    "cogs_by_ingr.sort_values(by='index', ascending=False).to_csv('cogs_by_ingr.csv')"
   ]
  },
  {
   "cell_type": "code",
   "execution_count": null,
   "metadata": {
    "ExecuteTime": {
     "end_time": "2019-05-23T02:17:35.884753Z",
     "start_time": "2019-05-23T02:17:35.827Z"
    }
   },
   "outputs": [],
   "source": [
    "j = {}\n",
    "for i in data_count:\n",
    "    if i not in ['cogs_26w','sales_26w','price']:\n",
    "        j[i] = data_count[data_count[i] == 1]['sales_26w'].sum()"
   ]
  },
  {
   "cell_type": "code",
   "execution_count": null,
   "metadata": {
    "ExecuteTime": {
     "end_time": "2019-05-23T02:17:35.884753Z",
     "start_time": "2019-05-23T02:17:35.831Z"
    }
   },
   "outputs": [],
   "source": [
    "sales_by_ingr = pd.DataFrame.from_dict(j, orient='index',columns=['sales_26w']).reset_index()"
   ]
  },
  {
   "cell_type": "code",
   "execution_count": null,
   "metadata": {
    "ExecuteTime": {
     "end_time": "2019-05-23T02:17:35.884753Z",
     "start_time": "2019-05-23T02:17:35.836Z"
    }
   },
   "outputs": [],
   "source": [
    "sales_by_ingr.sort_values(by='index', ascending=False).to_csv('sales_by_ingr.csv')"
   ]
  },
  {
   "cell_type": "code",
   "execution_count": 7,
   "metadata": {
    "ExecuteTime": {
     "end_time": "2019-05-23T02:17:36.009723Z",
     "start_time": "2019-05-23T02:17:35.978482Z"
    }
   },
   "outputs": [
    {
     "ename": "NameError",
     "evalue": "name 'leak_by_ingr' is not defined",
     "output_type": "error",
     "traceback": [
      "\u001b[1;31m---------------------------------------------------------------------------\u001b[0m",
      "\u001b[1;31mNameError\u001b[0m                                 Traceback (most recent call last)",
      "\u001b[1;32m<ipython-input-7-159cdf568eca>\u001b[0m in \u001b[0;36m<module>\u001b[1;34m\u001b[0m\n\u001b[1;32m----> 1\u001b[1;33m \u001b[0mleak_by_ingr\u001b[0m \u001b[1;33m=\u001b[0m \u001b[0mleak_by_ingr\u001b[0m\u001b[1;33m.\u001b[0m\u001b[0mmerge\u001b[0m\u001b[1;33m(\u001b[0m\u001b[0mprice_by_ingr\u001b[0m\u001b[1;33m,\u001b[0m \u001b[0mon\u001b[0m\u001b[1;33m=\u001b[0m\u001b[1;34m'index'\u001b[0m\u001b[1;33m,\u001b[0m\u001b[0mhow\u001b[0m\u001b[1;33m=\u001b[0m\u001b[1;34m'left'\u001b[0m\u001b[1;33m)\u001b[0m\u001b[1;33m\u001b[0m\u001b[1;33m\u001b[0m\u001b[0m\n\u001b[0m\u001b[0;32m      2\u001b[0m \u001b[0mleak_by_ingr\u001b[0m \u001b[1;33m=\u001b[0m \u001b[0mleak_by_ingr\u001b[0m\u001b[1;33m.\u001b[0m\u001b[0mmerge\u001b[0m\u001b[1;33m(\u001b[0m\u001b[0mcogs_by_ingr\u001b[0m\u001b[1;33m,\u001b[0m \u001b[0mon\u001b[0m\u001b[1;33m=\u001b[0m\u001b[1;34m'index'\u001b[0m\u001b[1;33m,\u001b[0m\u001b[0mhow\u001b[0m\u001b[1;33m=\u001b[0m\u001b[1;34m'left'\u001b[0m\u001b[1;33m)\u001b[0m\u001b[1;33m\u001b[0m\u001b[1;33m\u001b[0m\u001b[0m\n\u001b[0;32m      3\u001b[0m \u001b[0mleak_by_ingr\u001b[0m \u001b[1;33m=\u001b[0m \u001b[0mleak_by_ingr\u001b[0m\u001b[1;33m.\u001b[0m\u001b[0mmerge\u001b[0m\u001b[1;33m(\u001b[0m\u001b[0msales_by_ingr\u001b[0m\u001b[1;33m,\u001b[0m \u001b[0mon\u001b[0m\u001b[1;33m=\u001b[0m\u001b[1;34m'index'\u001b[0m\u001b[1;33m,\u001b[0m\u001b[0mhow\u001b[0m\u001b[1;33m=\u001b[0m\u001b[1;34m'left'\u001b[0m\u001b[1;33m)\u001b[0m\u001b[1;33m\u001b[0m\u001b[1;33m\u001b[0m\u001b[0m\n",
      "\u001b[1;31mNameError\u001b[0m: name 'leak_by_ingr' is not defined"
     ]
    }
   ],
   "source": [
    "leak_by_ingr = leak_by_ingr.merge(price_by_ingr, on='index',how='left')\n",
    "leak_by_ingr = leak_by_ingr.merge(cogs_by_ingr, on='index',how='left')\n",
    "leak_by_ingr = leak_by_ingr.merge(sales_by_ingr, on='index',how='left')"
   ]
  },
  {
   "cell_type": "code",
   "execution_count": null,
   "metadata": {
    "ExecuteTime": {
     "end_time": "2019-05-23T02:17:36.009723Z",
     "start_time": "2019-05-23T02:17:35.848Z"
    }
   },
   "outputs": [],
   "source": [
    "leak_by_ingr.sort_values(by='index', ascending=False).to_csv('leak_ingr_summary.csv')"
   ]
  },
  {
   "cell_type": "markdown",
   "metadata": {},
   "source": [
    "## _Three top leakers are different NDCs with a shared ingredients_"
   ]
  },
  {
   "cell_type": "code",
   "execution_count": null,
   "metadata": {
    "ExecuteTime": {
     "end_time": "2019-05-23T02:17:36.009723Z",
     "start_time": "2019-05-23T02:17:35.858Z"
    }
   },
   "outputs": [],
   "source": [
    "getPerc(data_merged)\n",
    "# data_merged = data_merged[data_merged.perc_26w < 1]"
   ]
  },
  {
   "cell_type": "code",
   "execution_count": null,
   "metadata": {
    "ExecuteTime": {
     "end_time": "2019-05-23T02:17:36.009723Z",
     "start_time": "2019-05-23T02:17:35.865Z"
    }
   },
   "outputs": [],
   "source": [
    "data_merged[data_merged['emtricitab/rilpiviri/tenof'] == 1][['PHRMCY_NAME','NDC_DESC','GCNSEQ_DESC','perc_13w','perc_26w']].head(8)\n",
    "#Maybe different NDC leads to "
   ]
  },
  {
   "cell_type": "code",
   "execution_count": null,
   "metadata": {
    "ExecuteTime": {
     "end_time": "2019-05-23T02:17:36.009723Z",
     "start_time": "2019-05-23T02:17:35.871Z"
    }
   },
   "outputs": [],
   "source": [
    "data_merged[data_merged['bictegrav/emtricit/tenofov'] == 1][['PHRMCY_NAME','NDC_DESC','GCNSEQ_DESC','perc_13w','perc_26w']].head(6)"
   ]
  },
  {
   "cell_type": "code",
   "execution_count": null,
   "metadata": {
    "ExecuteTime": {
     "end_time": "2019-05-23T02:17:36.009723Z",
     "start_time": "2019-05-23T02:17:35.879Z"
    },
    "scrolled": true
   },
   "outputs": [],
   "source": [
    "data_merged[data_merged['alafen'] == 1][['PHRMCY_NAME','NDC_DESC','GCNSEQ_DESC','perc_13w','perc_26w']].head(7)"
   ]
  },
  {
   "cell_type": "markdown",
   "metadata": {},
   "source": [
    "A story here. Tenofovi Alafenamide is a new HIV drug, but seems to be marketed under different NDC (names), with slightly different mixture of ingredients.\n",
    "* Perhaps the differences confuse pharmacies\n",
    "* For DESCOVY and GENVOYA, pharmacies seem to underbuy (in comparision to dispense) in the long-term, then in a shorter timeframe tries to close this gap. Trust or more consumer may have helped reduce leakage.  "
   ]
  },
  {
   "cell_type": "markdown",
   "metadata": {},
   "source": [
    "# Searching for patterns\n"
   ]
  },
  {
   "cell_type": "markdown",
   "metadata": {},
   "source": [
    "## 1. Price per pharmacy, Purchase Percentage, and Manufacturer"
   ]
  },
  {
   "cell_type": "markdown",
   "metadata": {},
   "source": [
    "**Hypothesis:** if an NDC is more expensive than the category average, they should exhibit higher leakage  "
   ]
  },
  {
   "cell_type": "code",
   "execution_count": null,
   "metadata": {
    "ExecuteTime": {
     "end_time": "2019-05-23T02:17:36.025347Z",
     "start_time": "2019-05-23T02:17:35.895Z"
    }
   },
   "outputs": [],
   "source": [
    "#initial dataframe to determine aver.cost per NDC\n",
    "data_mean_cost_per_NDC = data[['NDC','COGS_PRC_MTRC']].groupby('NDC').mean().reset_index()\n",
    "#prep by re-introducing the 'MFG_NAM' column.\n",
    "mfg_name = data[['MFG_NAM','NDC']].drop_duplicates('NDC')\n",
    "#prep by re-introducing the 'NDC_DESC' column.\n",
    "ndc_desc = data[['NDC_DESC','NDC']].drop_duplicates('NDC')\n",
    "#merge \n",
    "scat_data = data_mean_cost_per_NDC.merge(mfg_name,on='NDC', how='left')\n",
    "scat_data = scat_data.merge(ndc_desc,on='NDC', how='left')\n"
   ]
  },
  {
   "cell_type": "code",
   "execution_count": null,
   "metadata": {
    "ExecuteTime": {
     "end_time": "2019-05-23T02:17:36.025347Z",
     "start_time": "2019-05-23T02:17:35.903Z"
    }
   },
   "outputs": [],
   "source": [
    "#prep by calculating a \"price index\" from -1 to 1, representing deviation from the average price of the GNC\n",
    "gnc_num = data[['GCNSEQ_NBR','NDC']].drop_duplicates('NDC')\n",
    "gnc_av_price = data[['GCNSEQ_NBR','NDC','COGS_PRC_MTRC']].groupby(['GCNSEQ_NBR']).mean().reset_index()\n",
    "gnc_av_price = gnc_av_price.rename(index=str, columns={\"COGS_PRC_MTRC\": \"average_price\"})"
   ]
  },
  {
   "cell_type": "code",
   "execution_count": null,
   "metadata": {
    "ExecuteTime": {
     "end_time": "2019-05-23T02:17:36.025347Z",
     "start_time": "2019-05-23T02:17:35.907Z"
    }
   },
   "outputs": [],
   "source": [
    "#prep by branded and generics\n",
    "gen = data[['BRX_GRX_CD','NDC']].drop_duplicates('NDC')"
   ]
  },
  {
   "cell_type": "code",
   "execution_count": null,
   "metadata": {
    "ExecuteTime": {
     "end_time": "2019-05-23T02:17:36.025347Z",
     "start_time": "2019-05-23T02:17:35.913Z"
    }
   },
   "outputs": [],
   "source": [
    "#prep by buying groups\n",
    "buy = data[['NDC','BUY_GRP_NAM']].drop_duplicates('NDC')"
   ]
  },
  {
   "cell_type": "code",
   "execution_count": null,
   "metadata": {
    "ExecuteTime": {
     "end_time": "2019-05-23T02:17:36.025347Z",
     "start_time": "2019-05-23T02:17:35.919Z"
    }
   },
   "outputs": [],
   "source": [
    "#joining columns \n",
    "scat_data = scat_data.merge(gnc_num,on='NDC', how='left')\n",
    "scat_data = scat_data.merge(gnc_av_price,on='GCNSEQ_NBR', how='left')\n",
    "scat_data = scat_data.merge(data_byNDC[['NDC','leak_26w']],on='NDC',how='left')\n",
    "scat_data = scat_data.merge(data_byNDC[['NDC','leak_dol_26w']],on='NDC',how='left')\n",
    "scat_data = scat_data.merge(gen,on='NDC', how='left')\n",
    "scat_data = scat_data.merge(buy,on='NDC', how='left')"
   ]
  },
  {
   "cell_type": "code",
   "execution_count": null,
   "metadata": {
    "ExecuteTime": {
     "end_time": "2019-05-23T02:17:36.025347Z",
     "start_time": "2019-05-23T02:17:35.924Z"
    }
   },
   "outputs": [],
   "source": [
    "scat_data.loc[:,'price_index'] = Series((scat_data.COGS_PRC_MTRC - scat_data.average_price)/scat_data.average_price)\n"
   ]
  },
  {
   "cell_type": "code",
   "execution_count": null,
   "metadata": {
    "ExecuteTime": {
     "end_time": "2019-05-23T02:17:36.025347Z",
     "start_time": "2019-05-23T02:17:35.930Z"
    }
   },
   "outputs": [],
   "source": [
    "check = scat_data[['NDC','COGS_PRC_MTRC','BRX_GRX_CD','average_price','price_index','leak_26w']]\n",
    "check[check.price_index > 1].head(4)\n",
    "#exorbitant price compared to that of other NDCs in the same GCN"
   ]
  },
  {
   "cell_type": "code",
   "execution_count": null,
   "metadata": {
    "ExecuteTime": {
     "end_time": "2019-05-23T02:17:36.040966Z",
     "start_time": "2019-05-23T02:17:35.936Z"
    }
   },
   "outputs": [],
   "source": [
    "#Advanced: use the actual GCN price -> Later\n",
    "# gnc_av_price = data[['GCNSEQ_NBR','NDC','PHRMCY_NAME','COGS_PRC_MTRC']].groupby(['PHRMCY_NAME','GCNSEQ_NBR'])"
   ]
  },
  {
   "cell_type": "code",
   "execution_count": null,
   "metadata": {
    "ExecuteTime": {
     "end_time": "2019-05-23T02:17:36.040966Z",
     "start_time": "2019-05-23T02:17:35.941Z"
    }
   },
   "outputs": [],
   "source": [
    "#try to limit it between 0 and 1 (0 to 100%)\n",
    "# scat_data = scat_data[(scat_data.leak_26w > 0 )]\n",
    "scat_data = scat_data[scat_data.price_index < 0.75]"
   ]
  },
  {
   "cell_type": "code",
   "execution_count": null,
   "metadata": {
    "ExecuteTime": {
     "end_time": "2019-05-23T02:17:36.040966Z",
     "start_time": "2019-05-23T02:17:35.947Z"
    }
   },
   "outputs": [],
   "source": [
    "removeOutliers(scat_data,'price_index').sort_values(by='leak_26w').head(20);\n",
    "scat_data = scat_data[scat_data.leak_26w < 0.8];"
   ]
  },
  {
   "cell_type": "markdown",
   "metadata": {},
   "source": [
    "### Unit Price and Leakage\n",
    "Based on the hypothesize that pharmacies are less loyal when it comes to costlier drug "
   ]
  },
  {
   "cell_type": "code",
   "execution_count": null,
   "metadata": {
    "ExecuteTime": {
     "end_time": "2019-05-23T02:17:36.040966Z",
     "start_time": "2019-05-23T02:17:35.960Z"
    }
   },
   "outputs": [],
   "source": [
    "plt.figure(figsize=(9,9))\n",
    "g = sb.scatterplot(x='leak_26w', y='price_index', data=scat_data,hue=\"BRX_GRX_CD\",size='leak_dol_26w', sizes = (150,500),legend=False)\n",
    "# plt.setp(g.get_legend().get_texts(), fontsize='12')\n",
    "plt.xlabel(\"Leakage Rate\")\n",
    "plt.ylabel(\"Price Index\")\n",
    "plt.savefig(\"price_index.png\", transparent=True)"
   ]
  },
  {
   "cell_type": "markdown",
   "metadata": {},
   "source": [
    "No relationship"
   ]
  },
  {
   "cell_type": "code",
   "execution_count": null,
   "metadata": {
    "ExecuteTime": {
     "end_time": "2019-05-23T02:17:36.040966Z",
     "start_time": "2019-05-23T02:17:35.967Z"
    }
   },
   "outputs": [],
   "source": [
    "data_grx_scat = scat_data[scat_data['BRX_GRX_CD'] == 'GRX']\n",
    "data_brx_scat = scat_data[scat_data['BRX_GRX_CD'] == 'BRX']"
   ]
  },
  {
   "cell_type": "code",
   "execution_count": null,
   "metadata": {
    "ExecuteTime": {
     "end_time": "2019-05-23T02:17:36.040966Z",
     "start_time": "2019-05-23T02:17:35.974Z"
    }
   },
   "outputs": [],
   "source": [
    "plt.figure(figsize=(7,7))\n",
    "l = sb.scatterplot(x='leak_26w', y='price_index', data=data_grx_scat, size='leak_dol_26w', sizes = (70,400))\n",
    "# plt.setp(g.get_legend().get_texts(), fontsize='12')\n",
    "# plt.legend(bbox_to_anchor=(1.05, 1), loc=2, borderaxespad=0.)\n",
    "plt.xlabel(\"Leakage Rate\")\n",
    "plt.ylabel(\"Price Index\")\n",
    "# , size='leak_dol_26w'"
   ]
  },
  {
   "cell_type": "code",
   "execution_count": null,
   "metadata": {
    "ExecuteTime": {
     "end_time": "2019-05-23T02:17:36.040966Z",
     "start_time": "2019-05-23T02:17:35.981Z"
    }
   },
   "outputs": [],
   "source": [
    "plt.figure(figsize=(7,7))\n",
    "l = sb.scatterplot(x='leak_26w', y='price_index', data=data_brx_scat, size='leak_dol_26w', sizes = (70,400))\n",
    "# plt.setp(g.get_legend().get_texts(), fontsize='12')\n",
    "plt.legend(bbox_to_anchor=(1.05, 1), loc=2, borderaxespad=0.)\n",
    "plt.xlabel(\"Leakage Rate\")\n",
    "plt.ylabel(\"Price Index\")\n",
    "# , size='leak_dol_26w'"
   ]
  },
  {
   "cell_type": "markdown",
   "metadata": {},
   "source": [
    "## 2. Branded and Generic NDCs"
   ]
  },
  {
   "cell_type": "markdown",
   "metadata": {},
   "source": [
    "### With Price at NDC level"
   ]
  },
  {
   "cell_type": "code",
   "execution_count": null,
   "metadata": {
    "ExecuteTime": {
     "end_time": "2019-05-23T02:17:36.056587Z",
     "start_time": "2019-05-23T02:17:35.989Z"
    }
   },
   "outputs": [],
   "source": [
    "# def removeOutliers(data,field):\n",
    "#     result = data[np.abs(data[field]-data[field].mean()) <= (3*data[field].std())]\n",
    "#     return result\n",
    "brand = data[['NDC','BRX_GRX_CD']].drop_duplicates('NDC')\n",
    "buy_group = data[['NDC','BUY_GRP_NAM']].drop_duplicates('NDC')\n",
    "data_brand = data_byNDC.merge(brand,on='NDC', how='left')\n",
    "data_brand = data_brand.merge(buy_group,on='NDC', how='left')"
   ]
  },
  {
   "cell_type": "code",
   "execution_count": null,
   "metadata": {
    "ExecuteTime": {
     "end_time": "2019-05-23T02:17:36.056587Z",
     "start_time": "2019-05-23T02:17:35.995Z"
    }
   },
   "outputs": [],
   "source": [
    "data_brand = removeOutliers(data_brand,'leak_dol_26w')\n",
    "data_brand = data_brand[data_brand['leak_26w'] > 0]"
   ]
  },
  {
   "cell_type": "code",
   "execution_count": null,
   "metadata": {
    "ExecuteTime": {
     "end_time": "2019-05-23T02:17:36.056587Z",
     "start_time": "2019-05-23T02:17:36.003Z"
    }
   },
   "outputs": [],
   "source": [
    "# data_brand = data_brand[data_brand['leak_26w'] < 0.9]\n",
    "data_brand = data_brand[data_brand['COGS_PRC_MTRC'] < 60000]"
   ]
  },
  {
   "cell_type": "code",
   "execution_count": 8,
   "metadata": {
    "ExecuteTime": {
     "end_time": "2019-05-23T02:17:36.181560Z",
     "start_time": "2019-05-23T02:17:36.150317Z"
    },
    "scrolled": true
   },
   "outputs": [
    {
     "ename": "NameError",
     "evalue": "name 'data_brand' is not defined",
     "output_type": "error",
     "traceback": [
      "\u001b[1;31m---------------------------------------------------------------------------\u001b[0m",
      "\u001b[1;31mNameError\u001b[0m                                 Traceback (most recent call last)",
      "\u001b[1;32m<ipython-input-8-c4f819d74d70>\u001b[0m in \u001b[0;36m<module>\u001b[1;34m\u001b[0m\n\u001b[1;32m----> 1\u001b[1;33m \u001b[0mbranded\u001b[0m \u001b[1;33m=\u001b[0m \u001b[0mdata_brand\u001b[0m\u001b[1;33m[\u001b[0m\u001b[0mdata_brand\u001b[0m\u001b[1;33m.\u001b[0m\u001b[0mBRX_GRX_CD\u001b[0m \u001b[1;33m==\u001b[0m \u001b[1;34m'BRX'\u001b[0m\u001b[1;33m]\u001b[0m\u001b[1;33m\u001b[0m\u001b[1;33m\u001b[0m\u001b[0m\n\u001b[0m\u001b[0;32m      2\u001b[0m \u001b[0mgeneric\u001b[0m \u001b[1;33m=\u001b[0m \u001b[0mdata_brand\u001b[0m\u001b[1;33m[\u001b[0m\u001b[0mdata_brand\u001b[0m\u001b[1;33m.\u001b[0m\u001b[0mBRX_GRX_CD\u001b[0m \u001b[1;33m==\u001b[0m \u001b[1;34m'GRX'\u001b[0m\u001b[1;33m]\u001b[0m\u001b[1;33m\u001b[0m\u001b[1;33m\u001b[0m\u001b[0m\n\u001b[0;32m      3\u001b[0m \u001b[1;33m\u001b[0m\u001b[0m\n\u001b[0;32m      4\u001b[0m \u001b[0mx\u001b[0m \u001b[1;33m=\u001b[0m \u001b[0mbranded\u001b[0m\u001b[1;33m[\u001b[0m\u001b[1;34m'perc_26w'\u001b[0m\u001b[1;33m]\u001b[0m\u001b[1;33m\u001b[0m\u001b[1;33m\u001b[0m\u001b[0m\n\u001b[0;32m      5\u001b[0m \u001b[0my\u001b[0m \u001b[1;33m=\u001b[0m \u001b[0mgeneric\u001b[0m\u001b[1;33m[\u001b[0m\u001b[1;34m'perc_26w'\u001b[0m\u001b[1;33m]\u001b[0m\u001b[1;33m\u001b[0m\u001b[1;33m\u001b[0m\u001b[0m\n",
      "\u001b[1;31mNameError\u001b[0m: name 'data_brand' is not defined"
     ]
    }
   ],
   "source": [
    "branded = data_brand[data_brand.BRX_GRX_CD == 'BRX']\n",
    "generic = data_brand[data_brand.BRX_GRX_CD == 'GRX']\n",
    "\n",
    "x = branded['perc_26w']\n",
    "y = generic['perc_26w']"
   ]
  },
  {
   "cell_type": "markdown",
   "metadata": {},
   "source": [
    "\n",
    "> There is statistical difference after removing the values above 90%. T-test can confirm."
   ]
  },
  {
   "cell_type": "code",
   "execution_count": null,
   "metadata": {
    "ExecuteTime": {
     "end_time": "2019-05-23T02:17:36.181560Z",
     "start_time": "2019-05-23T02:17:36.028Z"
    }
   },
   "outputs": [],
   "source": [
    "ttest_ind(x,y)"
   ]
  },
  {
   "cell_type": "code",
   "execution_count": null,
   "metadata": {
    "ExecuteTime": {
     "end_time": "2019-05-23T02:17:36.181560Z",
     "start_time": "2019-05-23T02:17:36.038Z"
    }
   },
   "outputs": [],
   "source": [
    "plt.figure(figsize=(6,6)) \n",
    "# sb.pairplot(x_vars=['COGS_PRC_MTRC'], y_vars=['leak_26w'], data=data_brand,hue=\"BRX_GRX_CD\", height=6,   plot_kws=dict(s=75))\n",
    "g = sb.scatterplot(x='leak_26w', y='DSPN_COGS_NDC_26WKS', data=data_brand,hue=\"BRX_GRX_CD\", size='leak_dol_26w', sizes = (50,425))\n",
    "plt.xlabel(\"Leakage Rate\")\n",
    "plt.ylabel(\"Dollars of drugs dispensed per NDC\")\n"
   ]
  },
  {
   "cell_type": "code",
   "execution_count": null,
   "metadata": {
    "ExecuteTime": {
     "end_time": "2019-05-23T02:17:36.181560Z",
     "start_time": "2019-05-23T02:17:36.046Z"
    }
   },
   "outputs": [],
   "source": [
    "x = data_count[['leak_dol_26w','leak_26w','NDC_DESC']][data_count['elviteg/cob/emtri/tenof']==1].sort_values(by='leak_dol_26w', ascending=False)\n",
    "x.head(10)"
   ]
  },
  {
   "cell_type": "markdown",
   "metadata": {},
   "source": [
    "### _High-spending, branded items generally leak more and cost more in their leakage._\n",
    "### _Generic items may leak at a higher percentage, but do not represent much loss._ "
   ]
  },
  {
   "cell_type": "code",
   "execution_count": null,
   "metadata": {
    "ExecuteTime": {
     "end_time": "2019-05-23T02:17:36.181560Z",
     "start_time": "2019-05-23T02:17:36.057Z"
    }
   },
   "outputs": [],
   "source": [
    "# plt.figure(figsize=(6,6))\n",
    "# sb.pairplot(x_vars=['leak_26w'], y_vars=['leak_dol_26w'], data=data_brand,hue=\"BRX_GRX_CD\", height=6,   plot_kws=dict(s=75))\n",
    "# h = sb.scatterplot(x='leak_26w', y='COGS_PRC_MTRC', data=data_brand,hue=\"BRX_GRX_CD\", size='leak_dol_26w', sizes = (50,450))"
   ]
  },
  {
   "cell_type": "code",
   "execution_count": null,
   "metadata": {
    "ExecuteTime": {
     "end_time": "2019-05-23T02:17:36.197181Z",
     "start_time": "2019-05-23T02:17:36.065Z"
    }
   },
   "outputs": [],
   "source": [
    "data_brx = data_brand[data_brand['BRX_GRX_CD'] == 'BRX']\n",
    "data_grx = data_brand[data_brand['BRX_GRX_CD'] == 'GRX']"
   ]
  },
  {
   "cell_type": "code",
   "execution_count": null,
   "metadata": {
    "ExecuteTime": {
     "end_time": "2019-05-23T02:17:36.197181Z",
     "start_time": "2019-05-23T02:17:36.074Z"
    }
   },
   "outputs": [],
   "source": [
    "# plt.figure(figsize=(10,10))\n",
    "# # sb.pairplot(x_vars=['leak_26w'], y_vars=['leak_dol_26w'], data=data_brand,hue=\"BRX_GRX_CD\", height=6,   plot_kws=dict(s=75))\n",
    "# # m = sb.scatterplot(x='leak_26w', y='leak_dol_26w', data=data_brand,hue=\"BRX_GRX_CD\", size='leak_dol_26w', sizes = (50,450))\n",
    "# m = sb.regplot(x=\"leak_26w\", y=\"COGS_PRC_MTRC\", data=data_brx)"
   ]
  },
  {
   "cell_type": "markdown",
   "metadata": {},
   "source": [
    "* Branded medicine suprisingly does not have high leakage rate, but represents a higher dollar value that can be captured."
   ]
  },
  {
   "cell_type": "markdown",
   "metadata": {},
   "source": [
    "Lower-priced generics have lower perc -> Higher leakage"
   ]
  },
  {
   "cell_type": "markdown",
   "metadata": {},
   "source": [
    "Quartiles -> To make sure that the big ones stay in one chart"
   ]
  },
  {
   "cell_type": "markdown",
   "metadata": {},
   "source": [
    "### 3. Buying Groups"
   ]
  },
  {
   "cell_type": "code",
   "execution_count": null,
   "metadata": {
    "ExecuteTime": {
     "end_time": "2019-05-23T02:17:36.197181Z",
     "start_time": "2019-05-23T02:17:36.086Z"
    }
   },
   "outputs": [],
   "source": [
    "plt.figure(figsize=(10,10))\n",
    "b = sb.scatterplot(x='leak_26w', y='COGS_PRC_MTRC', data=data_brand,hue=\"BUY_GRP_NAM\", size='leak_dol_26w', sizes = (50,450)) \n",
    "plt.setp(b.get_legend().get_texts(), fontsize='12')\n",
    "plt.legend(bbox_to_anchor=(1.05, 1), loc=2, borderaxespad=0.)"
   ]
  },
  {
   "cell_type": "code",
   "execution_count": null,
   "metadata": {
    "ExecuteTime": {
     "end_time": "2019-05-23T02:17:36.197181Z",
     "start_time": "2019-05-23T02:17:36.095Z"
    }
   },
   "outputs": [],
   "source": [
    "data_buygroup = data.groupby('BUY_GRP_NAM').sum().reset_index()\n",
    "getPerc(data_buygroup)"
   ]
  },
  {
   "cell_type": "markdown",
   "metadata": {
    "scrolled": true
   },
   "source": [
    "## Use this to get back to [the start](#first-bullet)\n",
    "<a name='down'></a>"
   ]
  },
  {
   "cell_type": "markdown",
   "metadata": {},
   "source": []
  },
  {
   "cell_type": "code",
   "execution_count": null,
   "metadata": {},
   "outputs": [],
   "source": []
  },
  {
   "cell_type": "code",
   "execution_count": null,
   "metadata": {
    "ExecuteTime": {
     "end_time": "2019-05-23T02:17:36.197181Z",
     "start_time": "2019-05-23T02:17:36.107Z"
    }
   },
   "outputs": [],
   "source": [
    "# data_buy_price = data[data['GCNSEQ_DESC'].str.contains('insulin|linagliptin|glargine,hum.rec.anlog|sitagliptin|dulaglutide|liraglutide')]\n",
    "#get data on only CLIPPERS and WARRIERS, the two jugglenaughts\n",
    "# data_2 = data[data['BUY_GRP_NAM'].str.contains('CLIPPERS|LAKERS')]\n",
    "data_2 = data[data['BUY_GRP_NAM'].str.contains('WARRIERS|CLIPPERS')]\n",
    "\n",
    "#Get price info on LANTUS SOLOSTAR\n",
    "data_lan_solo = data_2[data_2['NDC_DESC'].str.contains('LANTUS 100 UNIT/ML VIAL')]\n",
    "# data_lan_solo = data_lan_solo[data_lan_solo['DSPN_QTY_NDC_26WKS'] <5000]\n",
    "data_lan_solo = data_lan_solo[data_lan_solo['COGS_PRC_MTRC'] >25.25]\n",
    "data_lan_solo = data_lan_solo[data_lan_solo['leak_dol_26w'] >0]\n",
    "data_lan_solo.loc[:,'leak_26w'] = data_lan_solo['leak_dol_26w']/data_lan_solo['DSPN_COGS_NDC_26WKS']"
   ]
  },
  {
   "cell_type": "code",
   "execution_count": null,
   "metadata": {
    "ExecuteTime": {
     "end_time": "2019-05-23T02:17:36.197181Z",
     "start_time": "2019-05-23T02:17:36.111Z"
    }
   },
   "outputs": [],
   "source": [
    "data_lan_solo[['DSPN_COGS_NDC_26WKS','sales_26w','leak_dol_26w','leak_26w']].head(10);"
   ]
  },
  {
   "cell_type": "code",
   "execution_count": null,
   "metadata": {
    "ExecuteTime": {
     "end_time": "2019-05-23T02:17:36.212801Z",
     "start_time": "2019-05-23T02:17:36.116Z"
    },
    "scrolled": false
   },
   "outputs": [],
   "source": [
    "plt.figure(figsize=(7,7))\n",
    "a = sb.scatterplot(x='leak_26w', y='COGS_PRC_MTRC', data=data_lan_solo,hue=\"BUY_GRP_NAM\", size='leak_dol_26w', sizes=(75,320),alpha=0.9,legend=False)\n",
    "# plt.setp(b.get_legend().get_texts(), fontsize='12')\n",
    "plt.legend(bbox_to_anchor=(1.05, 1), loc=2, borderaxespad=0.)\n",
    "plt.xlabel('Leak Rate')\n",
    "plt.ylabel('Metric Price')\n",
    "plt.savefig('lantus_solo.png', transparent=True)"
   ]
  },
  {
   "cell_type": "code",
   "execution_count": null,
   "metadata": {
    "ExecuteTime": {
     "end_time": "2019-05-23T02:17:36.212801Z",
     "start_time": "2019-05-23T02:17:36.121Z"
    },
    "scrolled": true
   },
   "outputs": [],
   "source": [
    "#Get price info on LANTUS 100\n",
    "data_lan = data_2[data_2['NDC_DESC'].str.contains('LANTUS 100')]\n"
   ]
  },
  {
   "cell_type": "code",
   "execution_count": null,
   "metadata": {
    "ExecuteTime": {
     "end_time": "2019-05-23T02:17:36.212801Z",
     "start_time": "2019-05-23T02:17:36.126Z"
    }
   },
   "outputs": [],
   "source": [
    "data_lan.loc[:,'leak_26w'] = data_lan.loc[:,'leak_dol_26w']/data_lan.loc[:,'DSPN_COGS_NDC_26WKS'];"
   ]
  },
  {
   "cell_type": "code",
   "execution_count": null,
   "metadata": {
    "ExecuteTime": {
     "end_time": "2019-05-23T02:17:36.212801Z",
     "start_time": "2019-05-23T02:17:36.132Z"
    }
   },
   "outputs": [],
   "source": [
    "data_lan = data_lan[data_lan['leak_dol_26w'] >0]\n",
    "data_lan = data_lan[data_lan['COGS_PRC_MTRC'] >25.35]"
   ]
  },
  {
   "cell_type": "code",
   "execution_count": null,
   "metadata": {
    "ExecuteTime": {
     "end_time": "2019-05-23T02:17:36.212801Z",
     "start_time": "2019-05-23T02:17:36.138Z"
    }
   },
   "outputs": [],
   "source": [
    "data_lan[['DSPN_COGS_NDC_26WKS','sales_26w','leak_dol_26w']];"
   ]
  },
  {
   "cell_type": "code",
   "execution_count": null,
   "metadata": {
    "ExecuteTime": {
     "end_time": "2019-05-23T02:17:36.212801Z",
     "start_time": "2019-05-23T02:17:36.143Z"
    },
    "scrolled": false
   },
   "outputs": [],
   "source": [
    "plt.figure(figsize=(7,7))\n",
    "k = sb.scatterplot(x='leak_26w', y='COGS_PRC_MTRC', data=data_lan,hue=\"BUY_GRP_NAM\", size='leak_dol_26w', sizes=(75,320),alpha=0.9)\n",
    "# plt.setp(b.get_legend().get_texts(), fontsize='12')\\\n",
    "plt.xlabel('Leak')\n",
    "plt.ylabel('Metric Price')"
   ]
  },
  {
   "cell_type": "code",
   "execution_count": null,
   "metadata": {
    "ExecuteTime": {
     "end_time": "2019-05-23T02:17:36.212801Z",
     "start_time": "2019-05-23T02:17:36.148Z"
    }
   },
   "outputs": [],
   "source": [
    "#Get price info on LEVEMIR FLEXTOUCH\n",
    "data_levemir = data_2[data_2['NDC_DESC'].str.contains('NOVOLOG 100 UNITS/ML FLEXPEN')]\n",
    "data_levemir = data_levemir[data_levemir['COGS_PRC_MTRC'] >35]\n",
    "data_levemir = data_levemir[data_levemir['leak_dol_26w'] >0]\n",
    "data_levemir.loc[:,'leak_26w'] = data_levemir['leak_dol_26w']/data_levemir['DSPN_COGS_NDC_26WKS']\n",
    "data_levemir.sort_values(by='BUY_GRP_NAM', ascending=False);"
   ]
  },
  {
   "cell_type": "code",
   "execution_count": null,
   "metadata": {
    "ExecuteTime": {
     "end_time": "2019-05-23T02:17:36.228422Z",
     "start_time": "2019-05-23T02:17:36.154Z"
    }
   },
   "outputs": [],
   "source": [
    "plt.figure(figsize=(7,7))\n",
    "k = sb.scatterplot(x='leak_26w', y='COGS_PRC_MTRC', data=data_levemir,hue=\"BUY_GRP_NAM\", size='leak_dol_26w', sizes=(75,320),alpha=0.9, legend=False)\n",
    "plt.xlabel('Leak Rate')\n",
    "plt.ylabel('Metric Price')\n",
    "plt.savefig('lantus_novolog.png', transparent=True)"
   ]
  },
  {
   "cell_type": "code",
   "execution_count": null,
   "metadata": {
    "ExecuteTime": {
     "end_time": "2019-05-23T02:17:36.228422Z",
     "start_time": "2019-05-23T02:17:36.170Z"
    }
   },
   "outputs": [],
   "source": [
    "#Get price info on JANUVIA\n",
    "data_janu = data_2[data_2['NDC_DESC'].str.contains('JANUVIA')]\n",
    "data_janu = data_janu[data_janu['COGS_PRC_MTRC'] >13]\n",
    "data_janu = data_janu[data_janu['leak_dol_26w'] >0]\n",
    "data_janu.loc[:,'leak_26w'] = data_janu['leak_dol_26w']/data_janu['DSPN_COGS_NDC_26WKS']"
   ]
  },
  {
   "cell_type": "code",
   "execution_count": null,
   "metadata": {
    "ExecuteTime": {
     "end_time": "2019-05-23T02:17:36.228422Z",
     "start_time": "2019-05-23T02:17:36.178Z"
    },
    "scrolled": true
   },
   "outputs": [],
   "source": [
    "plt.figure(figsize=(7,7))\n",
    "k = sb.scatterplot(x='leak_26w', y='COGS_PRC_MTRC', data=data_janu,hue=\"BUY_GRP_NAM\", size='leak_dol_26w', sizes=(65,320))\n",
    "# plt.setp(b.get_legend().get_texts(), fontsize='12')\n",
    "plt.legend(bbox_to_anchor=(1.05, 1), loc=2, borderaxespad=0.)\n",
    "plt.xlabel('Dispensed Total Value')\n",
    "plt.ylabel('Metric Price')"
   ]
  },
  {
   "cell_type": "code",
   "execution_count": 9,
   "metadata": {
    "ExecuteTime": {
     "end_time": "2019-05-23T02:17:36.369014Z",
     "start_time": "2019-05-23T02:17:36.337771Z"
    }
   },
   "outputs": [
    {
     "ename": "NameError",
     "evalue": "name 'data_2' is not defined",
     "output_type": "error",
     "traceback": [
      "\u001b[1;31m---------------------------------------------------------------------------\u001b[0m",
      "\u001b[1;31mNameError\u001b[0m                                 Traceback (most recent call last)",
      "\u001b[1;32m<ipython-input-9-96184471ae4e>\u001b[0m in \u001b[0;36m<module>\u001b[1;34m\u001b[0m\n\u001b[0;32m      1\u001b[0m \u001b[1;31m#Get price info on TRADJENTA\u001b[0m\u001b[1;33m\u001b[0m\u001b[1;33m\u001b[0m\u001b[1;33m\u001b[0m\u001b[0m\n\u001b[1;32m----> 2\u001b[1;33m \u001b[0mdata_trad\u001b[0m \u001b[1;33m=\u001b[0m \u001b[0mdata_2\u001b[0m\u001b[1;33m[\u001b[0m\u001b[0mdata_2\u001b[0m\u001b[1;33m[\u001b[0m\u001b[1;34m'NDC_DESC'\u001b[0m\u001b[1;33m]\u001b[0m\u001b[1;33m.\u001b[0m\u001b[0mstr\u001b[0m\u001b[1;33m.\u001b[0m\u001b[0mcontains\u001b[0m\u001b[1;33m(\u001b[0m\u001b[1;34m'TRADJENTA'\u001b[0m\u001b[1;33m)\u001b[0m\u001b[1;33m]\u001b[0m\u001b[1;33m\u001b[0m\u001b[1;33m\u001b[0m\u001b[0m\n\u001b[0m\u001b[0;32m      3\u001b[0m \u001b[0mdata_trad\u001b[0m \u001b[1;33m=\u001b[0m \u001b[0mdata_trad\u001b[0m\u001b[1;33m[\u001b[0m\u001b[0mdata_trad\u001b[0m\u001b[1;33m[\u001b[0m\u001b[1;34m'COGS_PRC_MTRC'\u001b[0m\u001b[1;33m]\u001b[0m \u001b[1;33m>\u001b[0m\u001b[1;36m12.75\u001b[0m\u001b[1;33m]\u001b[0m\u001b[1;33m\u001b[0m\u001b[1;33m\u001b[0m\u001b[0m\n\u001b[0;32m      4\u001b[0m \u001b[0mdata_trad\u001b[0m \u001b[1;33m=\u001b[0m \u001b[0mdata_trad\u001b[0m\u001b[1;33m[\u001b[0m\u001b[0mdata_trad\u001b[0m\u001b[1;33m[\u001b[0m\u001b[1;34m'leak_dol_26w'\u001b[0m\u001b[1;33m]\u001b[0m \u001b[1;33m>\u001b[0m\u001b[1;36m0\u001b[0m\u001b[1;33m]\u001b[0m\u001b[1;33m\u001b[0m\u001b[1;33m\u001b[0m\u001b[0m\n\u001b[0;32m      5\u001b[0m \u001b[0mdata_trad\u001b[0m\u001b[1;33m.\u001b[0m\u001b[0mloc\u001b[0m\u001b[1;33m[\u001b[0m\u001b[1;33m:\u001b[0m\u001b[1;33m,\u001b[0m\u001b[1;34m'leak_26w'\u001b[0m\u001b[1;33m]\u001b[0m \u001b[1;33m=\u001b[0m \u001b[0mdata_trad\u001b[0m\u001b[1;33m[\u001b[0m\u001b[1;34m'leak_dol_26w'\u001b[0m\u001b[1;33m]\u001b[0m\u001b[1;33m/\u001b[0m\u001b[0mdata_trad\u001b[0m\u001b[1;33m[\u001b[0m\u001b[1;34m'DSPN_COGS_NDC_26WKS'\u001b[0m\u001b[1;33m]\u001b[0m\u001b[1;33m\u001b[0m\u001b[1;33m\u001b[0m\u001b[0m\n",
      "\u001b[1;31mNameError\u001b[0m: name 'data_2' is not defined"
     ]
    }
   ],
   "source": [
    "#Get price info on TRADJENTA\n",
    "data_trad = data_2[data_2['NDC_DESC'].str.contains('TRADJENTA')]\n",
    "data_trad = data_trad[data_trad['COGS_PRC_MTRC'] >12.75]\n",
    "data_trad = data_trad[data_trad['leak_dol_26w'] >0]\n",
    "data_trad.loc[:,'leak_26w'] = data_trad['leak_dol_26w']/data_trad['DSPN_COGS_NDC_26WKS']"
   ]
  },
  {
   "cell_type": "code",
   "execution_count": null,
   "metadata": {
    "ExecuteTime": {
     "end_time": "2019-05-23T02:17:36.369014Z",
     "start_time": "2019-05-23T02:17:36.208Z"
    }
   },
   "outputs": [],
   "source": [
    "plt.figure(figsize=(7,7))\n",
    "k = sb.scatterplot(x='leak_26w', y='COGS_PRC_MTRC', data=data_trad,hue=\"BUY_GRP_NAM\", size='leak_dol_26w', sizes=(75,320),alpha=0.9)\n",
    "# plt.setp(b.get_legend().get_texts(), fontsize='12')\n",
    "plt.legend(bbox_to_anchor=(1.05, 1), loc=2, borderaxespad=0.)\n",
    "plt.xlabel('Dispensed Total Value')\n",
    "plt.ylabel('Metric Price')"
   ]
  },
  {
   "cell_type": "code",
   "execution_count": null,
   "metadata": {
    "ExecuteTime": {
     "end_time": "2019-05-23T02:17:36.369014Z",
     "start_time": "2019-05-23T02:17:36.215Z"
    }
   },
   "outputs": [],
   "source": [
    "#Get price info on VICTOZA 2-PAK \n",
    "data_vic = data_2[data_2['NDC_DESC'].str.contains('VICTOZA 3-PAK')]\n",
    "# data_vic = data_vic[data_vic['COGS_PRC_MTRC'] >12.75]\n",
    "data_vic = data_vic[data_vic['leak_dol_26w'] >0]\n",
    "data_vic = data_vic[data_vic['leak_dol_26w'] <25000]\n",
    "data_vic = data_vic[data_vic['COGS_PRC_MTRC'] > 91]\n",
    "data_vic.loc[:,'leak_26w'] = data_vic['leak_dol_26w']/data_vic['DSPN_COGS_NDC_26WKS']"
   ]
  },
  {
   "cell_type": "code",
   "execution_count": null,
   "metadata": {
    "ExecuteTime": {
     "end_time": "2019-05-23T02:17:36.369014Z",
     "start_time": "2019-05-23T02:17:36.224Z"
    }
   },
   "outputs": [],
   "source": [
    "plt.figure(figsize=(7,7))\n",
    "k = sb.scatterplot(x='leak_26w', y='COGS_PRC_MTRC', data=data_vic,hue=\"BUY_GRP_NAM\", size='leak_dol_26w', sizes=(75,320),alpha=0.9, legend=False)\n",
    "# plt.setp(b.get_legend().get_texts(), fontsize='12')\n",
    "plt.legend(bbox_to_anchor=(1.05, 1), loc=2, borderaxespad=0.)\n",
    "plt.xlabel('Leak Rate')\n",
    "plt.ylabel('Metric Price')\n",
    "plt.savefig('lantus_victoza.png', transparent=True)"
   ]
  },
  {
   "cell_type": "markdown",
   "metadata": {},
   "source": [
    "## What's with SPURS"
   ]
  },
  {
   "cell_type": "markdown",
   "metadata": {},
   "source": [
    "## A unifying predictive model"
   ]
  },
  {
   "cell_type": "markdown",
   "metadata": {},
   "source": [
    "\n",
    "<b>Tentative features:</b>\n",
    "* Key ingredients (combine ingredients that always go together)\n",
    "* Buying group (make them dummy variables too)\n",
    "* DSPN dollars\n",
    "* A measure of price (which accounts for actual, reasonable units)\n",
    "* Branded / Generic\n",
    "\n",
    "<b>Target:</b>\n",
    "* Leak Dol\n",
    "\n",
    "\n",
    "<em><b>Try Ridge Regression first, then support vector</b></em>"
   ]
  }
 ],
 "metadata": {
  "kernelspec": {
   "display_name": "Python 3",
   "language": "python",
   "name": "python3"
  },
  "language_info": {
   "codemirror_mode": {
    "name": "ipython",
    "version": 3
   },
   "file_extension": ".py",
   "mimetype": "text/x-python",
   "name": "python",
   "nbconvert_exporter": "python",
   "pygments_lexer": "ipython3",
   "version": "3.7.3"
  },
  "toc": {
   "base_numbering": 1,
   "nav_menu": {},
   "number_sections": true,
   "sideBar": true,
   "skip_h1_title": false,
   "title_cell": "Table of Contents",
   "title_sidebar": "Contents",
   "toc_cell": false,
   "toc_position": {},
   "toc_section_display": true,
   "toc_window_display": false
  }
 },
 "nbformat": 4,
 "nbformat_minor": 2
}
