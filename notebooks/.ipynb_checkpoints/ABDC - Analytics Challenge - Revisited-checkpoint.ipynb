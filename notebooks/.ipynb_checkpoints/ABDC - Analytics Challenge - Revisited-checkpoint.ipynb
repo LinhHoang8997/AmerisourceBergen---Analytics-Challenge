{
 "cells": [
  {
   "cell_type": "markdown",
   "metadata": {},
   "source": [
    "<img src=\"http://www.integraconference.info/wp-content/uploads/2017/08/Vendor-Logo-AmerisourceBergen.png\" />"
   ]
  },
  {
   "cell_type": "markdown",
   "metadata": {
    "toc": true
   },
   "source": [
    "<h1>Table of Contents<span class=\"tocSkip\"></span></h1>\n",
    "<div class=\"toc\"><ul class=\"toc-item\"><li><span><a href=\"#Load-packages-and-data\" data-toc-modified-id=\"Load-packages-and-data-1\"><span class=\"toc-item-num\">1&nbsp;&nbsp;</span>Load packages and data</a></span></li><li><span><a href=\"#Create-measures-for-leakage\" data-toc-modified-id=\"Create-measures-for-leakage-2\"><span class=\"toc-item-num\">2&nbsp;&nbsp;</span>Create measures for leakage</a></span><ul class=\"toc-item\"><li><span><a href=\"#First-thing-first:-Research\" data-toc-modified-id=\"First-thing-first:-Research-2.1\"><span class=\"toc-item-num\">2.1&nbsp;&nbsp;</span>First thing first: Research</a></span></li><li><span><a href=\"#Clarifying-fields/variables\" data-toc-modified-id=\"Clarifying-fields/variables-2.2\"><span class=\"toc-item-num\">2.2&nbsp;&nbsp;</span>Clarifying fields/variables</a></span></li><li><span><a href=\"#Define-leakage\" data-toc-modified-id=\"Define-leakage-2.3\"><span class=\"toc-item-num\">2.3&nbsp;&nbsp;</span>Define leakage</a></span></li><li><span><a href=\"#Write-functions-to-identify-and-handle-outliers\" data-toc-modified-id=\"Write-functions-to-identify-and-handle-outliers-2.4\"><span class=\"toc-item-num\">2.4&nbsp;&nbsp;</span>Write functions to identify and handle outliers</a></span></li><li><span><a href=\"#Calculate-and-insert-sales-for-purchases-as-columns\" data-toc-modified-id=\"Calculate-and-insert-sales-for-purchases-as-columns-2.5\"><span class=\"toc-item-num\">2.5&nbsp;&nbsp;</span>Calculate and insert sales for purchases as columns</a></span></li><li><span><a href=\"#Write-functions-to-calculate-percentages-of-ABDC-sales-of-a-drug-to-the-total-sales-of-a-particular-drug-by-the-pharmacy,-and-then-leakage\" data-toc-modified-id=\"Write-functions-to-calculate-percentages-of-ABDC-sales-of-a-drug-to-the-total-sales-of-a-particular-drug-by-the-pharmacy,-and-then-leakage-2.6\"><span class=\"toc-item-num\">2.6&nbsp;&nbsp;</span>Write functions to calculate percentages of ABDC sales of a drug to the total sales of a particular drug by the pharmacy, and then leakage</a></span></li></ul></li><li><span><a href=\"#Exploratory-Analysis\" data-toc-modified-id=\"Exploratory-Analysis-3\"><span class=\"toc-item-num\">3&nbsp;&nbsp;</span>Exploratory Analysis</a></span><ul class=\"toc-item\"><li><span><a href=\"#Start-with-describing-the-variables\" data-toc-modified-id=\"Start-with-describing-the-variables-3.1\"><span class=\"toc-item-num\">3.1&nbsp;&nbsp;</span>Start with describing the variables</a></span></li><li><span><a href=\"#Group-data-by-NDCs-and-NDC-Descriptions\" data-toc-modified-id=\"Group-data-by-NDCs-and-NDC-Descriptions-3.2\"><span class=\"toc-item-num\">3.2&nbsp;&nbsp;</span>Group data by NDCs and NDC Descriptions</a></span><ul class=\"toc-item\"><li><span><a href=\"#Let's-look-at-the-distribution-plots-of-the-leakage:\" data-toc-modified-id=\"Let's-look-at-the-distribution-plots-of-the-leakage:-3.2.1\"><span class=\"toc-item-num\">3.2.1&nbsp;&nbsp;</span>Let's look at the distribution plots of the leakage:</a></span></li></ul></li><li><span><a href=\"#Looking-at-leakage-directly,-this-time-grouped-by-brand-name-(NDC-Description,-which-matches-with-GCN)\" data-toc-modified-id=\"Looking-at-leakage-directly,-this-time-grouped-by-brand-name-(NDC-Description,-which-matches-with-GCN)-3.3\"><span class=\"toc-item-num\">3.3&nbsp;&nbsp;</span>Looking at leakage directly, this time grouped by brand name (NDC Description, which matches with GCN)</a></span></li><li><span><a href=\"#Examining-Drug-Make-up-by-splitting-the-ingredient-descriptions\" data-toc-modified-id=\"Examining-Drug-Make-up-by-splitting-the-ingredient-descriptions-3.4\"><span class=\"toc-item-num\">3.4&nbsp;&nbsp;</span>Examining Drug Make-up by splitting the ingredient descriptions</a></span></li></ul></li><li><span><a href=\"#Pharmacies-and-Buying-Groups\" data-toc-modified-id=\"Pharmacies-and-Buying-Groups-4\"><span class=\"toc-item-num\">4&nbsp;&nbsp;</span>Pharmacies and Buying Groups</a></span><ul class=\"toc-item\"><li><span><a href=\"#Pharmacies\" data-toc-modified-id=\"Pharmacies-4.1\"><span class=\"toc-item-num\">4.1&nbsp;&nbsp;</span>Pharmacies</a></span></li><li><span><a href=\"#Buying-groups\" data-toc-modified-id=\"Buying-groups-4.2\"><span class=\"toc-item-num\">4.2&nbsp;&nbsp;</span>Buying groups</a></span></li></ul></li><li><span><a href=\"#Let's-get-more-business-data\" data-toc-modified-id=\"Let's-get-more-business-data-5\"><span class=\"toc-item-num\">5&nbsp;&nbsp;</span>Let's get more business data</a></span><ul class=\"toc-item\"><li><span><a href=\"#Loading-new-data\" data-toc-modified-id=\"Loading-new-data-5.1\"><span class=\"toc-item-num\">5.1&nbsp;&nbsp;</span>Loading new data</a></span></li><li><span><a href=\"#Merge-FDA-dataset-with-ABDC's\" data-toc-modified-id=\"Merge-FDA-dataset-with-ABDC's-5.2\"><span class=\"toc-item-num\">5.2&nbsp;&nbsp;</span>Merge FDA dataset with ABDC's</a></span></li></ul></li><li><span><a href=\"#Use-Lasso-Regression-to-select-variables-of-interest\" data-toc-modified-id=\"Use-Lasso-Regression-to-select-variables-of-interest-6\"><span class=\"toc-item-num\">6&nbsp;&nbsp;</span>Use Lasso Regression to select variables of interest</a></span><ul class=\"toc-item\"><li><span><a href=\"#Label-encode-categorical-variables-and-standardize-numerical-variables\" data-toc-modified-id=\"Label-encode-categorical-variables-and-standardize-numerical-variables-6.1\"><span class=\"toc-item-num\">6.1&nbsp;&nbsp;</span>Label-encode categorical variables and standardize numerical variables</a></span></li><li><span><a href=\"#Feature-Engineering\" data-toc-modified-id=\"Feature-Engineering-6.2\"><span class=\"toc-item-num\">6.2&nbsp;&nbsp;</span>Feature Engineering</a></span></li><li><span><a href=\"#Run-Lasso-Regression\" data-toc-modified-id=\"Run-Lasso-Regression-6.3\"><span class=\"toc-item-num\">6.3&nbsp;&nbsp;</span>Run Lasso Regression</a></span></li></ul></li><li><span><a href=\"#Accuracy-was-very-poor,-so-I'll-use-classification-models-instead\" data-toc-modified-id=\"Accuracy-was-very-poor,-so-I'll-use-classification-models-instead-7\"><span class=\"toc-item-num\">7&nbsp;&nbsp;</span>Accuracy was very poor, so I'll use classification models instead</a></span><ul class=\"toc-item\"><li><span><a href=\"#Define-categories\" data-toc-modified-id=\"Define-categories-7.1\"><span class=\"toc-item-num\">7.1&nbsp;&nbsp;</span>Define categories</a></span></li><li><span><a href=\"#Get-a-new-'features'-dataframe\" data-toc-modified-id=\"Get-a-new-'features'-dataframe-7.2\"><span class=\"toc-item-num\">7.2&nbsp;&nbsp;</span>Get a new 'features' dataframe</a></span></li><li><span><a href=\"#Train-Random-Forest-model\" data-toc-modified-id=\"Train-Random-Forest-model-7.3\"><span class=\"toc-item-num\">7.3&nbsp;&nbsp;</span>Train Random Forest model</a></span></li><li><span><a href=\"#Look-at-the-top-20-most-important-features-in-our-set:\" data-toc-modified-id=\"Look-at-the-top-20-most-important-features-in-our-set:-7.4\"><span class=\"toc-item-num\">7.4&nbsp;&nbsp;</span>Look at the top 20 most important features in our set:</a></span></li></ul></li></ul></div>"
   ]
  },
  {
   "cell_type": "markdown",
   "metadata": {},
   "source": [
    "**Note**: hyperlinks do not work in Github's preview for Jupyter notebooks. "
   ]
  },
  {
   "cell_type": "markdown",
   "metadata": {},
   "source": [
    "# Load packages and data"
   ]
  },
  {
   "cell_type": "code",
   "execution_count": 104,
   "metadata": {
    "ExecuteTime": {
     "end_time": "2019-05-24T02:49:31.734081Z",
     "start_time": "2019-05-24T02:49:31.728097Z"
    }
   },
   "outputs": [],
   "source": [
    "import numpy as np\n",
    "import pandas as pd\n",
    "import seaborn as sns\n",
    "import matplotlib.pyplot as plt\n",
    "from pandas import DataFrame, Series\n",
    "from pylab import rcParams\n",
    "from pandas.api.types import is_numeric_dtype\n",
    "\n",
    "import warnings\n",
    "warnings.filterwarnings('once')\n",
    "import pprint"
   ]
  },
  {
   "cell_type": "markdown",
   "metadata": {},
   "source": [
    "Configure numbers to display in a more intuitive way"
   ]
  },
  {
   "cell_type": "code",
   "execution_count": 105,
   "metadata": {
    "ExecuteTime": {
     "end_time": "2019-05-24T02:49:31.749038Z",
     "start_time": "2019-05-24T02:49:31.744053Z"
    }
   },
   "outputs": [],
   "source": [
    "pd.options.display.float_format = '{:,.2f}'.format"
   ]
  },
  {
   "cell_type": "code",
   "execution_count": 106,
   "metadata": {
    "ExecuteTime": {
     "end_time": "2019-05-24T02:49:31.766989Z",
     "start_time": "2019-05-24T02:49:31.756020Z"
    }
   },
   "outputs": [],
   "source": [
    "%matplotlib inline\n",
    "sns.set(font='Roboto', style='whitegrid')\n",
    "rcParams['figure.figsize'] = 12, 8"
   ]
  },
  {
   "cell_type": "code",
   "execution_count": 107,
   "metadata": {
    "ExecuteTime": {
     "end_time": "2019-05-24T02:49:32.856077Z",
     "start_time": "2019-05-24T02:49:31.770980Z"
    }
   },
   "outputs": [],
   "source": [
    "# Keep GCN and NDC strings when importing the dataset\n",
    "dtype_dic= {'GCNSEQ_NBR':str,'NDC':str}\n",
    "\n",
    "# Load the dataset from csv to a dataframe\n",
    "data = pd.read_csv('../data/dataset.csv', header=0, dtype=dtype_dic)"
   ]
  },
  {
   "cell_type": "markdown",
   "metadata": {
    "ExecuteTime": {
     "end_time": "2019-05-23T22:40:48.454143Z",
     "start_time": "2019-05-23T22:40:48.216239Z"
    },
    "scrolled": true
   },
   "source": [
    "Use `info()` for a overview of the fields' data types and null values "
   ]
  },
  {
   "cell_type": "code",
   "execution_count": 108,
   "metadata": {
    "ExecuteTime": {
     "end_time": "2019-05-24T02:49:33.116383Z",
     "start_time": "2019-05-24T02:49:32.860095Z"
    },
    "scrolled": true
   },
   "outputs": [
    {
     "name": "stdout",
     "output_type": "stream",
     "text": [
      "<class 'pandas.core.frame.DataFrame'>\n",
      "RangeIndex: 89516 entries, 0 to 89515\n",
      "Data columns (total 44 columns):\n",
      "ID                          89516 non-null int64\n",
      "WK_NBR                      89516 non-null int64\n",
      "WK_BEGIN_DTE                89516 non-null object\n",
      "WK_END_DTE                  89516 non-null object\n",
      "NCPDP_TOKEN                 89516 non-null float64\n",
      "PHRMCY_NAME                 89516 non-null object\n",
      "BUY_GRP_NAM                 89516 non-null object\n",
      "NDC                         89516 non-null object\n",
      "NDC_DESC                    89516 non-null object\n",
      "BRX_GRX_CD                  89516 non-null object\n",
      "NDC_QTY_MTRC                89516 non-null float64\n",
      "NDC_PKG_SZ                  89516 non-null float64\n",
      "NDC_CASE_PK_QTY             89516 non-null int64\n",
      "MFG_NAM                     89516 non-null object\n",
      "GCNSEQ_NBR                  89516 non-null object\n",
      "GCNSEQ_DESC                 89516 non-null object\n",
      "GCNSEQ_RTE_OF_ADMIN_DESC    89516 non-null object\n",
      "GCNSEQ_DSG_FORM_CD          89516 non-null object\n",
      "GCNSEQ_STR_DESC             89516 non-null object\n",
      "DSPN_QTY_NDC_1WK            89516 non-null float64\n",
      "DSPN_QTY_NDC_4WKS           89516 non-null float64\n",
      "DSPN_QTY_NDC_13WKS          89516 non-null float64\n",
      "DSPN_QTY_NDC_26WKS          89516 non-null float64\n",
      "DSPN_QTY_GCN_1WK            89516 non-null float64\n",
      "DSPN_QTY_GCN_4WKS           89516 non-null float64\n",
      "DSPN_QTY_GCN_13WKS          89516 non-null float64\n",
      "DSPN_QTY_GCN_26WKS          89516 non-null float64\n",
      "PURCH_QTY_NDC_1WK_MTRC      89516 non-null float64\n",
      "PURCH_QTY_NDC_4WKS_MTRC     89516 non-null float64\n",
      "PURCH_QTY_NDC_13WKS_MTRC    89516 non-null float64\n",
      "PURCH_QTY_NDC_26WKS_MTRC    89516 non-null float64\n",
      "PURCH_QTY_GCN_1WK_MTRC      89516 non-null float64\n",
      "PURCH_QTY_GCN_4WKS_MTRC     89516 non-null float64\n",
      "PURCH_QTY_GCN_13WKS_MTRC    89516 non-null float64\n",
      "PURCH_QTY_GCN_26WKS_MTRC    89516 non-null float64\n",
      "COGS_PRC_MTRC               85770 non-null float64\n",
      "DSPN_COGS_NDC_1WK           85770 non-null float64\n",
      "DSPN_COGS_NDC_4WKS          89516 non-null float64\n",
      "DSPN_COGS_NDC_13WKS         89516 non-null float64\n",
      "DSPN_COGS_NDC_26WKS         89516 non-null float64\n",
      "DSPN_COGS_GCN_1WK           89516 non-null float64\n",
      "DSPN_COGS_GCN_4WKS          89516 non-null float64\n",
      "DSPN_COGS_GCN_13WKS         89516 non-null float64\n",
      "DSPN_COGS_GCN_26WKS         89516 non-null float64\n",
      "dtypes: float64(28), int64(3), object(13)\n",
      "memory usage: 25.6+ MB\n"
     ]
    }
   ],
   "source": [
    "data.info()"
   ]
  },
  {
   "cell_type": "markdown",
   "metadata": {},
   "source": [
    "Take a brief look with `head()`"
   ]
  },
  {
   "cell_type": "code",
   "execution_count": 109,
   "metadata": {
    "ExecuteTime": {
     "end_time": "2019-05-24T02:49:33.240051Z",
     "start_time": "2019-05-24T02:49:33.120371Z"
    }
   },
   "outputs": [
    {
     "data": {
      "text/html": [
       "<div>\n",
       "<style scoped>\n",
       "    .dataframe tbody tr th:only-of-type {\n",
       "        vertical-align: middle;\n",
       "    }\n",
       "\n",
       "    .dataframe tbody tr th {\n",
       "        vertical-align: top;\n",
       "    }\n",
       "\n",
       "    .dataframe thead th {\n",
       "        text-align: right;\n",
       "    }\n",
       "</style>\n",
       "<table border=\"1\" class=\"dataframe\">\n",
       "  <thead>\n",
       "    <tr style=\"text-align: right;\">\n",
       "      <th></th>\n",
       "      <th>ID</th>\n",
       "      <th>WK_NBR</th>\n",
       "      <th>WK_BEGIN_DTE</th>\n",
       "      <th>WK_END_DTE</th>\n",
       "      <th>NCPDP_TOKEN</th>\n",
       "      <th>PHRMCY_NAME</th>\n",
       "      <th>BUY_GRP_NAM</th>\n",
       "      <th>NDC</th>\n",
       "      <th>NDC_DESC</th>\n",
       "      <th>BRX_GRX_CD</th>\n",
       "      <th>NDC_QTY_MTRC</th>\n",
       "      <th>NDC_PKG_SZ</th>\n",
       "      <th>NDC_CASE_PK_QTY</th>\n",
       "      <th>MFG_NAM</th>\n",
       "      <th>GCNSEQ_NBR</th>\n",
       "      <th>GCNSEQ_DESC</th>\n",
       "      <th>GCNSEQ_RTE_OF_ADMIN_DESC</th>\n",
       "      <th>GCNSEQ_DSG_FORM_CD</th>\n",
       "      <th>GCNSEQ_STR_DESC</th>\n",
       "      <th>DSPN_QTY_NDC_1WK</th>\n",
       "      <th>DSPN_QTY_NDC_4WKS</th>\n",
       "      <th>DSPN_QTY_NDC_13WKS</th>\n",
       "      <th>DSPN_QTY_NDC_26WKS</th>\n",
       "      <th>DSPN_QTY_GCN_1WK</th>\n",
       "      <th>DSPN_QTY_GCN_4WKS</th>\n",
       "      <th>DSPN_QTY_GCN_13WKS</th>\n",
       "      <th>DSPN_QTY_GCN_26WKS</th>\n",
       "      <th>PURCH_QTY_NDC_1WK_MTRC</th>\n",
       "      <th>PURCH_QTY_NDC_4WKS_MTRC</th>\n",
       "      <th>PURCH_QTY_NDC_13WKS_MTRC</th>\n",
       "      <th>PURCH_QTY_NDC_26WKS_MTRC</th>\n",
       "      <th>PURCH_QTY_GCN_1WK_MTRC</th>\n",
       "      <th>PURCH_QTY_GCN_4WKS_MTRC</th>\n",
       "      <th>PURCH_QTY_GCN_13WKS_MTRC</th>\n",
       "      <th>PURCH_QTY_GCN_26WKS_MTRC</th>\n",
       "      <th>COGS_PRC_MTRC</th>\n",
       "      <th>DSPN_COGS_NDC_1WK</th>\n",
       "      <th>DSPN_COGS_NDC_4WKS</th>\n",
       "      <th>DSPN_COGS_NDC_13WKS</th>\n",
       "      <th>DSPN_COGS_NDC_26WKS</th>\n",
       "      <th>DSPN_COGS_GCN_1WK</th>\n",
       "      <th>DSPN_COGS_GCN_4WKS</th>\n",
       "      <th>DSPN_COGS_GCN_13WKS</th>\n",
       "      <th>DSPN_COGS_GCN_26WKS</th>\n",
       "    </tr>\n",
       "  </thead>\n",
       "  <tbody>\n",
       "    <tr>\n",
       "      <th>0</th>\n",
       "      <td>0</td>\n",
       "      <td>201836</td>\n",
       "      <td>9/2/2018</td>\n",
       "      <td>9/8/2018</td>\n",
       "      <td>4,410,000,000,000,000.00</td>\n",
       "      <td>PHARMACY 1126</td>\n",
       "      <td>SPURS</td>\n",
       "      <td>71101468</td>\n",
       "      <td>LYRICA 75 MG CAPSULE</td>\n",
       "      <td>BRX</td>\n",
       "      <td>90.00</td>\n",
       "      <td>90.00</td>\n",
       "      <td>1</td>\n",
       "      <td>PFIZER US PHARM</td>\n",
       "      <td>57801</td>\n",
       "      <td>pregabalin ORAL CAPSULE 75 MG</td>\n",
       "      <td>P</td>\n",
       "      <td>CA</td>\n",
       "      <td>75 mg</td>\n",
       "      <td>120.00</td>\n",
       "      <td>270.00</td>\n",
       "      <td>900.00</td>\n",
       "      <td>900.00</td>\n",
       "      <td>120.00</td>\n",
       "      <td>270.00</td>\n",
       "      <td>900.00</td>\n",
       "      <td>900.00</td>\n",
       "      <td>0.00</td>\n",
       "      <td>0.00</td>\n",
       "      <td>0.00</td>\n",
       "      <td>0.00</td>\n",
       "      <td>0.00</td>\n",
       "      <td>0.00</td>\n",
       "      <td>0.00</td>\n",
       "      <td>0.00</td>\n",
       "      <td>7.28</td>\n",
       "      <td>873.95</td>\n",
       "      <td>1,966.39</td>\n",
       "      <td>6,598.32</td>\n",
       "      <td>6,598.32</td>\n",
       "      <td>873.95</td>\n",
       "      <td>1,966.39</td>\n",
       "      <td>6,598.32</td>\n",
       "      <td>6,598.32</td>\n",
       "    </tr>\n",
       "    <tr>\n",
       "      <th>1</th>\n",
       "      <td>1</td>\n",
       "      <td>201836</td>\n",
       "      <td>9/2/2018</td>\n",
       "      <td>9/8/2018</td>\n",
       "      <td>4,410,000,000,000,000.00</td>\n",
       "      <td>PHARMACY 1126</td>\n",
       "      <td>SPURS</td>\n",
       "      <td>173069600</td>\n",
       "      <td>ADVAIR 250-50 DISKUS</td>\n",
       "      <td>BRX</td>\n",
       "      <td>60.00</td>\n",
       "      <td>60.00</td>\n",
       "      <td>1</td>\n",
       "      <td>GLAXOSMITHKLINE</td>\n",
       "      <td>43367</td>\n",
       "      <td>fluticasone/salmeterol INHALATION BLST W/DEV 2...</td>\n",
       "      <td>I</td>\n",
       "      <td>GK</td>\n",
       "      <td>250 mcg-50 mcg/dose</td>\n",
       "      <td>240.00</td>\n",
       "      <td>540.00</td>\n",
       "      <td>1,260.00</td>\n",
       "      <td>1,260.00</td>\n",
       "      <td>240.00</td>\n",
       "      <td>540.00</td>\n",
       "      <td>1,260.00</td>\n",
       "      <td>1,260.00</td>\n",
       "      <td>0.00</td>\n",
       "      <td>0.00</td>\n",
       "      <td>0.00</td>\n",
       "      <td>0.00</td>\n",
       "      <td>0.00</td>\n",
       "      <td>0.00</td>\n",
       "      <td>0.00</td>\n",
       "      <td>0.00</td>\n",
       "      <td>6.43</td>\n",
       "      <td>1,544.21</td>\n",
       "      <td>3,474.46</td>\n",
       "      <td>8,107.08</td>\n",
       "      <td>8,107.08</td>\n",
       "      <td>1,544.21</td>\n",
       "      <td>3,474.46</td>\n",
       "      <td>8,107.08</td>\n",
       "      <td>8,107.08</td>\n",
       "    </tr>\n",
       "    <tr>\n",
       "      <th>2</th>\n",
       "      <td>2</td>\n",
       "      <td>201836</td>\n",
       "      <td>9/2/2018</td>\n",
       "      <td>9/8/2018</td>\n",
       "      <td>4,410,000,000,000,000.00</td>\n",
       "      <td>PHARMACY 1126</td>\n",
       "      <td>SPURS</td>\n",
       "      <td>12496120803</td>\n",
       "      <td>SUBOXONE 8 MG-2 MG SL FILM</td>\n",
       "      <td>BRX</td>\n",
       "      <td>30.00</td>\n",
       "      <td>30.00</td>\n",
       "      <td>1</td>\n",
       "      <td>INDIVIOR INC.</td>\n",
       "      <td>66636</td>\n",
       "      <td>buprenorphine HCl/naloxone HCl SUBLINGUAL FILM...</td>\n",
       "      <td>S</td>\n",
       "      <td>FI</td>\n",
       "      <td>8 mg-2 mg</td>\n",
       "      <td>105.00</td>\n",
       "      <td>360.00</td>\n",
       "      <td>1,040.00</td>\n",
       "      <td>1,040.00</td>\n",
       "      <td>105.00</td>\n",
       "      <td>360.00</td>\n",
       "      <td>1,040.00</td>\n",
       "      <td>1,040.00</td>\n",
       "      <td>0.00</td>\n",
       "      <td>0.00</td>\n",
       "      <td>0.00</td>\n",
       "      <td>0.00</td>\n",
       "      <td>0.00</td>\n",
       "      <td>0.00</td>\n",
       "      <td>0.00</td>\n",
       "      <td>0.00</td>\n",
       "      <td>7.99</td>\n",
       "      <td>838.43</td>\n",
       "      <td>2,874.61</td>\n",
       "      <td>8,304.44</td>\n",
       "      <td>8,304.44</td>\n",
       "      <td>838.43</td>\n",
       "      <td>2,874.61</td>\n",
       "      <td>8,304.44</td>\n",
       "      <td>8,304.44</td>\n",
       "    </tr>\n",
       "    <tr>\n",
       "      <th>3</th>\n",
       "      <td>3</td>\n",
       "      <td>201836</td>\n",
       "      <td>9/2/2018</td>\n",
       "      <td>9/8/2018</td>\n",
       "      <td>4,410,000,000,000,000.00</td>\n",
       "      <td>PHARMACY 1126</td>\n",
       "      <td>SPURS</td>\n",
       "      <td>2751001</td>\n",
       "      <td>HUMALOG 100 UNITS/ML VIAL</td>\n",
       "      <td>BRX</td>\n",
       "      <td>10.00</td>\n",
       "      <td>10.00</td>\n",
       "      <td>1</td>\n",
       "      <td>ELI LILLY &amp; CO.</td>\n",
       "      <td>27413</td>\n",
       "      <td>insulin lispro SUBCUT VIAL 100/ML</td>\n",
       "      <td>S</td>\n",
       "      <td>HV</td>\n",
       "      <td>100 unit/mL</td>\n",
       "      <td>40.00</td>\n",
       "      <td>60.00</td>\n",
       "      <td>170.00</td>\n",
       "      <td>170.00</td>\n",
       "      <td>40.00</td>\n",
       "      <td>60.00</td>\n",
       "      <td>170.00</td>\n",
       "      <td>170.00</td>\n",
       "      <td>0.00</td>\n",
       "      <td>0.00</td>\n",
       "      <td>0.00</td>\n",
       "      <td>0.00</td>\n",
       "      <td>0.00</td>\n",
       "      <td>0.00</td>\n",
       "      <td>0.00</td>\n",
       "      <td>0.00</td>\n",
       "      <td>26.92</td>\n",
       "      <td>1,076.82</td>\n",
       "      <td>1,615.24</td>\n",
       "      <td>4,576.50</td>\n",
       "      <td>4,576.50</td>\n",
       "      <td>1,076.82</td>\n",
       "      <td>1,615.24</td>\n",
       "      <td>4,576.50</td>\n",
       "      <td>4,576.50</td>\n",
       "    </tr>\n",
       "  </tbody>\n",
       "</table>\n",
       "</div>"
      ],
      "text/plain": [
       "   ID  WK_NBR WK_BEGIN_DTE WK_END_DTE              NCPDP_TOKEN    PHRMCY_NAME  \\\n",
       "0   0  201836     9/2/2018   9/8/2018 4,410,000,000,000,000.00  PHARMACY 1126   \n",
       "1   1  201836     9/2/2018   9/8/2018 4,410,000,000,000,000.00  PHARMACY 1126   \n",
       "2   2  201836     9/2/2018   9/8/2018 4,410,000,000,000,000.00  PHARMACY 1126   \n",
       "3   3  201836     9/2/2018   9/8/2018 4,410,000,000,000,000.00  PHARMACY 1126   \n",
       "\n",
       "  BUY_GRP_NAM          NDC                    NDC_DESC BRX_GRX_CD  \\\n",
       "0       SPURS     71101468        LYRICA 75 MG CAPSULE        BRX   \n",
       "1       SPURS    173069600        ADVAIR 250-50 DISKUS        BRX   \n",
       "2       SPURS  12496120803  SUBOXONE 8 MG-2 MG SL FILM        BRX   \n",
       "3       SPURS      2751001   HUMALOG 100 UNITS/ML VIAL        BRX   \n",
       "\n",
       "   NDC_QTY_MTRC  NDC_PKG_SZ  NDC_CASE_PK_QTY          MFG_NAM GCNSEQ_NBR  \\\n",
       "0         90.00       90.00                1  PFIZER US PHARM      57801   \n",
       "1         60.00       60.00                1  GLAXOSMITHKLINE      43367   \n",
       "2         30.00       30.00                1    INDIVIOR INC.      66636   \n",
       "3         10.00       10.00                1  ELI LILLY & CO.      27413   \n",
       "\n",
       "                                         GCNSEQ_DESC GCNSEQ_RTE_OF_ADMIN_DESC  \\\n",
       "0                      pregabalin ORAL CAPSULE 75 MG                        P   \n",
       "1  fluticasone/salmeterol INHALATION BLST W/DEV 2...                        I   \n",
       "2  buprenorphine HCl/naloxone HCl SUBLINGUAL FILM...                        S   \n",
       "3                  insulin lispro SUBCUT VIAL 100/ML                        S   \n",
       "\n",
       "  GCNSEQ_DSG_FORM_CD      GCNSEQ_STR_DESC  DSPN_QTY_NDC_1WK  \\\n",
       "0                 CA                75 mg            120.00   \n",
       "1                 GK  250 mcg-50 mcg/dose            240.00   \n",
       "2                 FI            8 mg-2 mg            105.00   \n",
       "3                 HV          100 unit/mL             40.00   \n",
       "\n",
       "   DSPN_QTY_NDC_4WKS  DSPN_QTY_NDC_13WKS  DSPN_QTY_NDC_26WKS  \\\n",
       "0             270.00              900.00              900.00   \n",
       "1             540.00            1,260.00            1,260.00   \n",
       "2             360.00            1,040.00            1,040.00   \n",
       "3              60.00              170.00              170.00   \n",
       "\n",
       "   DSPN_QTY_GCN_1WK  DSPN_QTY_GCN_4WKS  DSPN_QTY_GCN_13WKS  \\\n",
       "0            120.00             270.00              900.00   \n",
       "1            240.00             540.00            1,260.00   \n",
       "2            105.00             360.00            1,040.00   \n",
       "3             40.00              60.00              170.00   \n",
       "\n",
       "   DSPN_QTY_GCN_26WKS  PURCH_QTY_NDC_1WK_MTRC  PURCH_QTY_NDC_4WKS_MTRC  \\\n",
       "0              900.00                    0.00                     0.00   \n",
       "1            1,260.00                    0.00                     0.00   \n",
       "2            1,040.00                    0.00                     0.00   \n",
       "3              170.00                    0.00                     0.00   \n",
       "\n",
       "   PURCH_QTY_NDC_13WKS_MTRC  PURCH_QTY_NDC_26WKS_MTRC  PURCH_QTY_GCN_1WK_MTRC  \\\n",
       "0                      0.00                      0.00                    0.00   \n",
       "1                      0.00                      0.00                    0.00   \n",
       "2                      0.00                      0.00                    0.00   \n",
       "3                      0.00                      0.00                    0.00   \n",
       "\n",
       "   PURCH_QTY_GCN_4WKS_MTRC  PURCH_QTY_GCN_13WKS_MTRC  \\\n",
       "0                     0.00                      0.00   \n",
       "1                     0.00                      0.00   \n",
       "2                     0.00                      0.00   \n",
       "3                     0.00                      0.00   \n",
       "\n",
       "   PURCH_QTY_GCN_26WKS_MTRC  COGS_PRC_MTRC  DSPN_COGS_NDC_1WK  \\\n",
       "0                      0.00           7.28             873.95   \n",
       "1                      0.00           6.43           1,544.21   \n",
       "2                      0.00           7.99             838.43   \n",
       "3                      0.00          26.92           1,076.82   \n",
       "\n",
       "   DSPN_COGS_NDC_4WKS  DSPN_COGS_NDC_13WKS  DSPN_COGS_NDC_26WKS  \\\n",
       "0            1,966.39             6,598.32             6,598.32   \n",
       "1            3,474.46             8,107.08             8,107.08   \n",
       "2            2,874.61             8,304.44             8,304.44   \n",
       "3            1,615.24             4,576.50             4,576.50   \n",
       "\n",
       "   DSPN_COGS_GCN_1WK  DSPN_COGS_GCN_4WKS  DSPN_COGS_GCN_13WKS  \\\n",
       "0             873.95            1,966.39             6,598.32   \n",
       "1           1,544.21            3,474.46             8,107.08   \n",
       "2             838.43            2,874.61             8,304.44   \n",
       "3           1,076.82            1,615.24             4,576.50   \n",
       "\n",
       "   DSPN_COGS_GCN_26WKS  \n",
       "0             6,598.32  \n",
       "1             8,107.08  \n",
       "2             8,304.44  \n",
       "3             4,576.50  "
      ]
     },
     "execution_count": 109,
     "metadata": {},
     "output_type": "execute_result"
    }
   ],
   "source": [
    "pd.options.display.max_columns = None\n",
    "data.head(4)"
   ]
  },
  {
   "cell_type": "markdown",
   "metadata": {},
   "source": [
    "The 11-digit NDC didn't turn out correctly. A quick fix will do."
   ]
  },
  {
   "cell_type": "code",
   "execution_count": 110,
   "metadata": {},
   "outputs": [
    {
     "data": {
      "text/html": [
       "<div>\n",
       "<style scoped>\n",
       "    .dataframe tbody tr th:only-of-type {\n",
       "        vertical-align: middle;\n",
       "    }\n",
       "\n",
       "    .dataframe tbody tr th {\n",
       "        vertical-align: top;\n",
       "    }\n",
       "\n",
       "    .dataframe thead th {\n",
       "        text-align: right;\n",
       "    }\n",
       "</style>\n",
       "<table border=\"1\" class=\"dataframe\">\n",
       "  <thead>\n",
       "    <tr style=\"text-align: right;\">\n",
       "      <th></th>\n",
       "      <th>ID</th>\n",
       "      <th>WK_NBR</th>\n",
       "      <th>WK_BEGIN_DTE</th>\n",
       "      <th>WK_END_DTE</th>\n",
       "      <th>NCPDP_TOKEN</th>\n",
       "      <th>PHRMCY_NAME</th>\n",
       "      <th>BUY_GRP_NAM</th>\n",
       "      <th>NDC</th>\n",
       "      <th>NDC_DESC</th>\n",
       "      <th>BRX_GRX_CD</th>\n",
       "      <th>NDC_QTY_MTRC</th>\n",
       "      <th>NDC_PKG_SZ</th>\n",
       "      <th>NDC_CASE_PK_QTY</th>\n",
       "      <th>MFG_NAM</th>\n",
       "      <th>GCNSEQ_NBR</th>\n",
       "      <th>GCNSEQ_DESC</th>\n",
       "      <th>GCNSEQ_RTE_OF_ADMIN_DESC</th>\n",
       "      <th>GCNSEQ_DSG_FORM_CD</th>\n",
       "      <th>GCNSEQ_STR_DESC</th>\n",
       "      <th>DSPN_QTY_NDC_1WK</th>\n",
       "      <th>DSPN_QTY_NDC_4WKS</th>\n",
       "      <th>DSPN_QTY_NDC_13WKS</th>\n",
       "      <th>DSPN_QTY_NDC_26WKS</th>\n",
       "      <th>DSPN_QTY_GCN_1WK</th>\n",
       "      <th>DSPN_QTY_GCN_4WKS</th>\n",
       "      <th>DSPN_QTY_GCN_13WKS</th>\n",
       "      <th>DSPN_QTY_GCN_26WKS</th>\n",
       "      <th>PURCH_QTY_NDC_1WK_MTRC</th>\n",
       "      <th>PURCH_QTY_NDC_4WKS_MTRC</th>\n",
       "      <th>PURCH_QTY_NDC_13WKS_MTRC</th>\n",
       "      <th>PURCH_QTY_NDC_26WKS_MTRC</th>\n",
       "      <th>PURCH_QTY_GCN_1WK_MTRC</th>\n",
       "      <th>PURCH_QTY_GCN_4WKS_MTRC</th>\n",
       "      <th>PURCH_QTY_GCN_13WKS_MTRC</th>\n",
       "      <th>PURCH_QTY_GCN_26WKS_MTRC</th>\n",
       "      <th>COGS_PRC_MTRC</th>\n",
       "      <th>DSPN_COGS_NDC_1WK</th>\n",
       "      <th>DSPN_COGS_NDC_4WKS</th>\n",
       "      <th>DSPN_COGS_NDC_13WKS</th>\n",
       "      <th>DSPN_COGS_NDC_26WKS</th>\n",
       "      <th>DSPN_COGS_GCN_1WK</th>\n",
       "      <th>DSPN_COGS_GCN_4WKS</th>\n",
       "      <th>DSPN_COGS_GCN_13WKS</th>\n",
       "      <th>DSPN_COGS_GCN_26WKS</th>\n",
       "    </tr>\n",
       "  </thead>\n",
       "  <tbody>\n",
       "    <tr>\n",
       "      <th>0</th>\n",
       "      <td>0</td>\n",
       "      <td>201836</td>\n",
       "      <td>9/2/2018</td>\n",
       "      <td>9/8/2018</td>\n",
       "      <td>4,410,000,000,000,000.00</td>\n",
       "      <td>PHARMACY 1126</td>\n",
       "      <td>SPURS</td>\n",
       "      <td>00071101468</td>\n",
       "      <td>LYRICA 75 MG CAPSULE</td>\n",
       "      <td>BRX</td>\n",
       "      <td>90.00</td>\n",
       "      <td>90.00</td>\n",
       "      <td>1</td>\n",
       "      <td>PFIZER US PHARM</td>\n",
       "      <td>57801</td>\n",
       "      <td>pregabalin ORAL CAPSULE 75 MG</td>\n",
       "      <td>P</td>\n",
       "      <td>CA</td>\n",
       "      <td>75 mg</td>\n",
       "      <td>120.00</td>\n",
       "      <td>270.00</td>\n",
       "      <td>900.00</td>\n",
       "      <td>900.00</td>\n",
       "      <td>120.00</td>\n",
       "      <td>270.00</td>\n",
       "      <td>900.00</td>\n",
       "      <td>900.00</td>\n",
       "      <td>0.00</td>\n",
       "      <td>0.00</td>\n",
       "      <td>0.00</td>\n",
       "      <td>0.00</td>\n",
       "      <td>0.00</td>\n",
       "      <td>0.00</td>\n",
       "      <td>0.00</td>\n",
       "      <td>0.00</td>\n",
       "      <td>7.28</td>\n",
       "      <td>873.95</td>\n",
       "      <td>1,966.39</td>\n",
       "      <td>6,598.32</td>\n",
       "      <td>6,598.32</td>\n",
       "      <td>873.95</td>\n",
       "      <td>1,966.39</td>\n",
       "      <td>6,598.32</td>\n",
       "      <td>6,598.32</td>\n",
       "    </tr>\n",
       "    <tr>\n",
       "      <th>1</th>\n",
       "      <td>1</td>\n",
       "      <td>201836</td>\n",
       "      <td>9/2/2018</td>\n",
       "      <td>9/8/2018</td>\n",
       "      <td>4,410,000,000,000,000.00</td>\n",
       "      <td>PHARMACY 1126</td>\n",
       "      <td>SPURS</td>\n",
       "      <td>00173069600</td>\n",
       "      <td>ADVAIR 250-50 DISKUS</td>\n",
       "      <td>BRX</td>\n",
       "      <td>60.00</td>\n",
       "      <td>60.00</td>\n",
       "      <td>1</td>\n",
       "      <td>GLAXOSMITHKLINE</td>\n",
       "      <td>43367</td>\n",
       "      <td>fluticasone/salmeterol INHALATION BLST W/DEV 2...</td>\n",
       "      <td>I</td>\n",
       "      <td>GK</td>\n",
       "      <td>250 mcg-50 mcg/dose</td>\n",
       "      <td>240.00</td>\n",
       "      <td>540.00</td>\n",
       "      <td>1,260.00</td>\n",
       "      <td>1,260.00</td>\n",
       "      <td>240.00</td>\n",
       "      <td>540.00</td>\n",
       "      <td>1,260.00</td>\n",
       "      <td>1,260.00</td>\n",
       "      <td>0.00</td>\n",
       "      <td>0.00</td>\n",
       "      <td>0.00</td>\n",
       "      <td>0.00</td>\n",
       "      <td>0.00</td>\n",
       "      <td>0.00</td>\n",
       "      <td>0.00</td>\n",
       "      <td>0.00</td>\n",
       "      <td>6.43</td>\n",
       "      <td>1,544.21</td>\n",
       "      <td>3,474.46</td>\n",
       "      <td>8,107.08</td>\n",
       "      <td>8,107.08</td>\n",
       "      <td>1,544.21</td>\n",
       "      <td>3,474.46</td>\n",
       "      <td>8,107.08</td>\n",
       "      <td>8,107.08</td>\n",
       "    </tr>\n",
       "    <tr>\n",
       "      <th>2</th>\n",
       "      <td>2</td>\n",
       "      <td>201836</td>\n",
       "      <td>9/2/2018</td>\n",
       "      <td>9/8/2018</td>\n",
       "      <td>4,410,000,000,000,000.00</td>\n",
       "      <td>PHARMACY 1126</td>\n",
       "      <td>SPURS</td>\n",
       "      <td>12496120803</td>\n",
       "      <td>SUBOXONE 8 MG-2 MG SL FILM</td>\n",
       "      <td>BRX</td>\n",
       "      <td>30.00</td>\n",
       "      <td>30.00</td>\n",
       "      <td>1</td>\n",
       "      <td>INDIVIOR INC.</td>\n",
       "      <td>66636</td>\n",
       "      <td>buprenorphine HCl/naloxone HCl SUBLINGUAL FILM...</td>\n",
       "      <td>S</td>\n",
       "      <td>FI</td>\n",
       "      <td>8 mg-2 mg</td>\n",
       "      <td>105.00</td>\n",
       "      <td>360.00</td>\n",
       "      <td>1,040.00</td>\n",
       "      <td>1,040.00</td>\n",
       "      <td>105.00</td>\n",
       "      <td>360.00</td>\n",
       "      <td>1,040.00</td>\n",
       "      <td>1,040.00</td>\n",
       "      <td>0.00</td>\n",
       "      <td>0.00</td>\n",
       "      <td>0.00</td>\n",
       "      <td>0.00</td>\n",
       "      <td>0.00</td>\n",
       "      <td>0.00</td>\n",
       "      <td>0.00</td>\n",
       "      <td>0.00</td>\n",
       "      <td>7.99</td>\n",
       "      <td>838.43</td>\n",
       "      <td>2,874.61</td>\n",
       "      <td>8,304.44</td>\n",
       "      <td>8,304.44</td>\n",
       "      <td>838.43</td>\n",
       "      <td>2,874.61</td>\n",
       "      <td>8,304.44</td>\n",
       "      <td>8,304.44</td>\n",
       "    </tr>\n",
       "    <tr>\n",
       "      <th>3</th>\n",
       "      <td>3</td>\n",
       "      <td>201836</td>\n",
       "      <td>9/2/2018</td>\n",
       "      <td>9/8/2018</td>\n",
       "      <td>4,410,000,000,000,000.00</td>\n",
       "      <td>PHARMACY 1126</td>\n",
       "      <td>SPURS</td>\n",
       "      <td>00002751001</td>\n",
       "      <td>HUMALOG 100 UNITS/ML VIAL</td>\n",
       "      <td>BRX</td>\n",
       "      <td>10.00</td>\n",
       "      <td>10.00</td>\n",
       "      <td>1</td>\n",
       "      <td>ELI LILLY &amp; CO.</td>\n",
       "      <td>27413</td>\n",
       "      <td>insulin lispro SUBCUT VIAL 100/ML</td>\n",
       "      <td>S</td>\n",
       "      <td>HV</td>\n",
       "      <td>100 unit/mL</td>\n",
       "      <td>40.00</td>\n",
       "      <td>60.00</td>\n",
       "      <td>170.00</td>\n",
       "      <td>170.00</td>\n",
       "      <td>40.00</td>\n",
       "      <td>60.00</td>\n",
       "      <td>170.00</td>\n",
       "      <td>170.00</td>\n",
       "      <td>0.00</td>\n",
       "      <td>0.00</td>\n",
       "      <td>0.00</td>\n",
       "      <td>0.00</td>\n",
       "      <td>0.00</td>\n",
       "      <td>0.00</td>\n",
       "      <td>0.00</td>\n",
       "      <td>0.00</td>\n",
       "      <td>26.92</td>\n",
       "      <td>1,076.82</td>\n",
       "      <td>1,615.24</td>\n",
       "      <td>4,576.50</td>\n",
       "      <td>4,576.50</td>\n",
       "      <td>1,076.82</td>\n",
       "      <td>1,615.24</td>\n",
       "      <td>4,576.50</td>\n",
       "      <td>4,576.50</td>\n",
       "    </tr>\n",
       "  </tbody>\n",
       "</table>\n",
       "</div>"
      ],
      "text/plain": [
       "   ID  WK_NBR WK_BEGIN_DTE WK_END_DTE              NCPDP_TOKEN    PHRMCY_NAME  \\\n",
       "0   0  201836     9/2/2018   9/8/2018 4,410,000,000,000,000.00  PHARMACY 1126   \n",
       "1   1  201836     9/2/2018   9/8/2018 4,410,000,000,000,000.00  PHARMACY 1126   \n",
       "2   2  201836     9/2/2018   9/8/2018 4,410,000,000,000,000.00  PHARMACY 1126   \n",
       "3   3  201836     9/2/2018   9/8/2018 4,410,000,000,000,000.00  PHARMACY 1126   \n",
       "\n",
       "  BUY_GRP_NAM          NDC                    NDC_DESC BRX_GRX_CD  \\\n",
       "0       SPURS  00071101468        LYRICA 75 MG CAPSULE        BRX   \n",
       "1       SPURS  00173069600        ADVAIR 250-50 DISKUS        BRX   \n",
       "2       SPURS  12496120803  SUBOXONE 8 MG-2 MG SL FILM        BRX   \n",
       "3       SPURS  00002751001   HUMALOG 100 UNITS/ML VIAL        BRX   \n",
       "\n",
       "   NDC_QTY_MTRC  NDC_PKG_SZ  NDC_CASE_PK_QTY          MFG_NAM GCNSEQ_NBR  \\\n",
       "0         90.00       90.00                1  PFIZER US PHARM      57801   \n",
       "1         60.00       60.00                1  GLAXOSMITHKLINE      43367   \n",
       "2         30.00       30.00                1    INDIVIOR INC.      66636   \n",
       "3         10.00       10.00                1  ELI LILLY & CO.      27413   \n",
       "\n",
       "                                         GCNSEQ_DESC GCNSEQ_RTE_OF_ADMIN_DESC  \\\n",
       "0                      pregabalin ORAL CAPSULE 75 MG                        P   \n",
       "1  fluticasone/salmeterol INHALATION BLST W/DEV 2...                        I   \n",
       "2  buprenorphine HCl/naloxone HCl SUBLINGUAL FILM...                        S   \n",
       "3                  insulin lispro SUBCUT VIAL 100/ML                        S   \n",
       "\n",
       "  GCNSEQ_DSG_FORM_CD      GCNSEQ_STR_DESC  DSPN_QTY_NDC_1WK  \\\n",
       "0                 CA                75 mg            120.00   \n",
       "1                 GK  250 mcg-50 mcg/dose            240.00   \n",
       "2                 FI            8 mg-2 mg            105.00   \n",
       "3                 HV          100 unit/mL             40.00   \n",
       "\n",
       "   DSPN_QTY_NDC_4WKS  DSPN_QTY_NDC_13WKS  DSPN_QTY_NDC_26WKS  \\\n",
       "0             270.00              900.00              900.00   \n",
       "1             540.00            1,260.00            1,260.00   \n",
       "2             360.00            1,040.00            1,040.00   \n",
       "3              60.00              170.00              170.00   \n",
       "\n",
       "   DSPN_QTY_GCN_1WK  DSPN_QTY_GCN_4WKS  DSPN_QTY_GCN_13WKS  \\\n",
       "0            120.00             270.00              900.00   \n",
       "1            240.00             540.00            1,260.00   \n",
       "2            105.00             360.00            1,040.00   \n",
       "3             40.00              60.00              170.00   \n",
       "\n",
       "   DSPN_QTY_GCN_26WKS  PURCH_QTY_NDC_1WK_MTRC  PURCH_QTY_NDC_4WKS_MTRC  \\\n",
       "0              900.00                    0.00                     0.00   \n",
       "1            1,260.00                    0.00                     0.00   \n",
       "2            1,040.00                    0.00                     0.00   \n",
       "3              170.00                    0.00                     0.00   \n",
       "\n",
       "   PURCH_QTY_NDC_13WKS_MTRC  PURCH_QTY_NDC_26WKS_MTRC  PURCH_QTY_GCN_1WK_MTRC  \\\n",
       "0                      0.00                      0.00                    0.00   \n",
       "1                      0.00                      0.00                    0.00   \n",
       "2                      0.00                      0.00                    0.00   \n",
       "3                      0.00                      0.00                    0.00   \n",
       "\n",
       "   PURCH_QTY_GCN_4WKS_MTRC  PURCH_QTY_GCN_13WKS_MTRC  \\\n",
       "0                     0.00                      0.00   \n",
       "1                     0.00                      0.00   \n",
       "2                     0.00                      0.00   \n",
       "3                     0.00                      0.00   \n",
       "\n",
       "   PURCH_QTY_GCN_26WKS_MTRC  COGS_PRC_MTRC  DSPN_COGS_NDC_1WK  \\\n",
       "0                      0.00           7.28             873.95   \n",
       "1                      0.00           6.43           1,544.21   \n",
       "2                      0.00           7.99             838.43   \n",
       "3                      0.00          26.92           1,076.82   \n",
       "\n",
       "   DSPN_COGS_NDC_4WKS  DSPN_COGS_NDC_13WKS  DSPN_COGS_NDC_26WKS  \\\n",
       "0            1,966.39             6,598.32             6,598.32   \n",
       "1            3,474.46             8,107.08             8,107.08   \n",
       "2            2,874.61             8,304.44             8,304.44   \n",
       "3            1,615.24             4,576.50             4,576.50   \n",
       "\n",
       "   DSPN_COGS_GCN_1WK  DSPN_COGS_GCN_4WKS  DSPN_COGS_GCN_13WKS  \\\n",
       "0             873.95            1,966.39             6,598.32   \n",
       "1           1,544.21            3,474.46             8,107.08   \n",
       "2             838.43            2,874.61             8,304.44   \n",
       "3           1,076.82            1,615.24             4,576.50   \n",
       "\n",
       "   DSPN_COGS_GCN_26WKS  \n",
       "0             6,598.32  \n",
       "1             8,107.08  \n",
       "2             8,304.44  \n",
       "3             4,576.50  "
      ]
     },
     "execution_count": 110,
     "metadata": {},
     "output_type": "execute_result"
    }
   ],
   "source": [
    "data['NDC'] = data['NDC'].apply(lambda x: x.zfill(11))\n",
    "data.head(4)"
   ]
  },
  {
   "cell_type": "code",
   "execution_count": 111,
   "metadata": {
    "ExecuteTime": {
     "end_time": "2019-05-24T02:49:33.249026Z",
     "start_time": "2019-05-24T02:49:33.244040Z"
    }
   },
   "outputs": [],
   "source": [
    "# Switch the limit to 10, as any more not necessary for other operations below\n",
    "pd.options.display.max_columns = 10"
   ]
  },
  {
   "cell_type": "markdown",
   "metadata": {},
   "source": [
    "# Create measures for leakage"
   ]
  },
  {
   "cell_type": "markdown",
   "metadata": {},
   "source": [
    "## First thing first: Research\n",
    "Upon revisiting this challenge. I decided to read more extensively on drug pricing and the drug distribution business. This was the domain of my teammate when we were working on the competition, and now I must gain more knowledge upon this second try on this dataset."
   ]
  },
  {
   "cell_type": "markdown",
   "metadata": {},
   "source": [
    "I found a sample Prime Vendor Agreement online with AmerisourceBergen (refers to as ABDC from now on). This gives me insight on what leakage means in the context of the wholesaling business."
   ]
  },
  {
   "cell_type": "markdown",
   "metadata": {
    "ExecuteTime": {
     "end_time": "2019-05-23T03:00:59.561637Z",
     "start_time": "2019-05-23T03:00:59.436658Z"
    }
   },
   "source": [
    "![title](https://i.ibb.co/v3z7TcS/Screenshot-34.png)"
   ]
  },
  {
   "cell_type": "markdown",
   "metadata": {},
   "source": [
    "As leakage is not defined as a violation of the agreement, it is "
   ]
  },
  {
   "cell_type": "markdown",
   "metadata": {},
   "source": [
    "## Clarifying fields/variables\n",
    "Even with the help of the accompanying *data dictionary*, it is good to clarify, with reasonable assumptions, what certain fields and columns mean in the context of this dataset.  \n",
    "\n",
    "* MTRC is the unit of measure for each unique NDC. \n",
    "* As one can see that  DSPN units can be a real number with decimal points, this is reasonable.\n",
    "* DSPN and PURCH are in the same unit. DSPN can be regarded as the medication sold by the pharmacy.\n",
    "* COGS_PRC_MTRC is the cost **the pharmacy pays** per unit, so there is no need for conversion.\n",
    "* GCN and NDC are seemingly equivalent, but data is grouped by **GCN number for each pharmacy**. Extra caution should be used when handling these fields.\n",
    "    - **This also means that each entry is indexed by both pharmacy and NDC.**  "
   ]
  },
  {
   "cell_type": "code",
   "execution_count": 112,
   "metadata": {
    "ExecuteTime": {
     "end_time": "2019-05-24T02:49:33.261992Z",
     "start_time": "2019-05-24T02:49:33.255012Z"
    }
   },
   "outputs": [],
   "source": [
    "# data_indexed = data.set_index(['NDC', 'PHRMCY_NAME'])\n",
    "# This is here to test whether doing this match with the IDs in the dataset. It seems to do so."
   ]
  },
  {
   "cell_type": "markdown",
   "metadata": {},
   "source": [
    "## Define leakage \n",
    "Leakage is represented by as a function of share of purchase of a certain pharmacy\n",
    "* Percentage: \n",
    "    - Percentage of (COGS of an NDC bought from AmerisourceBergen) to (COGS of dispensing units)\n",
    "* If grouped by any variable, COGS needs to be aggregated before doing an average (avoiding average of averages)\n",
    "* Formula: PURCH SALES / DSPN COGS ? **[Percentage will be a ratio for dollars, not quantities]**\n",
    "* Columns are named \"perc_?\"\n",
    "* Leakage can be represented as (0.95 - Perc) for the moment, taking from the sample Prime Vendor Agreement."
   ]
  },
  {
   "cell_type": "markdown",
   "metadata": {},
   "source": [
    "## Write functions to identify and handle outliers"
   ]
  },
  {
   "cell_type": "markdown",
   "metadata": {},
   "source": [
    "To identify potential errors in the data, I wrote a function to identify and remove(when necessary) outliers in numeric variables"
   ]
  },
  {
   "cell_type": "code",
   "execution_count": 113,
   "metadata": {
    "ExecuteTime": {
     "end_time": "2019-05-24T02:49:33.280940Z",
     "start_time": "2019-05-24T02:49:33.266979Z"
    }
   },
   "outputs": [],
   "source": [
    "#Create a function to identify outliers, defined statistically as those beyond 3 SDEV from the mean \n",
    "def identifyOutliers(data,field):\n",
    "    result = data[np.abs(data[field]-data[field].mean()) > (3*data[field].std())]\n",
    "    return result\n",
    "\n",
    "def removeOutliers(data,field):\n",
    "    result = data[np.abs(data[field]-data[field].mean()) <= (3*data[field].std())]\n",
    "    return result"
   ]
  },
  {
   "cell_type": "code",
   "execution_count": 114,
   "metadata": {
    "ExecuteTime": {
     "end_time": "2019-05-24T02:49:33.749689Z",
     "start_time": "2019-05-24T02:49:33.291915Z"
    }
   },
   "outputs": [],
   "source": [
    "numerics = ['int16', 'int32', 'int64', 'float16', 'float32', 'float64']\n",
    "\n",
    "listOutlier = {} \n",
    "for col in data.select_dtypes(include=numerics):\n",
    "    listOutlier[col] = identifyOutliers(data,col)[col]"
   ]
  },
  {
   "cell_type": "markdown",
   "metadata": {},
   "source": [
    "I will not remove these outliers just yet, because they can be informative"
   ]
  },
  {
   "cell_type": "code",
   "execution_count": 115,
   "metadata": {
    "ExecuteTime": {
     "end_time": "2019-05-24T02:49:33.805150Z",
     "start_time": "2019-05-24T02:49:33.752680Z"
    }
   },
   "outputs": [],
   "source": [
    "# listOutlier"
   ]
  },
  {
   "cell_type": "markdown",
   "metadata": {
    "ExecuteTime": {
     "end_time": "2019-05-23T02:37:34.450605Z",
     "start_time": "2019-05-23T02:37:33.981962Z"
    }
   },
   "source": [
    "## Calculate and insert sales for purchases as columns"
   ]
  },
  {
   "cell_type": "code",
   "execution_count": 116,
   "metadata": {
    "ExecuteTime": {
     "end_time": "2019-05-24T02:49:34.267912Z",
     "start_time": "2019-05-24T02:49:33.810135Z"
    }
   },
   "outputs": [],
   "source": [
    "unit_cost = data['COGS_PRC_MTRC']\n",
    "data.loc[:,'sales_1w'] = Series(data['PURCH_QTY_NDC_1WK_MTRC']*unit_cost, dtype='float32')\n",
    "data.loc[:,'sales_4w'] = Series(data['PURCH_QTY_NDC_4WKS_MTRC']*unit_cost, dtype='float32')\n",
    "data.loc[:,'sales_13w'] = Series(data['PURCH_QTY_NDC_13WKS_MTRC']*unit_cost, dtype='float32')\n",
    "data.loc[:,'sales_26w'] = Series(data['PURCH_QTY_NDC_26WKS_MTRC']*unit_cost, dtype='float32')\n",
    "data.loc[:,'sales_gcn_1w'] = Series(data['PURCH_QTY_GCN_1WK_MTRC']*unit_cost, dtype='float32')\n",
    "data.loc[:,'sales_gcn_4w'] = Series(data['PURCH_QTY_GCN_4WKS_MTRC']*unit_cost, dtype='float32')\n",
    "data.loc[:,'sales_gcn_13w'] = Series(data['PURCH_QTY_GCN_13WKS_MTRC']*unit_cost, dtype='float32')\n",
    "data.loc[:,'sales_gcn_26w'] = Series(data['PURCH_QTY_GCN_26WKS_MTRC']*unit_cost, dtype='float32')"
   ]
  },
  {
   "cell_type": "markdown",
   "metadata": {},
   "source": [
    "## Write functions to calculate percentages of ABDC sales of a drug to the total sales of a particular drug by the pharmacy, and then leakage"
   ]
  },
  {
   "cell_type": "markdown",
   "metadata": {},
   "source": [
    "As we have defined leakage above, this is the first step to calculate leakage, which is the percentage not utilized by the pharmacy above the 95% threshold."
   ]
  },
  {
   "cell_type": "code",
   "execution_count": 117,
   "metadata": {
    "ExecuteTime": {
     "end_time": "2019-05-24T02:49:34.278881Z",
     "start_time": "2019-05-24T02:49:34.268908Z"
    }
   },
   "outputs": [],
   "source": [
    "def getPerc(data):\n",
    "    result = data.copy()\n",
    "    result.loc[:,'perc_1w'] = Series(np.where(data['DSPN_QTY_NDC_1WK'] != 0,data['sales_1w']/data['DSPN_COGS_NDC_1WK'],0), dtype='float32')\n",
    "    result.loc[:,'perc_4w'] = Series(np.where(data['DSPN_QTY_NDC_4WKS'] != 0,data['sales_4w']/data['DSPN_COGS_NDC_4WKS'],0), dtype='float32')\n",
    "    result.loc[:,'perc_13w'] = Series(np.where(data['DSPN_QTY_NDC_13WKS'] != 0,data['sales_13w']/data['DSPN_COGS_NDC_13WKS'],0), dtype='float32')\n",
    "    result.loc[:,'perc_26w'] = Series(np.where(data['DSPN_QTY_NDC_26WKS'] != 0,data['sales_26w']/data['DSPN_COGS_NDC_26WKS'],0), dtype='float32')\n",
    "    return result"
   ]
  },
  {
   "cell_type": "code",
   "execution_count": 118,
   "metadata": {
    "ExecuteTime": {
     "end_time": "2019-05-24T02:49:34.293844Z",
     "start_time": "2019-05-24T02:49:34.282873Z"
    }
   },
   "outputs": [],
   "source": [
    "def getPercGCN(data):\n",
    "    result = data.copy()\n",
    "    result.loc[:,'perc_gcn_1w'] = Series(np.where(data['DSPN_QTY_GCN_1WK'] != 0,data['sales_gcn_1w']/data['DSPN_COGS_GCN_1WK'],0), dtype='float32')\n",
    "    result.loc[:,'perc_gcn_4w'] = Series(np.where(data['DSPN_QTY_GCN_4WKS'] != 0,data['sales_gcn_4w']/data['DSPN_COGS_GCN_4WKS'],0), dtype='float32')\n",
    "    result.loc[:,'perc_gcn_13w'] = Series(np.where(data['DSPN_QTY_GCN_13WKS'] != 0,data['sales_gcn_13w']/data['DSPN_COGS_GCN_13WKS'],0), dtype='float32')\n",
    "    result.loc[:,'perc_gcn_26w'] = Series(np.where(data['DSPN_QTY_GCN_26WKS'] != 0,data['sales_gcn_26w']/data['DSPN_COGS_GCN_26WKS'],0), dtype='float32')\n",
    "    return result"
   ]
  },
  {
   "cell_type": "code",
   "execution_count": 119,
   "metadata": {
    "ExecuteTime": {
     "end_time": "2019-05-24T02:49:34.309800Z",
     "start_time": "2019-05-24T02:49:34.297831Z"
    }
   },
   "outputs": [],
   "source": [
    "def getLeak(data):\n",
    "    result = data.copy()\n",
    "    result.loc[:,'leak_1w'] = Series(0.95 - data['perc_1w'])\n",
    "    result.loc[:,'leak_4w'] = Series(0.95  - data['perc_4w'])\n",
    "    result.loc[:,'leak_13w'] = Series(0.95  - data['perc_13w'])\n",
    "    result.loc[:,'leak_26w'] = Series(0.95 - data['perc_26w'])\n",
    "    return result"
   ]
  },
  {
   "cell_type": "code",
   "execution_count": 120,
   "metadata": {},
   "outputs": [],
   "source": [
    "def getLeakDol(data):\n",
    "    result = data.copy()\n",
    "    result.loc[:,'leak_dol_26w'] = Series(data['DSPN_COGS_NDC_26WKS']-data['sales_26w'])\n",
    "    result.loc[:,'leak_dol_13w'] = Series(data['DSPN_COGS_NDC_13WKS']-data['sales_13w'])\n",
    "    result.loc[:,'leak_dol_4w'] = Series(data['DSPN_COGS_NDC_4WKS']-data['sales_4w'])\n",
    "    result.loc[:,'leak_dol_1w'] = Series(data['DSPN_COGS_NDC_1WK']-data['sales_1w'])\n",
    "    return result"
   ]
  },
  {
   "cell_type": "markdown",
   "metadata": {},
   "source": [
    "# Exploratory Analysis"
   ]
  },
  {
   "cell_type": "markdown",
   "metadata": {},
   "source": [
    "## Start with describing the variables"
   ]
  },
  {
   "cell_type": "markdown",
   "metadata": {},
   "source": [
    "We start by getting descriptive stats of the numeric variables, particularly sales (26 weeks & 13 weeks) and leakage (percentage for 26 & 13 weeks). \n",
    "Doing this via interactive boxplots sound like a good idea (I also want to try out `plotly`)"
   ]
  },
  {
   "cell_type": "markdown",
   "metadata": {},
   "source": [
    "Before that, we must get the all the percentages"
   ]
  },
  {
   "cell_type": "code",
   "execution_count": 121,
   "metadata": {
    "ExecuteTime": {
     "end_time": "2019-05-24T02:49:42.728907Z",
     "start_time": "2019-05-24T02:49:42.453647Z"
    }
   },
   "outputs": [],
   "source": [
    "data_ready = getPerc(data)"
   ]
  },
  {
   "cell_type": "code",
   "execution_count": 122,
   "metadata": {
    "ExecuteTime": {
     "end_time": "2019-05-24T02:50:10.727061Z",
     "start_time": "2019-05-24T02:50:10.397941Z"
    }
   },
   "outputs": [],
   "source": [
    "data_ready = getLeak(data_ready)"
   ]
  },
  {
   "cell_type": "code",
   "execution_count": 123,
   "metadata": {},
   "outputs": [],
   "source": [
    "data_ready = getLeakDol(data_ready)"
   ]
  },
  {
   "cell_type": "markdown",
   "metadata": {},
   "source": [
    "Get descriptive stats of all numeric variables"
   ]
  },
  {
   "cell_type": "code",
   "execution_count": 124,
   "metadata": {
    "ExecuteTime": {
     "end_time": "2019-05-24T02:47:36.867484Z",
     "start_time": "2019-05-24T02:47:36.651064Z"
    }
   },
   "outputs": [],
   "source": [
    "# Get only the ones we care about for the moment. \n",
    "general_box = data_ready.select_dtypes(include=numerics)[[col for col in data_ready.select_dtypes(include=numerics) if (\"26\" in col) or (\"13\" in col)]]\n",
    "box_sales = general_box[[col for col in general_box if \"sales\" in col]]\n",
    "box_purch = general_box[[col for col in general_box if \"PURCH\" in col]]\n",
    "box_dspn = general_box[[col for col in general_box if \"DSPN\" in col]]\n",
    "box_leak = general_box.iloc[:,-5:-2]"
   ]
  },
  {
   "cell_type": "code",
   "execution_count": 125,
   "metadata": {
    "ExecuteTime": {
     "end_time": "2019-05-24T02:47:37.562653Z",
     "start_time": "2019-05-24T02:47:37.277460Z"
    }
   },
   "outputs": [
    {
     "data": {
      "text/html": [
       "<div>\n",
       "<style scoped>\n",
       "    .dataframe tbody tr th:only-of-type {\n",
       "        vertical-align: middle;\n",
       "    }\n",
       "\n",
       "    .dataframe tbody tr th {\n",
       "        vertical-align: top;\n",
       "    }\n",
       "\n",
       "    .dataframe thead th {\n",
       "        text-align: right;\n",
       "    }\n",
       "</style>\n",
       "<table border=\"1\" class=\"dataframe\">\n",
       "  <thead>\n",
       "    <tr style=\"text-align: right;\">\n",
       "      <th></th>\n",
       "      <th>perc_26w</th>\n",
       "      <th>leak_13w</th>\n",
       "      <th>leak_26w</th>\n",
       "    </tr>\n",
       "  </thead>\n",
       "  <tbody>\n",
       "    <tr>\n",
       "      <th>count</th>\n",
       "      <td>89,516.00</td>\n",
       "      <td>89,516.00</td>\n",
       "      <td>89,516.00</td>\n",
       "    </tr>\n",
       "    <tr>\n",
       "      <th>mean</th>\n",
       "      <td>1.07</td>\n",
       "      <td>0.03</td>\n",
       "      <td>-0.12</td>\n",
       "    </tr>\n",
       "    <tr>\n",
       "      <th>std</th>\n",
       "      <td>4.27</td>\n",
       "      <td>2.78</td>\n",
       "      <td>4.27</td>\n",
       "    </tr>\n",
       "    <tr>\n",
       "      <th>min</th>\n",
       "      <td>-47.17</td>\n",
       "      <td>-518.95</td>\n",
       "      <td>-988.86</td>\n",
       "    </tr>\n",
       "    <tr>\n",
       "      <th>25%</th>\n",
       "      <td>0.74</td>\n",
       "      <td>-0.09</td>\n",
       "      <td>-0.11</td>\n",
       "    </tr>\n",
       "    <tr>\n",
       "      <th>50%</th>\n",
       "      <td>0.99</td>\n",
       "      <td>-0.02</td>\n",
       "      <td>-0.04</td>\n",
       "    </tr>\n",
       "    <tr>\n",
       "      <th>75%</th>\n",
       "      <td>1.06</td>\n",
       "      <td>0.45</td>\n",
       "      <td>0.21</td>\n",
       "    </tr>\n",
       "    <tr>\n",
       "      <th>max</th>\n",
       "      <td>989.81</td>\n",
       "      <td>30.95</td>\n",
       "      <td>48.12</td>\n",
       "    </tr>\n",
       "  </tbody>\n",
       "</table>\n",
       "</div>"
      ],
      "text/plain": [
       "       perc_26w  leak_13w  leak_26w\n",
       "count 89,516.00 89,516.00 89,516.00\n",
       "mean       1.07      0.03     -0.12\n",
       "std        4.27      2.78      4.27\n",
       "min      -47.17   -518.95   -988.86\n",
       "25%        0.74     -0.09     -0.11\n",
       "50%        0.99     -0.02     -0.04\n",
       "75%        1.06      0.45      0.21\n",
       "max      989.81     30.95     48.12"
      ]
     },
     "execution_count": 125,
     "metadata": {},
     "output_type": "execute_result"
    }
   ],
   "source": [
    "box_leak.describe()"
   ]
  },
  {
   "cell_type": "markdown",
   "metadata": {},
   "source": [
    "Right here, we find that the data is highly skewed towards big numbers. However, just removing them outright will not improve the analysis. I learned this lesson from my first time using this dataset for the competition.\n",
    "Let's look at it using the good ole boxplots."
   ]
  },
  {
   "cell_type": "code",
   "execution_count": 126,
   "metadata": {
    "ExecuteTime": {
     "end_time": "2019-05-24T02:47:40.442116Z",
     "start_time": "2019-05-24T02:47:38.267652Z"
    }
   },
   "outputs": [
    {
     "data": {
      "image/png": "[encoded data removed]",
      "text/plain": [
       "<Figure size 864x576 with 4 Axes>"
      ]
     },
     "metadata": {},
     "output_type": "display_data"
    }
   ],
   "source": [
    "fig, axes = plt.subplots(4)\n",
    "sns.boxplot(data=box_sales, orient=\"h\", palette=\"Set2\", ax=axes[0])\n",
    "sns.boxplot(data=box_purch, orient=\"h\", palette=\"Set2\",  ax=axes[1])\n",
    "sns.boxplot(data=box_dspn, orient=\"h\", palette=\"Set2\",  ax=axes[2])\n",
    "sns.boxplot(data=box_leak, orient=\"h\", palette=\"Set2\", ax=axes[3])\n",
    "plt.show()"
   ]
  },
  {
   "cell_type": "markdown",
   "metadata": {
    "ExecuteTime": {
     "end_time": "2019-05-24T00:30:36.071677Z",
     "start_time": "2019-05-24T00:30:36.063698Z"
    }
   },
   "source": [
    "Doesn't tell you much, aren't they? They are all over the place, possibly due to the diversity of drug dosages, quantities, and prevalence of the conditions they treat. Let's take a different approach."
   ]
  },
  {
   "cell_type": "markdown",
   "metadata": {},
   "source": [
    "## Group data by NDCs and NDC Descriptions"
   ]
  },
  {
   "cell_type": "markdown",
   "metadata": {},
   "source": [
    "Note: everytime I shift the LOD (Level of Detail), I need to use the original dataframe (`data`) to avoid duplicating the calculated percentages. The ones with raw details are called `data_ready`."
   ]
  },
  {
   "cell_type": "code",
   "execution_count": 127,
   "metadata": {
    "ExecuteTime": {
     "end_time": "2019-05-24T02:47:42.249114Z",
     "start_time": "2019-05-24T02:47:42.157359Z"
    }
   },
   "outputs": [],
   "source": [
    "data_byNDC = data_ready.groupby(\"NDC\").mean()"
   ]
  },
  {
   "cell_type": "markdown",
   "metadata": {},
   "source": [
    "### Let's look at the distribution plots of the leakage:"
   ]
  },
  {
   "cell_type": "code",
   "execution_count": 128,
   "metadata": {
    "ExecuteTime": {
     "end_time": "2019-05-24T02:47:43.494944Z",
     "start_time": "2019-05-24T02:47:42.927459Z"
    }
   },
   "outputs": [
    {
     "data": {
      "text/html": [
       "<div>\n",
       "<style scoped>\n",
       "    .dataframe tbody tr th:only-of-type {\n",
       "        vertical-align: middle;\n",
       "    }\n",
       "\n",
       "    .dataframe tbody tr th {\n",
       "        vertical-align: top;\n",
       "    }\n",
       "\n",
       "    .dataframe thead th {\n",
       "        text-align: right;\n",
       "    }\n",
       "</style>\n",
       "<table border=\"1\" class=\"dataframe\">\n",
       "  <thead>\n",
       "    <tr style=\"text-align: right;\">\n",
       "      <th></th>\n",
       "      <th>leak_26w</th>\n",
       "      <th>leak_13w</th>\n",
       "    </tr>\n",
       "  </thead>\n",
       "  <tbody>\n",
       "    <tr>\n",
       "      <th>count</th>\n",
       "      <td>197.00</td>\n",
       "      <td>197.00</td>\n",
       "    </tr>\n",
       "    <tr>\n",
       "      <th>mean</th>\n",
       "      <td>0.38</td>\n",
       "      <td>0.47</td>\n",
       "    </tr>\n",
       "    <tr>\n",
       "      <th>std</th>\n",
       "      <td>0.67</td>\n",
       "      <td>0.57</td>\n",
       "    </tr>\n",
       "    <tr>\n",
       "      <th>min</th>\n",
       "      <td>-5.20</td>\n",
       "      <td>-3.58</td>\n",
       "    </tr>\n",
       "    <tr>\n",
       "      <th>25%</th>\n",
       "      <td>-0.06</td>\n",
       "      <td>0.06</td>\n",
       "    </tr>\n",
       "    <tr>\n",
       "      <th>50%</th>\n",
       "      <td>0.51</td>\n",
       "      <td>0.64</td>\n",
       "    </tr>\n",
       "    <tr>\n",
       "      <th>75%</th>\n",
       "      <td>0.95</td>\n",
       "      <td>0.95</td>\n",
       "    </tr>\n",
       "    <tr>\n",
       "      <th>max</th>\n",
       "      <td>0.95</td>\n",
       "      <td>0.98</td>\n",
       "    </tr>\n",
       "  </tbody>\n",
       "</table>\n",
       "</div>"
      ],
      "text/plain": [
       "       leak_26w  leak_13w\n",
       "count    197.00    197.00\n",
       "mean       0.38      0.47\n",
       "std        0.67      0.57\n",
       "min       -5.20     -3.58\n",
       "25%       -0.06      0.06\n",
       "50%        0.51      0.64\n",
       "75%        0.95      0.95\n",
       "max        0.95      0.98"
      ]
     },
     "execution_count": 128,
     "metadata": {},
     "output_type": "execute_result"
    },
    {
     "data": {
      "image/png": "[encoded data removed]",
      "text/plain": [
       "<Figure size 864x576 with 2 Axes>"
      ]
     },
     "metadata": {},
     "output_type": "display_data"
    }
   ],
   "source": [
    "fig, axes = plt.subplots(1,2)\n",
    "sns.distplot(data_byNDC[\"leak_26w\"], kde=0, ax=axes[0])\n",
    "sns.distplot(data_byNDC[\"leak_13w\"],kde=0, ax=axes[1])\n",
    "axes[0].set_ylabel(\"Frequency of NDCs\");\n",
    "\n",
    "data_byNDC[[\"leak_26w\",'leak_13w']].describe()"
   ]
  },
  {
   "cell_type": "markdown",
   "metadata": {},
   "source": [
    "It seems like there are a lot many negative leaks (<0). This means that on certain drugs, pharmacies are buying more from ABDC than the required 95% of what they dispense/sell to patients.\n",
    "Let's look at the distribution again without these leaks."
   ]
  },
  {
   "cell_type": "code",
   "execution_count": 129,
   "metadata": {
    "ExecuteTime": {
     "end_time": "2019-05-24T02:47:44.480101Z",
     "start_time": "2019-05-24T02:47:43.978440Z"
    }
   },
   "outputs": [
    {
     "data": {
      "image/png": "[encoded data removed]",
      "text/plain": [
       "<Figure size 864x576 with 2 Axes>"
      ]
     },
     "metadata": {},
     "output_type": "display_data"
    }
   ],
   "source": [
    "clean1 = data_byNDC[\"leak_26w\"]>=0\n",
    "clean2 = data_byNDC[\"leak_13w\"]>=0\n",
    "\n",
    "fig, axes = plt.subplots(1,2)\n",
    "sns.distplot(data_byNDC[\"leak_26w\"][clean1],kde=0, ax=axes[0],bins=10)\n",
    "sns.distplot(data_byNDC[\"leak_13w\"][clean2], kde=0,ax=axes[1],bins=10)\n",
    "axes[0].set_ylabel(\"Frequency of NDCs\");"
   ]
  },
  {
   "cell_type": "markdown",
   "metadata": {},
   "source": [
    "This just seems like a there are two 'peaks', the stuff with very low leakage and the stuff with super high leakage. Perhaps I should split them up and look at them more closely later on."
   ]
  },
  {
   "cell_type": "code",
   "execution_count": 130,
   "metadata": {
    "ExecuteTime": {
     "end_time": "2019-05-24T02:47:45.382438Z",
     "start_time": "2019-05-24T02:47:45.377450Z"
    }
   },
   "outputs": [],
   "source": [
    "# Preparing the data for plotting on the bar chart. However, I must add back the name of the NDC (the drug brand name).\n",
    "# This is must be done with a merge.\n",
    "# toplot = data_byNDC.reset_index().merge(data_ready[[\"NDC\",'NDC_DESC']].drop_duplicates(\"NDC\"),how='left',on=\"NDC\")"
   ]
  },
  {
   "cell_type": "markdown",
   "metadata": {},
   "source": [
    "## Looking at leakage directly, this time grouped by brand name (NDC Description, which matches with GCN)"
   ]
  },
  {
   "cell_type": "code",
   "execution_count": 131,
   "metadata": {
    "ExecuteTime": {
     "end_time": "2019-05-24T02:47:46.283476Z",
     "start_time": "2019-05-24T02:47:46.175768Z"
    }
   },
   "outputs": [],
   "source": [
    "# toplot['NDC'] = toplot['NDC'].apply(str)\n",
    "toplot = data_ready.groupby(\"NDC_DESC\").mean()\n",
    "# toplot = toplot[toplot['leak_26w']>0]\n",
    "toplot = toplot.sort_values(by='leak_26w',ascending=False).reset_index()"
   ]
  },
  {
   "cell_type": "code",
   "execution_count": 132,
   "metadata": {
    "ExecuteTime": {
     "end_time": "2019-05-24T02:47:47.578843Z",
     "start_time": "2019-05-24T02:47:46.809899Z"
    }
   },
   "outputs": [
    {
     "data": {
      "text/plain": [
       "<matplotlib.lines.Line2D at 0x27334350>"
      ]
     },
     "execution_count": 132,
     "metadata": {},
     "output_type": "execute_result"
    },
    {
     "data": {
      "image/png": "[encoded data removed]",
      "text/plain": [
       "<Figure size 864x1080 with 1 Axes>"
      ]
     },
     "metadata": {},
     "output_type": "display_data"
    }
   ],
   "source": [
    "plt.figure(figsize=(12,15))\n",
    "toplot['leak_26w'].plot(kind='barh')\n",
    "plt.yticks(toplot.index, toplot['NDC_DESC'])\n",
    "plt.axvline(x=0.25,linewidth=3, color='r')\n",
    "plt.axvline(x=0.90,linewidth=3, color='r')\n",
    "plt.axvline(x=0.0,linewidth=3, color='r')"
   ]
  },
  {
   "cell_type": "markdown",
   "metadata": {
    "ExecuteTime": {
     "end_time": "2019-05-24T01:53:34.396099Z",
     "start_time": "2019-05-24T01:53:34.389113Z"
    }
   },
   "source": [
    "We notice distinct groups, which aligned with the distribution seen above.\n",
    "Now, let's try with leakage from 13 weeks ago."
   ]
  },
  {
   "cell_type": "code",
   "execution_count": 133,
   "metadata": {
    "ExecuteTime": {
     "end_time": "2019-05-24T02:47:49.176682Z",
     "start_time": "2019-05-24T02:47:49.075954Z"
    }
   },
   "outputs": [],
   "source": [
    "# # toplot['NDC'] = toplot['NDC'].apply(str)\n",
    "# toplot2 = data_ready.groupby(\"NDC_DESC\").mean()\n",
    "# # toplot2 = toplot2[toplot2['leak_13w']>0]\n",
    "# toplot2 = toplot2.sort_values(by='leak_13w',ascending=False).reset_index()"
   ]
  },
  {
   "cell_type": "code",
   "execution_count": 134,
   "metadata": {
    "ExecuteTime": {
     "end_time": "2019-05-24T02:47:50.598471Z",
     "start_time": "2019-05-24T02:47:49.677935Z"
    }
   },
   "outputs": [],
   "source": [
    "# plt.figure(figsize=(12,15))\n",
    "# toplot2['leak_13w'].plot(kind='barh')\n",
    "# plt.yticks(toplot.index, toplot['NDC_DESC'])\n",
    "# plt.axvline(x=0.30,linewidth=3, color='r')\n",
    "# plt.axvline(x=0.00,linewidth=3, color='r')\n",
    "# plt.axvline(x=0.70,linewidth=3, color='r')"
   ]
  },
  {
   "cell_type": "markdown",
   "metadata": {
    "ExecuteTime": {
     "end_time": "2019-05-24T02:40:47.647985Z",
     "start_time": "2019-05-24T02:40:47.641003Z"
    }
   },
   "source": [
    "While now we see three groups, but polars remain prominent."
   ]
  },
  {
   "cell_type": "markdown",
   "metadata": {},
   "source": [
    "## Examining Drug Make-up by splitting the ingredient descriptions"
   ]
  },
  {
   "cell_type": "markdown",
   "metadata": {},
   "source": [
    "First, we clean the columns to make it easier for `get_dummies`, which helps to split text into one-hot encoded fields, work better."
   ]
  },
  {
   "cell_type": "code",
   "execution_count": 135,
   "metadata": {
    "ExecuteTime": {
     "end_time": "2019-05-24T02:47:55.309021Z",
     "start_time": "2019-05-24T02:47:53.992481Z"
    }
   },
   "outputs": [],
   "source": [
    "# data_ready.loc[:,'GCNSEQ_DESC'] = data_ready.loc[:,'GCNSEQ_DESC'].astype(str)\n",
    "# data_ready.loc[:,'GCNSEQ_DESC'] = data_ready['GCNSEQ_DESC'].str.replace('\"','')\n",
    "# data_ready.loc[:,'GCNSEQ_DESC'] = data_ready['GCNSEQ_DESC'].str.replace('(3)','')\n",
    "# data_ready.loc[:,'GCNSEQ_DESC'] = data_ready['GCNSEQ_DESC'].str.replace('()','')\n",
    "# data_ready.loc[:,'GCNSEQ_DESC'] = data_ready['GCNSEQ_DESC'].str.replace(' ',',')"
   ]
  },
  {
   "cell_type": "markdown",
   "metadata": {},
   "source": [
    "Do the one-hot encoding and merge it back to the original dataset, this can be used for a machine learning later on."
   ]
  },
  {
   "cell_type": "code",
   "execution_count": 136,
   "metadata": {
    "ExecuteTime": {
     "end_time": "2019-05-24T02:25:53.651225Z",
     "start_time": "2019-05-24T02:25:40.937180Z"
    }
   },
   "outputs": [],
   "source": [
    "# dummies_desc = data_ready.loc[:,'GCNSEQ_DESC'].str.get_dummies(sep=',')"
   ]
  },
  {
   "cell_type": "code",
   "execution_count": 137,
   "metadata": {
    "ExecuteTime": {
     "end_time": "2019-05-24T02:25:54.040155Z",
     "start_time": "2019-05-24T02:25:53.654181Z"
    }
   },
   "outputs": [],
   "source": [
    "# dummies_desc = dummies_desc.reset_index()\n",
    "# dummies_desc.rename(columns={'index': 'ID'}, inplace=True);"
   ]
  },
  {
   "cell_type": "code",
   "execution_count": 138,
   "metadata": {
    "ExecuteTime": {
     "end_time": "2019-05-24T02:41:53.044812Z",
     "start_time": "2019-05-24T02:41:52.951066Z"
    }
   },
   "outputs": [],
   "source": [
    "# pd.options.display.max_columns = None\n",
    "# dummies_desc.head(2)"
   ]
  },
  {
   "cell_type": "code",
   "execution_count": 139,
   "metadata": {
    "ExecuteTime": {
     "end_time": "2019-05-24T02:41:53.314606Z",
     "start_time": "2019-05-24T02:41:53.310613Z"
    }
   },
   "outputs": [],
   "source": [
    "# pd.options.display.max_columns = 10"
   ]
  },
  {
   "cell_type": "code",
   "execution_count": 140,
   "metadata": {
    "ExecuteTime": {
     "end_time": "2019-05-24T02:41:56.114747Z",
     "start_time": "2019-05-24T02:41:55.667944Z"
    }
   },
   "outputs": [],
   "source": [
    "# data_withIngr = data_ready.merge(dummies_desc,on='ID', how='left');"
   ]
  },
  {
   "cell_type": "code",
   "execution_count": 141,
   "metadata": {
    "ExecuteTime": {
     "end_time": "2019-05-24T02:41:56.252217Z",
     "start_time": "2019-05-24T02:41:56.220303Z"
    }
   },
   "outputs": [],
   "source": [
    "# data_withIngr.head(3)"
   ]
  },
  {
   "cell_type": "markdown",
   "metadata": {},
   "source": [
    "# Pharmacies and Buying Groups"
   ]
  },
  {
   "cell_type": "markdown",
   "metadata": {},
   "source": [
    "For Pharmacies and Buying Groups, I need to aggregate sales, quantity, and leakage amount by SUM, while leakage rate (in percentage) by MEAN."
   ]
  },
  {
   "cell_type": "markdown",
   "metadata": {},
   "source": [
    "## Pharmacies\n",
    "I am examining Pharmacies in terms of sales and leakage. This is because bigger customers may have more or less leverage when it comes to snuffing the Prime Vendor Agreement."
   ]
  },
  {
   "cell_type": "code",
   "execution_count": 226,
   "metadata": {
    "ExecuteTime": {
     "end_time": "2019-05-24T02:51:00.278948Z",
     "start_time": "2019-05-24T02:51:00.174228Z"
    }
   },
   "outputs": [],
   "source": [
    "# Therefore, the original dataset, which had not had percentages calculated, is used.\n",
    "data_bypharm = data.groupby(\"PHRMCY_NAME\").sum().reset_index()"
   ]
  },
  {
   "cell_type": "code",
   "execution_count": 227,
   "metadata": {},
   "outputs": [],
   "source": [
    "data_bypharm = getLeakDol(data_bypharm)"
   ]
  },
  {
   "cell_type": "code",
   "execution_count": 228,
   "metadata": {},
   "outputs": [
    {
     "data": {
      "text/html": [
       "<div>\n",
       "<style scoped>\n",
       "    .dataframe tbody tr th:only-of-type {\n",
       "        vertical-align: middle;\n",
       "    }\n",
       "\n",
       "    .dataframe tbody tr th {\n",
       "        vertical-align: top;\n",
       "    }\n",
       "\n",
       "    .dataframe thead th {\n",
       "        text-align: right;\n",
       "    }\n",
       "</style>\n",
       "<table border=\"1\" class=\"dataframe\">\n",
       "  <thead>\n",
       "    <tr style=\"text-align: right;\">\n",
       "      <th></th>\n",
       "      <th>PHRMCY_NAME</th>\n",
       "      <th>ID</th>\n",
       "      <th>WK_NBR</th>\n",
       "      <th>NCPDP_TOKEN</th>\n",
       "      <th>NDC_QTY_MTRC</th>\n",
       "      <th>...</th>\n",
       "      <th>sales_gcn_26w</th>\n",
       "      <th>leak_dol_26w</th>\n",
       "      <th>leak_dol_13w</th>\n",
       "      <th>leak_dol_4w</th>\n",
       "      <th>leak_dol_1w</th>\n",
       "    </tr>\n",
       "  </thead>\n",
       "  <tbody>\n",
       "    <tr>\n",
       "      <th>0</th>\n",
       "      <td>PHARMACY 1</td>\n",
       "      <td>24102</td>\n",
       "      <td>7871604</td>\n",
       "      <td>3,939,000,000,000,000,000.000000</td>\n",
       "      <td>1,578.100000</td>\n",
       "      <td>...</td>\n",
       "      <td>461,594.906250</td>\n",
       "      <td>9,432.398400</td>\n",
       "      <td>5,302.932050</td>\n",
       "      <td>4,266.778619</td>\n",
       "      <td>-100.921289</td>\n",
       "    </tr>\n",
       "    <tr>\n",
       "      <th>1</th>\n",
       "      <td>PHARMACY 10</td>\n",
       "      <td>152614</td>\n",
       "      <td>5651408</td>\n",
       "      <td>28,840,000,000,000,000,000.000000</td>\n",
       "      <td>3,336.700000</td>\n",
       "      <td>...</td>\n",
       "      <td>293,376.031250</td>\n",
       "      <td>-5,255.220225</td>\n",
       "      <td>-12,002.389075</td>\n",
       "      <td>3,841.222581</td>\n",
       "      <td>424.884578</td>\n",
       "    </tr>\n",
       "  </tbody>\n",
       "</table>\n",
       "<p>2 rows × 44 columns</p>\n",
       "</div>"
      ],
      "text/plain": [
       "   PHRMCY_NAME      ID   WK_NBR                       NCPDP_TOKEN  \\\n",
       "0   PHARMACY 1   24102  7871604  3,939,000,000,000,000,000.000000   \n",
       "1  PHARMACY 10  152614  5651408 28,840,000,000,000,000,000.000000   \n",
       "\n",
       "   NDC_QTY_MTRC  ...  sales_gcn_26w  leak_dol_26w   leak_dol_13w  leak_dol_4w  \\\n",
       "0  1,578.100000  ... 461,594.906250  9,432.398400   5,302.932050 4,266.778619   \n",
       "1  3,336.700000  ... 293,376.031250 -5,255.220225 -12,002.389075 3,841.222581   \n",
       "\n",
       "   leak_dol_1w  \n",
       "0  -100.921289  \n",
       "1   424.884578  \n",
       "\n",
       "[2 rows x 44 columns]"
      ]
     },
     "execution_count": 228,
     "metadata": {},
     "output_type": "execute_result"
    }
   ],
   "source": [
    "data_bypharm.head(2)"
   ]
  },
  {
   "cell_type": "markdown",
   "metadata": {},
   "source": [
    "Below are Top 10 leakiest customers of ABDC in the last 26 weeks."
   ]
  },
  {
   "cell_type": "code",
   "execution_count": 235,
   "metadata": {
    "ExecuteTime": {
     "end_time": "2019-05-24T02:57:35.723116Z",
     "start_time": "2019-05-24T02:57:35.692200Z"
    }
   },
   "outputs": [
    {
     "data": {
      "image/png": "[encoded data removed]",
      "text/plain": [
       "<Figure size 864x576 with 1 Axes>"
      ]
     },
     "metadata": {},
     "output_type": "display_data"
    }
   ],
   "source": [
    "# Sort by top:\n",
    "top = 10\n",
    "\n",
    "fig = plt.figure()\n",
    "d1 = data_bypharm[[\"PHRMCY_NAME\",\"leak_dol_26w\"]].sort_values(by='leak_dol_26w', ascending=False).head(top).reset_index()\n",
    "d2 = data_bypharm[[\"PHRMCY_NAME\",\"leak_dol_13w\"]].sort_values(by='leak_dol_13w', ascending=False).head(top).reset_index()\n",
    "plt.barh(y=d1.index,width=\"leak_dol_26w\",data=d1, label=\"Leakage amount in the last 26 weeks\")\n",
    "plt.barh(y=d2.index,width=\"leak_dol_13w\",data=d2, label=\"Leakage amount in the last 13 weeks\" )\n",
    "plt.legend()\n",
    "plt.yticks(d1.index, d1['PHRMCY_NAME']);"
   ]
  },
  {
   "cell_type": "markdown",
   "metadata": {},
   "source": [
    "**Note:**\n",
    "\n",
    "For many pharmacies, the leakage happen more at the second half of the 26w period.\n",
    "For PHARMACY 2252 & 2644, this is most prominent."
   ]
  },
  {
   "cell_type": "code",
   "execution_count": 212,
   "metadata": {
    "ExecuteTime": {
     "end_time": "2019-05-24T03:06:48.292667Z",
     "start_time": "2019-05-24T03:06:48.237786Z"
    }
   },
   "outputs": [],
   "source": [
    "leak_bypharm = data_ready.groupby(\"PHRMCY_NAME\").mean().reset_index()\n",
    "leaked_pharm = leak_bypharm[leak_bypharm.leak_26w > 0]"
   ]
  },
  {
   "cell_type": "code",
   "execution_count": 241,
   "metadata": {},
   "outputs": [],
   "source": [
    "data_top_5 =  leak_bypharm.head(5)"
   ]
  },
  {
   "cell_type": "code",
   "execution_count": 242,
   "metadata": {},
   "outputs": [
    {
     "data": {
      "text/html": [
       "<div>\n",
       "<style scoped>\n",
       "    .dataframe tbody tr th:only-of-type {\n",
       "        vertical-align: middle;\n",
       "    }\n",
       "\n",
       "    .dataframe tbody tr th {\n",
       "        vertical-align: top;\n",
       "    }\n",
       "\n",
       "    .dataframe thead th {\n",
       "        text-align: right;\n",
       "    }\n",
       "</style>\n",
       "<table border=\"1\" class=\"dataframe\">\n",
       "  <thead>\n",
       "    <tr style=\"text-align: right;\">\n",
       "      <th></th>\n",
       "      <th>PHRMCY_NAME</th>\n",
       "      <th>ID</th>\n",
       "      <th>WK_NBR</th>\n",
       "      <th>NCPDP_TOKEN</th>\n",
       "      <th>NDC_QTY_MTRC</th>\n",
       "      <th>...</th>\n",
       "      <th>leak_26w</th>\n",
       "      <th>leak_dol_26w</th>\n",
       "      <th>leak_dol_13w</th>\n",
       "      <th>leak_dol_4w</th>\n",
       "      <th>leak_dol_1w</th>\n",
       "    </tr>\n",
       "  </thead>\n",
       "  <tbody>\n",
       "    <tr>\n",
       "      <th>0</th>\n",
       "      <td>PHARMACY 1</td>\n",
       "      <td>618.000000</td>\n",
       "      <td>201,836.000000</td>\n",
       "      <td>101,000,000,000,000,000.000000</td>\n",
       "      <td>40.464103</td>\n",
       "      <td>...</td>\n",
       "      <td>0.128956</td>\n",
       "      <td>269.496939</td>\n",
       "      <td>151.512246</td>\n",
       "      <td>121.907980</td>\n",
       "      <td>-2.883463</td>\n",
       "    </tr>\n",
       "    <tr>\n",
       "      <th>1</th>\n",
       "      <td>PHARMACY 10</td>\n",
       "      <td>5,450.500000</td>\n",
       "      <td>201,836.000000</td>\n",
       "      <td>1,030,000,000,000,000,000.000000</td>\n",
       "      <td>119.167857</td>\n",
       "      <td>...</td>\n",
       "      <td>0.087696</td>\n",
       "      <td>-210.208760</td>\n",
       "      <td>-480.095701</td>\n",
       "      <td>153.648923</td>\n",
       "      <td>16.995397</td>\n",
       "    </tr>\n",
       "    <tr>\n",
       "      <th>2</th>\n",
       "      <td>PHARMACY 100</td>\n",
       "      <td>8,100.500000</td>\n",
       "      <td>201,836.000000</td>\n",
       "      <td>1,320,000,000,000,000,000.000000</td>\n",
       "      <td>124.743103</td>\n",
       "      <td>...</td>\n",
       "      <td>-0.078740</td>\n",
       "      <td>-169.400283</td>\n",
       "      <td>-145.178191</td>\n",
       "      <td>-95.960371</td>\n",
       "      <td>-88.121893</td>\n",
       "    </tr>\n",
       "    <tr>\n",
       "      <th>3</th>\n",
       "      <td>PHARMACY 1000</td>\n",
       "      <td>3,867.000000</td>\n",
       "      <td>201,836.000000</td>\n",
       "      <td>402,000,000,000,000,000.000000</td>\n",
       "      <td>76.688571</td>\n",
       "      <td>...</td>\n",
       "      <td>0.208288</td>\n",
       "      <td>609.237870</td>\n",
       "      <td>220.968489</td>\n",
       "      <td>170.061563</td>\n",
       "      <td>88.706632</td>\n",
       "    </tr>\n",
       "    <tr>\n",
       "      <th>4</th>\n",
       "      <td>PHARMACY 1001</td>\n",
       "      <td>34,376.500000</td>\n",
       "      <td>201,836.000000</td>\n",
       "      <td>4,020,000,000,000,000,000.000000</td>\n",
       "      <td>93.086111</td>\n",
       "      <td>...</td>\n",
       "      <td>-0.676743</td>\n",
       "      <td>-2,595.887806</td>\n",
       "      <td>-2,082.597216</td>\n",
       "      <td>-1,136.850648</td>\n",
       "      <td>-169.122952</td>\n",
       "    </tr>\n",
       "  </tbody>\n",
       "</table>\n",
       "<p>5 rows × 52 columns</p>\n",
       "</div>"
      ],
      "text/plain": [
       "     PHRMCY_NAME            ID         WK_NBR  \\\n",
       "0     PHARMACY 1    618.000000 201,836.000000   \n",
       "1    PHARMACY 10  5,450.500000 201,836.000000   \n",
       "2   PHARMACY 100  8,100.500000 201,836.000000   \n",
       "3  PHARMACY 1000  3,867.000000 201,836.000000   \n",
       "4  PHARMACY 1001 34,376.500000 201,836.000000   \n",
       "\n",
       "                       NCPDP_TOKEN  NDC_QTY_MTRC  ...  leak_26w  leak_dol_26w  \\\n",
       "0   101,000,000,000,000,000.000000     40.464103  ...  0.128956    269.496939   \n",
       "1 1,030,000,000,000,000,000.000000    119.167857  ...  0.087696   -210.208760   \n",
       "2 1,320,000,000,000,000,000.000000    124.743103  ... -0.078740   -169.400283   \n",
       "3   402,000,000,000,000,000.000000     76.688571  ...  0.208288    609.237870   \n",
       "4 4,020,000,000,000,000,000.000000     93.086111  ... -0.676743 -2,595.887806   \n",
       "\n",
       "   leak_dol_13w   leak_dol_4w  leak_dol_1w  \n",
       "0    151.512246    121.907980    -2.883463  \n",
       "1   -480.095701    153.648923    16.995397  \n",
       "2   -145.178191    -95.960371   -88.121893  \n",
       "3    220.968489    170.061563    88.706632  \n",
       "4 -2,082.597216 -1,136.850648  -169.122952  \n",
       "\n",
       "[5 rows x 52 columns]"
      ]
     },
     "execution_count": 242,
     "metadata": {},
     "output_type": "execute_result"
    }
   ],
   "source": [
    "data_top_5"
   ]
  },
  {
   "cell_type": "code",
   "execution_count": 213,
   "metadata": {
    "ExecuteTime": {
     "end_time": "2019-05-24T03:08:46.636159Z",
     "start_time": "2019-05-24T03:08:46.628180Z"
    }
   },
   "outputs": [
    {
     "name": "stdout",
     "output_type": "stream",
     "text": [
      "51.69% of pharmacies bought less than 95% of what they dispensed from ABDC.\n"
     ]
    }
   ],
   "source": [
    "print(\"{:.4}% of pharmacies bought less than 95% of what they dispensed from ABDC.\".format(len(leaked_pharm)/len(leak_bypharm)*100))"
   ]
  },
  {
   "cell_type": "markdown",
   "metadata": {
    "ExecuteTime": {
     "end_time": "2019-05-24T03:07:59.053372Z",
     "start_time": "2019-05-24T03:07:59.043402Z"
    },
    "scrolled": true
   },
   "source": [
    "**Around half of all pharmacies have leaked at certain points **"
   ]
  },
  {
   "cell_type": "code",
   "execution_count": 218,
   "metadata": {
    "ExecuteTime": {
     "end_time": "2019-05-24T03:12:11.983027Z",
     "start_time": "2019-05-24T03:12:11.609032Z"
    }
   },
   "outputs": [
    {
     "data": {
      "text/plain": [
       "count   1,405.000000\n",
       "mean        0.193094\n",
       "std         0.222446\n",
       "min         0.000071\n",
       "25%         0.043863\n",
       "50%         0.109976\n",
       "75%         0.247492\n",
       "max         1.508105\n",
       "Name: leak_26w, dtype: float64"
      ]
     },
     "execution_count": 218,
     "metadata": {},
     "output_type": "execute_result"
    },
    {
     "data": {
      "image/png": "[encoded data removed]",
      "text/plain": [
       "<Figure size 864x576 with 1 Axes>"
      ]
     },
     "metadata": {},
     "output_type": "display_data"
    }
   ],
   "source": [
    "# sb.distplot(leak_bypharm['perc_26w'], kde=True, \n",
    "#              bins=20, color = 'green',)\n",
    "sns.distplot(leaked_pharm['leak_26w'], bins = 20, kde=0)\n",
    "plt.xlabel(\"26-week Leak Rate\")\n",
    "plt.ylabel(\"Number of pharmacies\")\n",
    "leaked_pharm['leak_26w'].describe()"
   ]
  },
  {
   "cell_type": "markdown",
   "metadata": {},
   "source": [
    "Leakage is not too serious in most pharmacies, with 75% leaking less than 25%."
   ]
  },
  {
   "cell_type": "markdown",
   "metadata": {},
   "source": [
    "## Buying groups"
   ]
  },
  {
   "cell_type": "code",
   "execution_count": 149,
   "metadata": {
    "ExecuteTime": {
     "end_time": "2019-05-24T03:02:45.007128Z",
     "start_time": "2019-05-24T03:02:44.929333Z"
    }
   },
   "outputs": [],
   "source": [
    "data_byGroup = data.groupby(\"BUY_GRP_NAM\").sum().reset_index()"
   ]
  },
  {
   "cell_type": "code",
   "execution_count": 239,
   "metadata": {},
   "outputs": [],
   "source": [
    "data_byGroup = getLeakDol(data_byGroup)"
   ]
  },
  {
   "cell_type": "code",
   "execution_count": 240,
   "metadata": {
    "ExecuteTime": {
     "end_time": "2019-05-24T03:03:00.248590Z",
     "start_time": "2019-05-24T03:02:59.994240Z"
    }
   },
   "outputs": [
    {
     "data": {
      "image/png": "[encoded data removed]",
      "text/plain": [
       "<Figure size 864x576 with 1 Axes>"
      ]
     },
     "metadata": {},
     "output_type": "display_data"
    }
   ],
   "source": [
    "import squarify\n",
    "import matplotlib\n",
    "\n",
    "# Remove the zero sales pharmacy to actually plot this thing\n",
    "toplot2 = data_byGroup[data_byGroup['sales_26w']>0]\n",
    "\n",
    "# create a color palette, mapped to my values\n",
    "cmap = matplotlib.cm.Blues\n",
    "mini=min(toplot2['leak_dol_26w'])\n",
    "maxi=max(toplot2['leak_dol_26w'])\n",
    "norm = matplotlib.colors.Normalize(vmin=mini, vmax=maxi)\n",
    "colors = [cmap(norm(value)) for value in toplot2['leak_dol_26w']]\n",
    "\n",
    "# plot the treemap\n",
    "squarify.plot(sizes=toplot2['leak_dol_26w'], label=toplot2['BUY_GRP_NAM'], alpha=.8, color=colors)\n",
    "plt.axis('off')\n",
    "plt.show() "
   ]
  },
  {
   "cell_type": "markdown",
   "metadata": {
    "ExecuteTime": {
     "end_time": "2019-05-24T02:43:09.447424Z",
     "start_time": "2019-05-24T02:43:09.439446Z"
    }
   },
   "source": [
    "I can now identify three major buying groups - Clippers, Cavalier, and Lakers - that account for most of the leakage. I identified this relationship in the infographic, but did not go into much details."
   ]
  },
  {
   "cell_type": "markdown",
   "metadata": {},
   "source": [
    "*Consider only those less than or smaller than 1 and larger than 0 (0 suggests no relationship), as pharmacies that overbought should not be a concern*"
   ]
  },
  {
   "cell_type": "markdown",
   "metadata": {},
   "source": [
    "# Let's get more business data"
   ]
  },
  {
   "cell_type": "markdown",
   "metadata": {},
   "source": [
    "I discovered dataset by the FDA that provides better information on marketing (marketing category, start date, and end date), and product category."
   ]
  },
  {
   "cell_type": "markdown",
   "metadata": {},
   "source": [
    "## Loading new data"
   ]
  },
  {
   "cell_type": "code",
   "execution_count": 151,
   "metadata": {},
   "outputs": [],
   "source": [
    "# Keep GCN and NDC strings when importing the dataset\n",
    "dtype_dic= {'GCNSEQ_NBR':str,'NDC':str, 'Marketing Start Date': str, 'Marketing End Date': str}\n",
    "\n",
    "# Load the dataset from csv to a dataframe\n",
    "data_FDA = pd.read_csv(\"../data/Comprehensive NDC SPL Data Elements File.csv\", dtype=dtype_dic)"
   ]
  },
  {
   "cell_type": "code",
   "execution_count": 152,
   "metadata": {},
   "outputs": [
    {
     "name": "stdout",
     "output_type": "stream",
     "text": [
      "<class 'pandas.core.frame.DataFrame'>\n",
      "RangeIndex: 369253 entries, 0 to 369252\n",
      "Data columns (total 9 columns):\n",
      "Item Code               369253 non-null object\n",
      "NDC11                   369253 non-null object\n",
      "Proprietary Name        369235 non-null object\n",
      "Dosage Form             369055 non-null object\n",
      "Marketing Category      369253 non-null object\n",
      "Product Type            369253 non-null object\n",
      "Marketing Start Date    369253 non-null object\n",
      "Marketing End Date      94007 non-null object\n",
      "Billing Unit            103238 non-null object\n",
      "dtypes: object(9)\n",
      "memory usage: 12.7+ MB\n"
     ]
    }
   ],
   "source": [
    "data_FDA.info()"
   ]
  },
  {
   "cell_type": "code",
   "execution_count": 153,
   "metadata": {},
   "outputs": [
    {
     "data": {
      "text/html": [
       "<div>\n",
       "<style scoped>\n",
       "    .dataframe tbody tr th:only-of-type {\n",
       "        vertical-align: middle;\n",
       "    }\n",
       "\n",
       "    .dataframe tbody tr th {\n",
       "        vertical-align: top;\n",
       "    }\n",
       "\n",
       "    .dataframe thead th {\n",
       "        text-align: right;\n",
       "    }\n",
       "</style>\n",
       "<table border=\"1\" class=\"dataframe\">\n",
       "  <thead>\n",
       "    <tr style=\"text-align: right;\">\n",
       "      <th></th>\n",
       "      <th>Item Code</th>\n",
       "      <th>NDC11</th>\n",
       "      <th>Proprietary Name</th>\n",
       "      <th>Dosage Form</th>\n",
       "      <th>Marketing Category</th>\n",
       "      <th>Product Type</th>\n",
       "      <th>Marketing Start Date</th>\n",
       "      <th>Marketing End Date</th>\n",
       "      <th>Billing Unit</th>\n",
       "    </tr>\n",
       "  </thead>\n",
       "  <tbody>\n",
       "    <tr>\n",
       "      <th>0</th>\n",
       "      <td>16590-148-82</td>\n",
       "      <td>16590014882</td>\n",
       "      <td>METHOCARBAMOL</td>\n",
       "      <td>TABLET</td>\n",
       "      <td>ANDA</td>\n",
       "      <td>HUMAN PRESCRIPTION DRUG</td>\n",
       "      <td>20120717</td>\n",
       "      <td>NaN</td>\n",
       "      <td>EA</td>\n",
       "    </tr>\n",
       "    <tr>\n",
       "      <th>1</th>\n",
       "      <td>68071-4020-9</td>\n",
       "      <td>68071402009</td>\n",
       "      <td>Glipizide</td>\n",
       "      <td>TABLET, FILM COATED, EXTENDED RELEASE</td>\n",
       "      <td>ANDA</td>\n",
       "      <td>HUMAN PRESCRIPTION DRUG</td>\n",
       "      <td>20170727</td>\n",
       "      <td>NaN</td>\n",
       "      <td>NaN</td>\n",
       "    </tr>\n",
       "    <tr>\n",
       "      <th>2</th>\n",
       "      <td>71897-400-42</td>\n",
       "      <td>71897040042</td>\n",
       "      <td>UNISOURCE Antibacterial Foam Handwash Plum</td>\n",
       "      <td>LIQUID</td>\n",
       "      <td>OTC monograph not final</td>\n",
       "      <td>HUMAN OTC DRUG</td>\n",
       "      <td>20170430</td>\n",
       "      <td>NaN</td>\n",
       "      <td>NaN</td>\n",
       "    </tr>\n",
       "  </tbody>\n",
       "</table>\n",
       "</div>"
      ],
      "text/plain": [
       "      Item Code        NDC11                            Proprietary Name  \\\n",
       "0  16590-148-82  16590014882                               METHOCARBAMOL   \n",
       "1  68071-4020-9  68071402009                                   Glipizide   \n",
       "2  71897-400-42  71897040042  UNISOURCE Antibacterial Foam Handwash Plum   \n",
       "\n",
       "                             Dosage Form       Marketing Category  \\\n",
       "0                                 TABLET                     ANDA   \n",
       "1  TABLET, FILM COATED, EXTENDED RELEASE                     ANDA   \n",
       "2                                 LIQUID  OTC monograph not final   \n",
       "\n",
       "              Product Type Marketing Start Date Marketing End Date  \\\n",
       "0  HUMAN PRESCRIPTION DRUG             20120717                NaN   \n",
       "1  HUMAN PRESCRIPTION DRUG             20170727                NaN   \n",
       "2           HUMAN OTC DRUG             20170430                NaN   \n",
       "\n",
       "  Billing Unit  \n",
       "0           EA  \n",
       "1          NaN  \n",
       "2          NaN  "
      ]
     },
     "execution_count": 153,
     "metadata": {},
     "output_type": "execute_result"
    }
   ],
   "source": [
    "data_FDA.head(3)"
   ]
  },
  {
   "cell_type": "markdown",
   "metadata": {},
   "source": [
    "Transform data to make all NDCs in NDC11 has padded zeros and Date is formated as `datetime`   "
   ]
  },
  {
   "cell_type": "code",
   "execution_count": 154,
   "metadata": {},
   "outputs": [],
   "source": [
    "from datetime import datetime\n",
    "import re\n",
    "\n",
    "# Novice-mode: Still works just fine.\n",
    "new_start_date = data_FDA['Marketing Start Date'].apply(lambda x: \"{}-{}-{}\".format(x[:4],x[4:6],x[6:8]))\n",
    "data_FDA['Marketing Start Date - Formatted'] = new_start_date.apply(lambda x: datetime.strptime(x,'%Y-%m-%d').date())\n",
    "\n",
    "new_end_date = data_FDA['Marketing Start Date'].apply(lambda x: \"{}-{}-{}\".format(x[:4],x[4:6],x[6:8]))\n",
    "data_FDA['Marketing End Date - Formatted'] = new_end_date.apply(lambda x: datetime.strptime(x,'%Y-%m-%d').date())"
   ]
  },
  {
   "cell_type": "code",
   "execution_count": 155,
   "metadata": {},
   "outputs": [],
   "source": [
    "data_FDA['start_till_now'] = (datetime.now().date()- data_FDA['Marketing Start Date - Formatted']).dt.days\n",
    "data_FDA['end_till_now'] = (datetime.now().date()- data_FDA['Marketing End Date - Formatted']).dt.days"
   ]
  },
  {
   "cell_type": "code",
   "execution_count": 156,
   "metadata": {},
   "outputs": [],
   "source": [
    "data_FDA.drop(['Marketing Start Date','Marketing End Date'],axis=1, inplace=True)"
   ]
  },
  {
   "cell_type": "code",
   "execution_count": 157,
   "metadata": {
    "scrolled": true
   },
   "outputs": [
    {
     "data": {
      "text/html": [
       "<div>\n",
       "<style scoped>\n",
       "    .dataframe tbody tr th:only-of-type {\n",
       "        vertical-align: middle;\n",
       "    }\n",
       "\n",
       "    .dataframe tbody tr th {\n",
       "        vertical-align: top;\n",
       "    }\n",
       "\n",
       "    .dataframe thead th {\n",
       "        text-align: right;\n",
       "    }\n",
       "</style>\n",
       "<table border=\"1\" class=\"dataframe\">\n",
       "  <thead>\n",
       "    <tr style=\"text-align: right;\">\n",
       "      <th></th>\n",
       "      <th>Item Code</th>\n",
       "      <th>NDC11</th>\n",
       "      <th>Proprietary Name</th>\n",
       "      <th>Dosage Form</th>\n",
       "      <th>Marketing Category</th>\n",
       "      <th>...</th>\n",
       "      <th>Billing Unit</th>\n",
       "      <th>Marketing Start Date - Formatted</th>\n",
       "      <th>Marketing End Date - Formatted</th>\n",
       "      <th>start_till_now</th>\n",
       "      <th>end_till_now</th>\n",
       "    </tr>\n",
       "  </thead>\n",
       "  <tbody>\n",
       "    <tr>\n",
       "      <th>0</th>\n",
       "      <td>16590-148-82</td>\n",
       "      <td>16590014882</td>\n",
       "      <td>METHOCARBAMOL</td>\n",
       "      <td>TABLET</td>\n",
       "      <td>ANDA</td>\n",
       "      <td>...</td>\n",
       "      <td>EA</td>\n",
       "      <td>2012-07-17</td>\n",
       "      <td>2012-07-17</td>\n",
       "      <td>2523</td>\n",
       "      <td>2523</td>\n",
       "    </tr>\n",
       "    <tr>\n",
       "      <th>1</th>\n",
       "      <td>68071-4020-9</td>\n",
       "      <td>68071402009</td>\n",
       "      <td>Glipizide</td>\n",
       "      <td>TABLET, FILM COATED, EXTENDED RELEASE</td>\n",
       "      <td>ANDA</td>\n",
       "      <td>...</td>\n",
       "      <td>NaN</td>\n",
       "      <td>2017-07-27</td>\n",
       "      <td>2017-07-27</td>\n",
       "      <td>687</td>\n",
       "      <td>687</td>\n",
       "    </tr>\n",
       "  </tbody>\n",
       "</table>\n",
       "<p>2 rows × 11 columns</p>\n",
       "</div>"
      ],
      "text/plain": [
       "      Item Code        NDC11 Proprietary Name  \\\n",
       "0  16590-148-82  16590014882    METHOCARBAMOL   \n",
       "1  68071-4020-9  68071402009        Glipizide   \n",
       "\n",
       "                             Dosage Form Marketing Category  ... Billing Unit  \\\n",
       "0                                 TABLET               ANDA  ...           EA   \n",
       "1  TABLET, FILM COATED, EXTENDED RELEASE               ANDA  ...          NaN   \n",
       "\n",
       "  Marketing Start Date - Formatted Marketing End Date - Formatted  \\\n",
       "0                       2012-07-17                     2012-07-17   \n",
       "1                       2017-07-27                     2017-07-27   \n",
       "\n",
       "  start_till_now  end_till_now  \n",
       "0           2523          2523  \n",
       "1            687           687  \n",
       "\n",
       "[2 rows x 11 columns]"
      ]
     },
     "execution_count": 157,
     "metadata": {},
     "output_type": "execute_result"
    }
   ],
   "source": [
    "data_FDA.head(2)"
   ]
  },
  {
   "cell_type": "markdown",
   "metadata": {},
   "source": [
    "## Merge FDA dataset with ABDC's"
   ]
  },
  {
   "cell_type": "code",
   "execution_count": 158,
   "metadata": {},
   "outputs": [],
   "source": [
    "data_merged = data_ready.merge(data_FDA,left_on='NDC', right_on='NDC11')"
   ]
  },
  {
   "cell_type": "markdown",
   "metadata": {},
   "source": [
    "Check the first few rows and the dimension to know if the merge actually works"
   ]
  },
  {
   "cell_type": "code",
   "execution_count": 159,
   "metadata": {},
   "outputs": [
    {
     "data": {
      "text/html": [
       "<div>\n",
       "<style scoped>\n",
       "    .dataframe tbody tr th:only-of-type {\n",
       "        vertical-align: middle;\n",
       "    }\n",
       "\n",
       "    .dataframe tbody tr th {\n",
       "        vertical-align: top;\n",
       "    }\n",
       "\n",
       "    .dataframe thead th {\n",
       "        text-align: right;\n",
       "    }\n",
       "</style>\n",
       "<table border=\"1\" class=\"dataframe\">\n",
       "  <thead>\n",
       "    <tr style=\"text-align: right;\">\n",
       "      <th></th>\n",
       "      <th>NDC</th>\n",
       "      <th>NDC11</th>\n",
       "      <th>NDC_DESC</th>\n",
       "      <th>Proprietary Name</th>\n",
       "      <th>Product Type</th>\n",
       "    </tr>\n",
       "  </thead>\n",
       "  <tbody>\n",
       "    <tr>\n",
       "      <th>0</th>\n",
       "      <td>12496120803</td>\n",
       "      <td>12496120803</td>\n",
       "      <td>SUBOXONE 8 MG-2 MG SL FILM</td>\n",
       "      <td>Suboxone</td>\n",
       "      <td>HUMAN PRESCRIPTION DRUG</td>\n",
       "    </tr>\n",
       "    <tr>\n",
       "      <th>1</th>\n",
       "      <td>12496120803</td>\n",
       "      <td>12496120803</td>\n",
       "      <td>SUBOXONE 8 MG-2 MG SL FILM</td>\n",
       "      <td>Suboxone</td>\n",
       "      <td>HUMAN PRESCRIPTION DRUG</td>\n",
       "    </tr>\n",
       "    <tr>\n",
       "      <th>2</th>\n",
       "      <td>12496120803</td>\n",
       "      <td>12496120803</td>\n",
       "      <td>SUBOXONE 8 MG-2 MG SL FILM</td>\n",
       "      <td>Suboxone</td>\n",
       "      <td>HUMAN PRESCRIPTION DRUG</td>\n",
       "    </tr>\n",
       "  </tbody>\n",
       "</table>\n",
       "</div>"
      ],
      "text/plain": [
       "           NDC        NDC11                    NDC_DESC Proprietary Name  \\\n",
       "0  12496120803  12496120803  SUBOXONE 8 MG-2 MG SL FILM         Suboxone   \n",
       "1  12496120803  12496120803  SUBOXONE 8 MG-2 MG SL FILM         Suboxone   \n",
       "2  12496120803  12496120803  SUBOXONE 8 MG-2 MG SL FILM         Suboxone   \n",
       "\n",
       "              Product Type  \n",
       "0  HUMAN PRESCRIPTION DRUG  \n",
       "1  HUMAN PRESCRIPTION DRUG  \n",
       "2  HUMAN PRESCRIPTION DRUG  "
      ]
     },
     "execution_count": 159,
     "metadata": {},
     "output_type": "execute_result"
    }
   ],
   "source": [
    "data_merged[[\"NDC\",\"NDC11\",\"NDC_DESC\",\"Proprietary Name\",\"Product Type\"]].head(3)"
   ]
  },
  {
   "cell_type": "code",
   "execution_count": 160,
   "metadata": {},
   "outputs": [],
   "source": [
    "# More variables need to be dropped, as I already have them in the ABDC dataset:\n",
    "data_merged.drop(['Proprietary Name','Item Code',\"Billing Unit\"],axis=1, inplace=True)"
   ]
  },
  {
   "cell_type": "code",
   "execution_count": 161,
   "metadata": {},
   "outputs": [
    {
     "data": {
      "text/plain": [
       "(23377, 72)"
      ]
     },
     "execution_count": 161,
     "metadata": {},
     "output_type": "execute_result"
    }
   ],
   "source": [
    "data_merged.shape"
   ]
  },
  {
   "cell_type": "code",
   "execution_count": 162,
   "metadata": {},
   "outputs": [],
   "source": [
    "data_merged.to_csv('data_to_sql.csv')"
   ]
  },
  {
   "cell_type": "markdown",
   "metadata": {},
   "source": [
    "# Use Lasso Regression to select variables of interest\n",
    "The first model I can will try is Lasso Regression, with `leak_26w` as the target variable."
   ]
  },
  {
   "cell_type": "markdown",
   "metadata": {},
   "source": [
    "## Label-encode categorical variables and standardize numerical variables"
   ]
  },
  {
   "cell_type": "code",
   "execution_count": 163,
   "metadata": {},
   "outputs": [],
   "source": [
    "data_model = data_merged.drop(['WK_NBR', 'WK_BEGIN_DTE', 'WK_END_DTE', 'NCPDP_TOKEN','Marketing Start Date - Formatted',\n",
    "       'Marketing End Date - Formatted',\"ID\",\"NDC11\",\"NDC\"],axis=1)"
   ]
  },
  {
   "cell_type": "code",
   "execution_count": 164,
   "metadata": {},
   "outputs": [
    {
     "data": {
      "text/plain": [
       "(22409, 63)"
      ]
     },
     "execution_count": 164,
     "metadata": {},
     "output_type": "execute_result"
    }
   ],
   "source": [
    "data_model.dropna(inplace=True)\n",
    "data_model.shape"
   ]
  },
  {
   "cell_type": "markdown",
   "metadata": {},
   "source": [
    "## Feature Engineering"
   ]
  },
  {
   "cell_type": "markdown",
   "metadata": {},
   "source": [
    "Seperate labels (target) and the features."
   ]
  },
  {
   "cell_type": "code",
   "execution_count": 165,
   "metadata": {},
   "outputs": [],
   "source": [
    "labels = data_model.loc[:, \"leak_26w\"]\n",
    "features = data_model.drop(\"leak_26w\", axis=1)"
   ]
  },
  {
   "cell_type": "code",
   "execution_count": 166,
   "metadata": {},
   "outputs": [
    {
     "name": "stdout",
     "output_type": "stream",
     "text": [
      "(22409,)\n",
      "(22409, 62)\n"
     ]
    }
   ],
   "source": [
    "print(labels.shape)\n",
    "print(features.shape)"
   ]
  },
  {
   "cell_type": "markdown",
   "metadata": {},
   "source": [
    "**For Features:**\n",
    "\n",
    "MinMax scale all numeric variables except for `leak_26w`, which we need to predict."
   ]
  },
  {
   "cell_type": "code",
   "execution_count": 167,
   "metadata": {},
   "outputs": [],
   "source": [
    "from sklearn import preprocessing\n",
    "scaler = preprocessing.MinMaxScaler()"
   ]
  },
  {
   "cell_type": "code",
   "execution_count": 168,
   "metadata": {
    "scrolled": true
   },
   "outputs": [
    {
     "name": "stderr",
     "output_type": "stream",
     "text": [
      "c:\\users\\linhd\\appdata\\local\\programs\\python\\python37-32\\lib\\site-packages\\sklearn\\preprocessing\\data.py:334: DataConversionWarning: Data with input dtype float32, int64, float64 were all converted to float64 by MinMaxScaler.\n",
      "  return self.partial_fit(X, y)\n"
     ]
    }
   ],
   "source": [
    "scaled = scaler.fit_transform(features.select_dtypes(include=numerics))\n",
    "scaled = pd.DataFrame(scaled,columns=features.select_dtypes(include=numerics).columns)"
   ]
  },
  {
   "cell_type": "code",
   "execution_count": 169,
   "metadata": {},
   "outputs": [],
   "source": [
    "features_less = features.drop(scaled.columns.values,axis=1)\n",
    "x = pd.concat([features_less,scaled], axis=1)"
   ]
  },
  {
   "cell_type": "code",
   "execution_count": 170,
   "metadata": {},
   "outputs": [],
   "source": [
    "lab_encoder = preprocessing.LabelEncoder()\n",
    "\n",
    "labeled = features.select_dtypes(include='object').astype(str).apply(lab_encoder.fit_transform);"
   ]
  },
  {
   "cell_type": "code",
   "execution_count": 171,
   "metadata": {},
   "outputs": [],
   "source": [
    "features = pd.concat([features.drop(labeled.columns.values,axis=1),labeled], axis=1)"
   ]
  },
  {
   "cell_type": "markdown",
   "metadata": {},
   "source": [
    "Remove all sales, percentages, and leak figure in features due to direct correlation with our target (`leak_26w`).\n",
    "They also cannot be known by ABDC before leakage has already occured."
   ]
  },
  {
   "cell_type": "code",
   "execution_count": 172,
   "metadata": {},
   "outputs": [],
   "source": [
    "list_remove = []\n",
    "for col in features.columns:\n",
    "    if \"perc\" in col:\n",
    "        list_remove.append(col)\n",
    "    if \"sales\" in col:\n",
    "        list_remove.append(col)\n",
    "    if \"leak\" in col:\n",
    "        list_remove.append(col) \n",
    "features = features.drop(list_remove, axis=1)"
   ]
  },
  {
   "cell_type": "code",
   "execution_count": 173,
   "metadata": {},
   "outputs": [
    {
     "data": {
      "text/plain": [
       "(22409, 43)"
      ]
     },
     "execution_count": 173,
     "metadata": {},
     "output_type": "execute_result"
    }
   ],
   "source": [
    "features.shape"
   ]
  },
  {
   "cell_type": "markdown",
   "metadata": {},
   "source": [
    "Split the data into train set and test set (0.75 - 0.25)."
   ]
  },
  {
   "cell_type": "code",
   "execution_count": 174,
   "metadata": {},
   "outputs": [],
   "source": [
    "from sklearn.model_selection import train_test_split\n",
    "train_features, test_features, train_labels, test_labels = train_test_split(\n",
    "    features, labels, test_size=0.25, random_state=42)"
   ]
  },
  {
   "cell_type": "markdown",
   "metadata": {},
   "source": [
    "## Run Lasso Regression"
   ]
  },
  {
   "cell_type": "code",
   "execution_count": 175,
   "metadata": {},
   "outputs": [],
   "source": [
    "from sklearn import linear_model\n",
    "lass = linear_model.Lasso(alpha=0.0001,max_iter=3000)"
   ]
  },
  {
   "cell_type": "code",
   "execution_count": 176,
   "metadata": {},
   "outputs": [
    {
     "name": "stderr",
     "output_type": "stream",
     "text": [
      "c:\\users\\linhd\\appdata\\local\\programs\\python\\python37-32\\lib\\site-packages\\sklearn\\linear_model\\coordinate_descent.py:492: ConvergenceWarning: Objective did not converge. You might want to increase the number of iterations. Fitting data with very small alpha may cause precision problems.\n",
      "  ConvergenceWarning)\n"
     ]
    },
    {
     "data": {
      "text/plain": [
       "Lasso(alpha=0.0001, copy_X=True, fit_intercept=True, max_iter=3000,\n",
       "   normalize=False, positive=False, precompute=False, random_state=None,\n",
       "   selection='cyclic', tol=0.0001, warm_start=False)"
      ]
     },
     "execution_count": 176,
     "metadata": {},
     "output_type": "execute_result"
    }
   ],
   "source": [
    "lass.fit(train_features,train_labels)"
   ]
  },
  {
   "cell_type": "code",
   "execution_count": 177,
   "metadata": {},
   "outputs": [],
   "source": [
    "predicted_labels = lass.predict(test_features)"
   ]
  },
  {
   "cell_type": "code",
   "execution_count": 178,
   "metadata": {},
   "outputs": [
    {
     "data": {
      "text/plain": [
       "19.94905850019131"
      ]
     },
     "execution_count": 178,
     "metadata": {},
     "output_type": "execute_result"
    }
   ],
   "source": [
    "from sklearn.metrics import mean_squared_error\n",
    "mean_squared_error(test_labels,predicted_labels)"
   ]
  },
  {
   "cell_type": "code",
   "execution_count": 179,
   "metadata": {},
   "outputs": [
    {
     "data": {
      "text/plain": [
       "0.013053033090309918"
      ]
     },
     "execution_count": 179,
     "metadata": {},
     "output_type": "execute_result"
    }
   ],
   "source": [
    "from sklearn.metrics import explained_variance_score\n",
    "explained_variance_score(test_labels,predicted_labels)\n",
    "\n",
    "# Alternatively, I can use this:\n",
    "# lass.score(train_features,train_labels)"
   ]
  },
  {
   "cell_type": "markdown",
   "metadata": {},
   "source": [
    "*Wow, that's abysmal...*"
   ]
  },
  {
   "cell_type": "code",
   "execution_count": 180,
   "metadata": {},
   "outputs": [],
   "source": [
    "# z = pd.concat([pd.Series(predicted_labels),test_labels.reset_index().drop(\"index\",axis=1)])"
   ]
  },
  {
   "cell_type": "code",
   "execution_count": 181,
   "metadata": {},
   "outputs": [],
   "source": [
    "coefficients = pd.concat([pd.DataFrame(features.columns),pd.DataFrame(lass.coef_)], axis = 1)"
   ]
  },
  {
   "cell_type": "code",
   "execution_count": 182,
   "metadata": {},
   "outputs": [],
   "source": [
    "coefficients = pd.concat([pd.DataFrame(features.columns),pd.DataFrame(lass.coef_)], axis = 1)\n",
    "coefficients.columns = ['features','coefficient']"
   ]
  },
  {
   "cell_type": "code",
   "execution_count": 183,
   "metadata": {},
   "outputs": [
    {
     "data": {
      "text/html": [
       "<div>\n",
       "<style scoped>\n",
       "    .dataframe tbody tr th:only-of-type {\n",
       "        vertical-align: middle;\n",
       "    }\n",
       "\n",
       "    .dataframe tbody tr th {\n",
       "        vertical-align: top;\n",
       "    }\n",
       "\n",
       "    .dataframe thead th {\n",
       "        text-align: right;\n",
       "    }\n",
       "</style>\n",
       "<table border=\"1\" class=\"dataframe\">\n",
       "  <thead>\n",
       "    <tr style=\"text-align: right;\">\n",
       "      <th></th>\n",
       "      <th>features</th>\n",
       "      <th>coefficient</th>\n",
       "    </tr>\n",
       "  </thead>\n",
       "  <tbody>\n",
       "    <tr>\n",
       "      <th>38</th>\n",
       "      <td>GCNSEQ_DSG_FORM_CD</td>\n",
       "      <td>0.068965</td>\n",
       "    </tr>\n",
       "    <tr>\n",
       "      <th>39</th>\n",
       "      <td>GCNSEQ_STR_DESC</td>\n",
       "      <td>0.012879</td>\n",
       "    </tr>\n",
       "    <tr>\n",
       "      <th>35</th>\n",
       "      <td>GCNSEQ_NBR</td>\n",
       "      <td>0.004266</td>\n",
       "    </tr>\n",
       "    <tr>\n",
       "      <th>2</th>\n",
       "      <td>NDC_CASE_PK_QTY</td>\n",
       "      <td>0.002607</td>\n",
       "    </tr>\n",
       "    <tr>\n",
       "      <th>32</th>\n",
       "      <td>NDC_DESC</td>\n",
       "      <td>0.002052</td>\n",
       "    </tr>\n",
       "    <tr>\n",
       "      <th>16</th>\n",
       "      <td>PURCH_QTY_GCN_4WKS_MTRC</td>\n",
       "      <td>0.000450</td>\n",
       "    </tr>\n",
       "    <tr>\n",
       "      <th>3</th>\n",
       "      <td>DSPN_QTY_NDC_1WK</td>\n",
       "      <td>0.000426</td>\n",
       "    </tr>\n",
       "    <tr>\n",
       "      <th>5</th>\n",
       "      <td>DSPN_QTY_NDC_13WKS</td>\n",
       "      <td>0.000333</td>\n",
       "    </tr>\n",
       "    <tr>\n",
       "      <th>12</th>\n",
       "      <td>PURCH_QTY_NDC_4WKS_MTRC</td>\n",
       "      <td>0.000277</td>\n",
       "    </tr>\n",
       "    <tr>\n",
       "      <th>24</th>\n",
       "      <td>DSPN_COGS_GCN_1WK</td>\n",
       "      <td>0.000124</td>\n",
       "    </tr>\n",
       "    <tr>\n",
       "      <th>10</th>\n",
       "      <td>DSPN_QTY_GCN_26WKS</td>\n",
       "      <td>0.000089</td>\n",
       "    </tr>\n",
       "    <tr>\n",
       "      <th>6</th>\n",
       "      <td>DSPN_QTY_NDC_26WKS</td>\n",
       "      <td>0.000078</td>\n",
       "    </tr>\n",
       "    <tr>\n",
       "      <th>28</th>\n",
       "      <td>start_till_now</td>\n",
       "      <td>0.000040</td>\n",
       "    </tr>\n",
       "    <tr>\n",
       "      <th>25</th>\n",
       "      <td>DSPN_COGS_GCN_4WKS</td>\n",
       "      <td>0.000018</td>\n",
       "    </tr>\n",
       "    <tr>\n",
       "      <th>22</th>\n",
       "      <td>DSPN_COGS_NDC_13WKS</td>\n",
       "      <td>0.000010</td>\n",
       "    </tr>\n",
       "    <tr>\n",
       "      <th>30</th>\n",
       "      <td>PHRMCY_NAME</td>\n",
       "      <td>0.000008</td>\n",
       "    </tr>\n",
       "    <tr>\n",
       "      <th>23</th>\n",
       "      <td>DSPN_COGS_NDC_26WKS</td>\n",
       "      <td>0.000004</td>\n",
       "    </tr>\n",
       "    <tr>\n",
       "      <th>18</th>\n",
       "      <td>PURCH_QTY_GCN_26WKS_MTRC</td>\n",
       "      <td>0.000004</td>\n",
       "    </tr>\n",
       "    <tr>\n",
       "      <th>0</th>\n",
       "      <td>NDC_QTY_MTRC</td>\n",
       "      <td>0.000003</td>\n",
       "    </tr>\n",
       "    <tr>\n",
       "      <th>29</th>\n",
       "      <td>end_till_now</td>\n",
       "      <td>0.000000</td>\n",
       "    </tr>\n",
       "    <tr>\n",
       "      <th>1</th>\n",
       "      <td>NDC_PKG_SZ</td>\n",
       "      <td>0.000000</td>\n",
       "    </tr>\n",
       "    <tr>\n",
       "      <th>42</th>\n",
       "      <td>Product Type</td>\n",
       "      <td>0.000000</td>\n",
       "    </tr>\n",
       "    <tr>\n",
       "      <th>27</th>\n",
       "      <td>DSPN_COGS_GCN_26WKS</td>\n",
       "      <td>-0.000006</td>\n",
       "    </tr>\n",
       "    <tr>\n",
       "      <th>9</th>\n",
       "      <td>DSPN_QTY_GCN_13WKS</td>\n",
       "      <td>-0.000006</td>\n",
       "    </tr>\n",
       "    <tr>\n",
       "      <th>26</th>\n",
       "      <td>DSPN_COGS_GCN_13WKS</td>\n",
       "      <td>-0.000010</td>\n",
       "    </tr>\n",
       "    <tr>\n",
       "      <th>21</th>\n",
       "      <td>DSPN_COGS_NDC_4WKS</td>\n",
       "      <td>-0.000015</td>\n",
       "    </tr>\n",
       "    <tr>\n",
       "      <th>19</th>\n",
       "      <td>COGS_PRC_MTRC</td>\n",
       "      <td>-0.000024</td>\n",
       "    </tr>\n",
       "    <tr>\n",
       "      <th>4</th>\n",
       "      <td>DSPN_QTY_NDC_4WKS</td>\n",
       "      <td>-0.000079</td>\n",
       "    </tr>\n",
       "    <tr>\n",
       "      <th>17</th>\n",
       "      <td>PURCH_QTY_GCN_13WKS_MTRC</td>\n",
       "      <td>-0.000084</td>\n",
       "    </tr>\n",
       "    <tr>\n",
       "      <th>14</th>\n",
       "      <td>PURCH_QTY_NDC_26WKS_MTRC</td>\n",
       "      <td>-0.000104</td>\n",
       "    </tr>\n",
       "    <tr>\n",
       "      <th>20</th>\n",
       "      <td>DSPN_COGS_NDC_1WK</td>\n",
       "      <td>-0.000110</td>\n",
       "    </tr>\n",
       "    <tr>\n",
       "      <th>7</th>\n",
       "      <td>DSPN_QTY_GCN_1WK</td>\n",
       "      <td>-0.000203</td>\n",
       "    </tr>\n",
       "    <tr>\n",
       "      <th>11</th>\n",
       "      <td>PURCH_QTY_NDC_1WK_MTRC</td>\n",
       "      <td>-0.000227</td>\n",
       "    </tr>\n",
       "    <tr>\n",
       "      <th>13</th>\n",
       "      <td>PURCH_QTY_NDC_13WKS_MTRC</td>\n",
       "      <td>-0.000344</td>\n",
       "    </tr>\n",
       "    <tr>\n",
       "      <th>15</th>\n",
       "      <td>PURCH_QTY_GCN_1WK_MTRC</td>\n",
       "      <td>-0.000463</td>\n",
       "    </tr>\n",
       "    <tr>\n",
       "      <th>8</th>\n",
       "      <td>DSPN_QTY_GCN_4WKS</td>\n",
       "      <td>-0.000667</td>\n",
       "    </tr>\n",
       "    <tr>\n",
       "      <th>36</th>\n",
       "      <td>GCNSEQ_DESC</td>\n",
       "      <td>-0.003166</td>\n",
       "    </tr>\n",
       "    <tr>\n",
       "      <th>31</th>\n",
       "      <td>BUY_GRP_NAM</td>\n",
       "      <td>-0.011843</td>\n",
       "    </tr>\n",
       "    <tr>\n",
       "      <th>34</th>\n",
       "      <td>MFG_NAM</td>\n",
       "      <td>-0.013174</td>\n",
       "    </tr>\n",
       "    <tr>\n",
       "      <th>40</th>\n",
       "      <td>Dosage Form</td>\n",
       "      <td>-0.014131</td>\n",
       "    </tr>\n",
       "    <tr>\n",
       "      <th>41</th>\n",
       "      <td>Marketing Category</td>\n",
       "      <td>-0.019915</td>\n",
       "    </tr>\n",
       "    <tr>\n",
       "      <th>37</th>\n",
       "      <td>GCNSEQ_RTE_OF_ADMIN_DESC</td>\n",
       "      <td>-0.270021</td>\n",
       "    </tr>\n",
       "    <tr>\n",
       "      <th>33</th>\n",
       "      <td>BRX_GRX_CD</td>\n",
       "      <td>-0.270524</td>\n",
       "    </tr>\n",
       "  </tbody>\n",
       "</table>\n",
       "</div>"
      ],
      "text/plain": [
       "                    features  coefficient\n",
       "38        GCNSEQ_DSG_FORM_CD     0.068965\n",
       "39           GCNSEQ_STR_DESC     0.012879\n",
       "35                GCNSEQ_NBR     0.004266\n",
       "2            NDC_CASE_PK_QTY     0.002607\n",
       "32                  NDC_DESC     0.002052\n",
       "16   PURCH_QTY_GCN_4WKS_MTRC     0.000450\n",
       "3           DSPN_QTY_NDC_1WK     0.000426\n",
       "5         DSPN_QTY_NDC_13WKS     0.000333\n",
       "12   PURCH_QTY_NDC_4WKS_MTRC     0.000277\n",
       "24         DSPN_COGS_GCN_1WK     0.000124\n",
       "10        DSPN_QTY_GCN_26WKS     0.000089\n",
       "6         DSPN_QTY_NDC_26WKS     0.000078\n",
       "28            start_till_now     0.000040\n",
       "25        DSPN_COGS_GCN_4WKS     0.000018\n",
       "22       DSPN_COGS_NDC_13WKS     0.000010\n",
       "30               PHRMCY_NAME     0.000008\n",
       "23       DSPN_COGS_NDC_26WKS     0.000004\n",
       "18  PURCH_QTY_GCN_26WKS_MTRC     0.000004\n",
       "0               NDC_QTY_MTRC     0.000003\n",
       "29              end_till_now     0.000000\n",
       "1                 NDC_PKG_SZ     0.000000\n",
       "42              Product Type     0.000000\n",
       "27       DSPN_COGS_GCN_26WKS    -0.000006\n",
       "9         DSPN_QTY_GCN_13WKS    -0.000006\n",
       "26       DSPN_COGS_GCN_13WKS    -0.000010\n",
       "21        DSPN_COGS_NDC_4WKS    -0.000015\n",
       "19             COGS_PRC_MTRC    -0.000024\n",
       "4          DSPN_QTY_NDC_4WKS    -0.000079\n",
       "17  PURCH_QTY_GCN_13WKS_MTRC    -0.000084\n",
       "14  PURCH_QTY_NDC_26WKS_MTRC    -0.000104\n",
       "20         DSPN_COGS_NDC_1WK    -0.000110\n",
       "7           DSPN_QTY_GCN_1WK    -0.000203\n",
       "11    PURCH_QTY_NDC_1WK_MTRC    -0.000227\n",
       "13  PURCH_QTY_NDC_13WKS_MTRC    -0.000344\n",
       "15    PURCH_QTY_GCN_1WK_MTRC    -0.000463\n",
       "8          DSPN_QTY_GCN_4WKS    -0.000667\n",
       "36               GCNSEQ_DESC    -0.003166\n",
       "31               BUY_GRP_NAM    -0.011843\n",
       "34                   MFG_NAM    -0.013174\n",
       "40               Dosage Form    -0.014131\n",
       "41        Marketing Category    -0.019915\n",
       "37  GCNSEQ_RTE_OF_ADMIN_DESC    -0.270021\n",
       "33                BRX_GRX_CD    -0.270524"
      ]
     },
     "execution_count": 183,
     "metadata": {},
     "output_type": "execute_result"
    }
   ],
   "source": [
    "pd.options.display.float_format = '{:,.6f}'.format\n",
    "coefficients.sort_values(by=\"coefficient\",ascending=False)"
   ]
  },
  {
   "cell_type": "markdown",
   "metadata": {},
   "source": [
    "# Accuracy was very poor, so I'll use classification models instead"
   ]
  },
  {
   "cell_type": "markdown",
   "metadata": {},
   "source": [
    "## Define categories"
   ]
  },
  {
   "cell_type": "markdown",
   "metadata": {},
   "source": [
    "Group values in `leak_26w` into three categories, as observed in Exploratory Data Analysis (EDA)."
   ]
  },
  {
   "cell_type": "code",
   "execution_count": 184,
   "metadata": {},
   "outputs": [],
   "source": [
    "data_model.loc[:,\"leak_cat\"] = np.where(data_model['leak_26w']>0.9,\"no_sales\",\"leak\")"
   ]
  },
  {
   "cell_type": "code",
   "execution_count": 185,
   "metadata": {},
   "outputs": [],
   "source": [
    "def sortLeak(x):\n",
    "    if x>0.9: \n",
    "        return \"no sales\"\n",
    "    elif x> 0.25:\n",
    "        return \"high leak\"\n",
    "    elif x> 0:\n",
    "        return \"low leak\"\n",
    "    else:\n",
    "        return \"overbuying\""
   ]
  },
  {
   "cell_type": "code",
   "execution_count": 186,
   "metadata": {},
   "outputs": [],
   "source": [
    "data_model.loc[:,\"leak_cat\"] =  data_model['leak_26w'].apply(sortLeak)"
   ]
  },
  {
   "cell_type": "code",
   "execution_count": 187,
   "metadata": {},
   "outputs": [
    {
     "data": {
      "text/plain": [
       "overbuying    13685\n",
       "low leak       3293\n",
       "no sales       3192\n",
       "high leak      2239\n",
       "Name: leak_cat, dtype: int64"
      ]
     },
     "execution_count": 187,
     "metadata": {},
     "output_type": "execute_result"
    }
   ],
   "source": [
    "data_model.loc[:,\"leak_cat\"].value_counts()"
   ]
  },
  {
   "cell_type": "markdown",
   "metadata": {},
   "source": [
    "## Get a new 'features' dataframe"
   ]
  },
  {
   "cell_type": "code",
   "execution_count": 188,
   "metadata": {},
   "outputs": [],
   "source": [
    "labels = lab_encoder.fit_transform(data_model.loc[:,\"leak_cat\"])"
   ]
  },
  {
   "cell_type": "code",
   "execution_count": 189,
   "metadata": {},
   "outputs": [],
   "source": [
    "features = data_model.drop([\"leak_26w\",\"leak_cat\"], axis=1)"
   ]
  },
  {
   "cell_type": "code",
   "execution_count": 190,
   "metadata": {},
   "outputs": [],
   "source": [
    "features = pd.get_dummies(features) "
   ]
  },
  {
   "cell_type": "markdown",
   "metadata": {},
   "source": [
    "Remove highly-correlated features. \n",
    "I also want to exclude reference to pharmacy names, as they are already anonymized."
   ]
  },
  {
   "cell_type": "code",
   "execution_count": 191,
   "metadata": {},
   "outputs": [],
   "source": [
    "list_remove = []\n",
    "for col in features.columns:\n",
    "    if \"perc\" in col:\n",
    "        list_remove.append(col)\n",
    "    if \"sales\" in col:\n",
    "        list_remove.append(col)\n",
    "    if \"leak\" in col:\n",
    "        list_remove.append(col)\n",
    "    if \"DSPN\" in col:\n",
    "        list_remove.append(col)\n",
    "    if \"PURCH\" in col:\n",
    "        list_remove.append(col)\n",
    "    if \"PHRMCY_NAME\" in col:\n",
    "        list_remove.append(col)\n",
    "        \n",
    "features = features.drop(list_remove, axis=1)"
   ]
  },
  {
   "cell_type": "markdown",
   "metadata": {},
   "source": [
    "## Train Random Forest model"
   ]
  },
  {
   "cell_type": "code",
   "execution_count": 192,
   "metadata": {},
   "outputs": [],
   "source": [
    "from sklearn.model_selection import train_test_split\n",
    "train_features, test_features, train_labels, test_labels = train_test_split(\n",
    "    features, labels, test_size=0.25)"
   ]
  },
  {
   "cell_type": "code",
   "execution_count": 193,
   "metadata": {},
   "outputs": [],
   "source": [
    "from sklearn.ensemble import RandomForestClassifier"
   ]
  },
  {
   "cell_type": "code",
   "execution_count": 194,
   "metadata": {},
   "outputs": [],
   "source": [
    "rf_model = RandomForestClassifier()"
   ]
  },
  {
   "cell_type": "code",
   "execution_count": 195,
   "metadata": {
    "scrolled": true
   },
   "outputs": [
    {
     "name": "stderr",
     "output_type": "stream",
     "text": [
      "c:\\users\\linhd\\appdata\\local\\programs\\python\\python37-32\\lib\\site-packages\\sklearn\\ensemble\\forest.py:246: FutureWarning: The default value of n_estimators will change from 10 in version 0.20 to 100 in 0.22.\n",
      "  \"10 in version 0.20 to 100 in 0.22.\", FutureWarning)\n"
     ]
    },
    {
     "data": {
      "text/plain": [
       "RandomForestClassifier(bootstrap=True, class_weight=None, criterion='gini',\n",
       "            max_depth=None, max_features='auto', max_leaf_nodes=None,\n",
       "            min_impurity_decrease=0.0, min_impurity_split=None,\n",
       "            min_samples_leaf=1, min_samples_split=2,\n",
       "            min_weight_fraction_leaf=0.0, n_estimators=10, n_jobs=None,\n",
       "            oob_score=False, random_state=None, verbose=0,\n",
       "            warm_start=False)"
      ]
     },
     "execution_count": 195,
     "metadata": {},
     "output_type": "execute_result"
    }
   ],
   "source": [
    "rf_model.fit(train_features,train_labels)"
   ]
  },
  {
   "cell_type": "code",
   "execution_count": 196,
   "metadata": {},
   "outputs": [],
   "source": [
    "predicted_labels = rf_model.predict(test_features)"
   ]
  },
  {
   "cell_type": "code",
   "execution_count": 197,
   "metadata": {},
   "outputs": [
    {
     "data": {
      "text/plain": [
       "0.7402713316672617"
      ]
     },
     "execution_count": 197,
     "metadata": {},
     "output_type": "execute_result"
    }
   ],
   "source": [
    "# Calculate accuracy score\n",
    "rf_model.score(train_features,train_labels)"
   ]
  },
  {
   "cell_type": "code",
   "execution_count": 198,
   "metadata": {},
   "outputs": [],
   "source": [
    "errors = abs(predicted_labels - test_labels)"
   ]
  },
  {
   "cell_type": "code",
   "execution_count": 199,
   "metadata": {},
   "outputs": [
    {
     "data": {
      "text/plain": [
       "28.012825525924768"
      ]
     },
     "execution_count": 199,
     "metadata": {},
     "output_type": "execute_result"
    }
   ],
   "source": [
    "# Calculate mean absolute percentage error (MAPE)\n",
    "mape = 100 * (sum(errors) / sum(test_labels))\n",
    "mape"
   ]
  },
  {
   "cell_type": "code",
   "execution_count": 200,
   "metadata": {},
   "outputs": [],
   "source": [
    "# Get numerical feature importances\n",
    "importances = list(rf_model.feature_importances_)\n",
    "\n",
    "# List of tuples with variable and importance\n",
    "feature_importances = [(feature, round(importance, 2)) for feature, importance in zip(list(features.columns), importances)]\n",
    "\n",
    "# Sort the feature importances by most important first\n",
    "feature_importances_df = pd.DataFrame(feature_importances,columns=['Feature','Importance']).sort_values(by=\"Importance\",ascending=False)"
   ]
  },
  {
   "cell_type": "markdown",
   "metadata": {},
   "source": [
    "## Look at the top 20 most important features in our set:"
   ]
  },
  {
   "cell_type": "code",
   "execution_count": 201,
   "metadata": {},
   "outputs": [
    {
     "data": {
      "text/html": [
       "<div>\n",
       "<style scoped>\n",
       "    .dataframe tbody tr th:only-of-type {\n",
       "        vertical-align: middle;\n",
       "    }\n",
       "\n",
       "    .dataframe tbody tr th {\n",
       "        vertical-align: top;\n",
       "    }\n",
       "\n",
       "    .dataframe thead th {\n",
       "        text-align: right;\n",
       "    }\n",
       "</style>\n",
       "<table border=\"1\" class=\"dataframe\">\n",
       "  <thead>\n",
       "    <tr style=\"text-align: right;\">\n",
       "      <th></th>\n",
       "      <th>Feature</th>\n",
       "      <th>Importance</th>\n",
       "    </tr>\n",
       "  </thead>\n",
       "  <tbody>\n",
       "    <tr>\n",
       "      <th>3</th>\n",
       "      <td>COGS_PRC_MTRC</td>\n",
       "      <td>0.560000</td>\n",
       "    </tr>\n",
       "    <tr>\n",
       "      <th>0</th>\n",
       "      <td>NDC_QTY_MTRC</td>\n",
       "      <td>0.030000</td>\n",
       "    </tr>\n",
       "    <tr>\n",
       "      <th>1</th>\n",
       "      <td>NDC_PKG_SZ</td>\n",
       "      <td>0.030000</td>\n",
       "    </tr>\n",
       "    <tr>\n",
       "      <th>18</th>\n",
       "      <td>BUY_GRP_NAM_WARRIERS</td>\n",
       "      <td>0.020000</td>\n",
       "    </tr>\n",
       "    <tr>\n",
       "      <th>4</th>\n",
       "      <td>start_till_now</td>\n",
       "      <td>0.020000</td>\n",
       "    </tr>\n",
       "    <tr>\n",
       "      <th>6</th>\n",
       "      <td>BUY_GRP_NAM_76ERS</td>\n",
       "      <td>0.020000</td>\n",
       "    </tr>\n",
       "    <tr>\n",
       "      <th>150</th>\n",
       "      <td>GCNSEQ_DSG_FORM_CD_TU</td>\n",
       "      <td>0.020000</td>\n",
       "    </tr>\n",
       "    <tr>\n",
       "      <th>21</th>\n",
       "      <td>NDC_DESC_BUPRENORPHIN-NALOXON 8-2 MG SL</td>\n",
       "      <td>0.020000</td>\n",
       "    </tr>\n",
       "    <tr>\n",
       "      <th>57</th>\n",
       "      <td>MFG_NAM_ALVOGEN INC</td>\n",
       "      <td>0.010000</td>\n",
       "    </tr>\n",
       "    <tr>\n",
       "      <th>140</th>\n",
       "      <td>GCNSEQ_RTE_OF_ADMIN_DESC_S</td>\n",
       "      <td>0.010000</td>\n",
       "    </tr>\n",
       "    <tr>\n",
       "      <th>126</th>\n",
       "      <td>GCNSEQ_DESC_hydrocodone/acetaminophen ORAL TAB...</td>\n",
       "      <td>0.010000</td>\n",
       "    </tr>\n",
       "    <tr>\n",
       "      <th>82</th>\n",
       "      <td>MFG_NAM_RHODES PHARMACE</td>\n",
       "      <td>0.010000</td>\n",
       "    </tr>\n",
       "    <tr>\n",
       "      <th>89</th>\n",
       "      <td>GCNSEQ_NBR_30623</td>\n",
       "      <td>0.010000</td>\n",
       "    </tr>\n",
       "    <tr>\n",
       "      <th>90</th>\n",
       "      <td>GCNSEQ_NBR_48977</td>\n",
       "      <td>0.010000</td>\n",
       "    </tr>\n",
       "    <tr>\n",
       "      <th>91</th>\n",
       "      <td>GCNSEQ_NBR_51641</td>\n",
       "      <td>0.010000</td>\n",
       "    </tr>\n",
       "    <tr>\n",
       "      <th>59</th>\n",
       "      <td>MFG_NAM_AMNEAL PHARMACE</td>\n",
       "      <td>0.010000</td>\n",
       "    </tr>\n",
       "    <tr>\n",
       "      <th>15</th>\n",
       "      <td>BUY_GRP_NAM_SPURS</td>\n",
       "      <td>0.010000</td>\n",
       "    </tr>\n",
       "    <tr>\n",
       "      <th>14</th>\n",
       "      <td>BUY_GRP_NAM_LAKERS</td>\n",
       "      <td>0.010000</td>\n",
       "    </tr>\n",
       "    <tr>\n",
       "      <th>5</th>\n",
       "      <td>end_till_now</td>\n",
       "      <td>0.010000</td>\n",
       "    </tr>\n",
       "    <tr>\n",
       "      <th>13</th>\n",
       "      <td>BUY_GRP_NAM_KNICKS</td>\n",
       "      <td>0.010000</td>\n",
       "    </tr>\n",
       "  </tbody>\n",
       "</table>\n",
       "</div>"
      ],
      "text/plain": [
       "                                               Feature  Importance\n",
       "3                                        COGS_PRC_MTRC    0.560000\n",
       "0                                         NDC_QTY_MTRC    0.030000\n",
       "1                                           NDC_PKG_SZ    0.030000\n",
       "18                              BUY_GRP_NAM_WARRIERS      0.020000\n",
       "4                                       start_till_now    0.020000\n",
       "6                                 BUY_GRP_NAM_76ERS       0.020000\n",
       "150                              GCNSEQ_DSG_FORM_CD_TU    0.020000\n",
       "21             NDC_DESC_BUPRENORPHIN-NALOXON 8-2 MG SL    0.020000\n",
       "57                                 MFG_NAM_ALVOGEN INC    0.010000\n",
       "140                         GCNSEQ_RTE_OF_ADMIN_DESC_S    0.010000\n",
       "126  GCNSEQ_DESC_hydrocodone/acetaminophen ORAL TAB...    0.010000\n",
       "82                             MFG_NAM_RHODES PHARMACE    0.010000\n",
       "89                                    GCNSEQ_NBR_30623    0.010000\n",
       "90                                    GCNSEQ_NBR_48977    0.010000\n",
       "91                                    GCNSEQ_NBR_51641    0.010000\n",
       "59                             MFG_NAM_AMNEAL PHARMACE    0.010000\n",
       "15                                   BUY_GRP_NAM_SPURS    0.010000\n",
       "14                                  BUY_GRP_NAM_LAKERS    0.010000\n",
       "5                                         end_till_now    0.010000\n",
       "13                                  BUY_GRP_NAM_KNICKS    0.010000"
      ]
     },
     "execution_count": 201,
     "metadata": {},
     "output_type": "execute_result"
    }
   ],
   "source": [
    "feature_importances_df.head(20)"
   ]
  },
  {
   "cell_type": "markdown",
   "metadata": {},
   "source": [
    "While this is an accurate model, the classfication leaves much to be desired: \n",
    "- There are few distinctive categories for leakage, leaving us with only three. Perhaps a clustering algorithm can identify more categories.\n",
    "- Feature selection needs to be more robust.\n"
   ]
  },
  {
   "cell_type": "markdown",
   "metadata": {},
   "source": [
    "**However, we found out that COGS_PRC_MTRC( Cost of Goods Sold per item per unit) and GCNSEQ_NBR_51641 (Ingredient Sequence), Buying Groups (BUY_GRP__x__) play important roles in leakage. This confirmed that my intuitive approach in 2018 was going in the right direction.**\n",
    "\n",
    "**At the same time:**\n",
    "- Cost per unit plays a larger role than I previously discovered in my submission in 2018."
   ]
  }
 ],
 "metadata": {
  "kernelspec": {
   "display_name": "Python 3",
   "language": "python",
   "name": "python3"
  },
  "language_info": {
   "codemirror_mode": {
    "name": "ipython",
    "version": 3
   },
   "file_extension": ".py",
   "mimetype": "text/x-python",
   "name": "python",
   "nbconvert_exporter": "python",
   "pygments_lexer": "ipython3",
   "version": "3.7.3"
  },
  "toc": {
   "base_numbering": 1,
   "nav_menu": {},
   "number_sections": true,
   "sideBar": true,
   "skip_h1_title": false,
   "title_cell": "Table of Contents",
   "title_sidebar": "Contents",
   "toc_cell": true,
   "toc_position": {
    "height": "calc(100% - 180px)",
    "left": "10px",
    "top": "150px",
    "width": "256px"
   },
   "toc_section_display": true,
   "toc_window_display": true
  }
 },
 "nbformat": 4,
 "nbformat_minor": 2
}
